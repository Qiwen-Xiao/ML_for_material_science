{
  "nbformat": 4,
  "nbformat_minor": 0,
  "metadata": {
    "colab": {
      "provenance": []
    },
    "kernelspec": {
      "name": "python3",
      "display_name": "Python 3"
    },
    "language_info": {
      "name": "python"
    }
  },
  "cells": [
    {
      "cell_type": "code",
      "execution_count": 2,
      "metadata": {
        "id": "HDBPvfRicpj2"
      },
      "outputs": [],
      "source": [
        "from sklearn.model_selection import train_test_split, RandomizedSearchCV, cross_val_score\n",
        "from sklearn.metrics import confusion_matrix, classification_report, accuracy_score, roc_curve, auc"
      ]
    },
    {
      "cell_type": "code",
      "source": [
        "### Write your code here to load libraries ###\n",
        "import pandas as pd\n",
        "import numpy as np\n",
        "\n",
        "import plotly.express as px\n",
        "import matplotlib.pyplot as plt\n",
        "\n",
        "from sklearn.tree import DecisionTreeRegressor,DecisionTreeClassifier, plot_tree\n",
        "from sklearn.linear_model import LinearRegression, LogisticRegression\n",
        "from sklearn.ensemble import RandomForestClassifier\n",
        "from sklearn.svm import SVC,SVR\n",
        "from sklearn.model_selection import train_test_split\n",
        "from sklearn.metrics import confusion_matrix, ConfusionMatrixDisplay\n",
        "from scipy.stats import mode\n",
        "\n",
        "from sklearn.ensemble import RandomForestRegressor, RandomForestClassifier\n",
        "from sklearn.tree import plot_tree\n",
        "import plotly.graph_objects as go"
      ],
      "metadata": {
        "id": "JaUcxHVheXZw"
      },
      "execution_count": 3,
      "outputs": []
    },
    {
      "cell_type": "code",
      "source": [
        "# Mount google drive\n",
        "from google.colab import drive\n",
        "drive.mount('/content/drive')"
      ],
      "metadata": {
        "colab": {
          "base_uri": "https://localhost:8080/"
        },
        "id": "CNdXmDzgf7M5",
        "outputId": "fc78283c-9f95-48fd-c688-223fe9afcb3a"
      },
      "execution_count": 4,
      "outputs": [
        {
          "output_type": "stream",
          "name": "stdout",
          "text": [
            "Mounted at /content/drive\n"
          ]
        }
      ]
    },
    {
      "cell_type": "markdown",
      "source": [
        "/content/drive/MyDrive/\n"
      ],
      "metadata": {
        "id": "PzijzC91f7-O"
      }
    },
    {
      "cell_type": "code",
      "source": [
        "filepath = '/content/drive/MyDrive/ABX3_with_features.csv'\n",
        "df = pd.read_csv(filepath)\n",
        "df"
      ],
      "metadata": {
        "colab": {
          "base_uri": "https://localhost:8080/",
          "height": 1000
        },
        "id": "ZkBlE5A1eMis",
        "outputId": "41032a2f-2dcd-40d1-dfaf-59764359e763"
      },
      "execution_count": 5,
      "outputs": [
        {
          "output_type": "execute_result",
          "data": {
            "text/plain": [
              "      formula        mpid spacegroup.symbol  nature of band gap  \\\n",
              "0      BaSiO3  mp-1016821             Pm-3m                   0   \n",
              "1      CaHfO3  mp-1016873             Pm-3m                   0   \n",
              "2      CdSiO3  mp-1016879             Pm-3m                   0   \n",
              "3      CaGeO3  mp-1016884             Pm-3m                   0   \n",
              "4      CdGeO3  mp-1016903             Pm-3m                   0   \n",
              "...       ...         ...               ...                 ...   \n",
              "1523  SmBiTe3  mp-1219075               R3m                   1   \n",
              "1524  TbBiTe3  mp-1217576               R3m                   1   \n",
              "1525  TmBiTe3  mp-1216578               R3m                   0   \n",
              "1526   YBiTe3  mp-1215930               R3m                   1   \n",
              "1527   AlSiP3     mp-5168              Pnma                   0   \n",
              "\n",
              "                                              structure  \\\n",
              "0     Full Formula (Ba1 Si1 O3)\\nReduced Formula: Ba...   \n",
              "1     Full Formula (Ca1 Hf1 O3)\\nReduced Formula: Ca...   \n",
              "2     Full Formula (Cd1 Si1 O3)\\nReduced Formula: Cd...   \n",
              "3     Full Formula (Ca1 Ge1 O3)\\nReduced Formula: Ca...   \n",
              "4     Full Formula (Cd1 Ge1 O3)\\nReduced Formula: Cd...   \n",
              "...                                                 ...   \n",
              "1523  Full Formula (Sm1 Bi1 Te3)\\nReduced Formula: S...   \n",
              "1524  Full Formula (Tb1 Bi1 Te3)\\nReduced Formula: T...   \n",
              "1525  Full Formula (Tm1 Bi1 Te3)\\nReduced Formula: T...   \n",
              "1526  Full Formula (Y1 Bi1 Te3)\\nReduced Formula: YB...   \n",
              "1527  Full Formula (Al4 Si4 P12)\\nReduced Formula: A...   \n",
              "\n",
              "      mean absolute deviation in relative bond length  \\\n",
              "0                                            0.084158   \n",
              "1                                            0.084158   \n",
              "2                                            0.084158   \n",
              "3                                            0.084158   \n",
              "4                                            0.084158   \n",
              "...                                               ...   \n",
              "1523                                         0.047970   \n",
              "1524                                         0.051737   \n",
              "1525                                         0.060873   \n",
              "1526                                         0.051576   \n",
              "1527                                         0.037039   \n",
              "\n",
              "      max relative bond length  minimum neighbor distance variation  \\\n",
              "0                     1.116672                         0.000000e+00   \n",
              "1                     1.116672                         0.000000e+00   \n",
              "2                     1.116672                         0.000000e+00   \n",
              "3                     1.116672                         0.000000e+00   \n",
              "4                     1.116672                         1.170000e-16   \n",
              "...                        ...                                  ...   \n",
              "1523                  1.055738                         3.369491e-02   \n",
              "1524                  1.066324                         3.140903e-02   \n",
              "1525                  1.083545                         3.043264e-02   \n",
              "1526                  1.066604                         3.097145e-02   \n",
              "1527                  1.053260                         3.708489e-02   \n",
              "\n",
              "      maximum neighbor distance variation  \\\n",
              "0                                0.122408   \n",
              "1                                0.122408   \n",
              "2                                0.122408   \n",
              "3                                0.122408   \n",
              "4                                0.122408   \n",
              "...                                   ...   \n",
              "1523                             0.143611   \n",
              "1524                             0.153769   \n",
              "1525                             0.168952   \n",
              "1526                             0.153410   \n",
              "1527                             0.186211   \n",
              "\n",
              "      avg_dev neighbor distance variation  ... mean AtomicWeight  mean Column  \\\n",
              "0                                0.058756  ...         42.682140         12.8   \n",
              "1                                0.058756  ...         53.313240         10.8   \n",
              "2                                0.058756  ...         37.698940         14.8   \n",
              "3                                0.058756  ...         32.143240         12.8   \n",
              "4                                0.058756  ...         46.609840         14.8   \n",
              "...                                   ...  ...               ...          ...   \n",
              "1523                             0.041088  ...        148.428080         13.2   \n",
              "1524                             0.044467  ...        150.141150         13.2   \n",
              "1525                             0.050237  ...        152.142922         13.2   \n",
              "1526                             0.044369  ...        136.137250         13.2   \n",
              "1527                             0.044700  ...         29.597665         14.4   \n",
              "\n",
              "      range Number  range AtomicRadius  range Electronegativity  \\\n",
              "0               48                1.55                     2.55   \n",
              "1               64                1.20                     2.44   \n",
              "2               40                0.95                     1.75   \n",
              "3               24                1.20                     2.44   \n",
              "4               40                0.95                     1.75   \n",
              "...            ...                 ...                      ...   \n",
              "1523            31                0.45                     0.93   \n",
              "1524            31                0.35                     0.89   \n",
              "1525            31                0.35                     0.85   \n",
              "1526            44                0.40                     0.88   \n",
              "1527             2                0.25                     0.58   \n",
              "\n",
              "      avg s valence electrons  avg p valence electrons  \\\n",
              "0                         2.0                      2.8   \n",
              "1                         2.0                      2.4   \n",
              "2                         2.0                      2.8   \n",
              "3                         2.0                      2.8   \n",
              "4                         2.0                      2.8   \n",
              "...                       ...                      ...   \n",
              "1523                      2.0                      3.0   \n",
              "1524                      2.0                      3.0   \n",
              "1525                      2.0                      3.0   \n",
              "1526                      2.0                      3.0   \n",
              "1527                      2.0                      2.4   \n",
              "\n",
              "      avg d valence electrons  avg f valence electrons  \\\n",
              "0                         0.0                      0.0   \n",
              "1                         0.4                      2.8   \n",
              "2                         2.0                      0.0   \n",
              "3                         2.0                      0.0   \n",
              "4                         4.0                      0.0   \n",
              "...                       ...                      ...   \n",
              "1523                      8.0                      4.0   \n",
              "1524                      8.0                      4.6   \n",
              "1525                      8.0                      5.4   \n",
              "1526                      8.2                      2.8   \n",
              "1527                      0.0                      0.0   \n",
              "\n",
              "      frac s valence electrons  \n",
              "0                     0.416667  \n",
              "1                     0.263158  \n",
              "2                     0.294118  \n",
              "3                     0.294118  \n",
              "4                     0.227273  \n",
              "...                        ...  \n",
              "1523                  0.117647  \n",
              "1524                  0.113636  \n",
              "1525                  0.108696  \n",
              "1526                  0.125000  \n",
              "1527                  0.454545  \n",
              "\n",
              "[1528 rows x 124 columns]"
            ],
            "text/html": [
              "\n",
              "  <div id=\"df-28da2052-7e64-4f5f-9f84-9da53cebde96\">\n",
              "    <div class=\"colab-df-container\">\n",
              "      <div>\n",
              "<style scoped>\n",
              "    .dataframe tbody tr th:only-of-type {\n",
              "        vertical-align: middle;\n",
              "    }\n",
              "\n",
              "    .dataframe tbody tr th {\n",
              "        vertical-align: top;\n",
              "    }\n",
              "\n",
              "    .dataframe thead th {\n",
              "        text-align: right;\n",
              "    }\n",
              "</style>\n",
              "<table border=\"1\" class=\"dataframe\">\n",
              "  <thead>\n",
              "    <tr style=\"text-align: right;\">\n",
              "      <th></th>\n",
              "      <th>formula</th>\n",
              "      <th>mpid</th>\n",
              "      <th>spacegroup.symbol</th>\n",
              "      <th>nature of band gap</th>\n",
              "      <th>structure</th>\n",
              "      <th>mean absolute deviation in relative bond length</th>\n",
              "      <th>max relative bond length</th>\n",
              "      <th>minimum neighbor distance variation</th>\n",
              "      <th>maximum neighbor distance variation</th>\n",
              "      <th>avg_dev neighbor distance variation</th>\n",
              "      <th>...</th>\n",
              "      <th>mean AtomicWeight</th>\n",
              "      <th>mean Column</th>\n",
              "      <th>range Number</th>\n",
              "      <th>range AtomicRadius</th>\n",
              "      <th>range Electronegativity</th>\n",
              "      <th>avg s valence electrons</th>\n",
              "      <th>avg p valence electrons</th>\n",
              "      <th>avg d valence electrons</th>\n",
              "      <th>avg f valence electrons</th>\n",
              "      <th>frac s valence electrons</th>\n",
              "    </tr>\n",
              "  </thead>\n",
              "  <tbody>\n",
              "    <tr>\n",
              "      <th>0</th>\n",
              "      <td>BaSiO3</td>\n",
              "      <td>mp-1016821</td>\n",
              "      <td>Pm-3m</td>\n",
              "      <td>0</td>\n",
              "      <td>Full Formula (Ba1 Si1 O3)\\nReduced Formula: Ba...</td>\n",
              "      <td>0.084158</td>\n",
              "      <td>1.116672</td>\n",
              "      <td>0.000000e+00</td>\n",
              "      <td>0.122408</td>\n",
              "      <td>0.058756</td>\n",
              "      <td>...</td>\n",
              "      <td>42.682140</td>\n",
              "      <td>12.8</td>\n",
              "      <td>48</td>\n",
              "      <td>1.55</td>\n",
              "      <td>2.55</td>\n",
              "      <td>2.0</td>\n",
              "      <td>2.8</td>\n",
              "      <td>0.0</td>\n",
              "      <td>0.0</td>\n",
              "      <td>0.416667</td>\n",
              "    </tr>\n",
              "    <tr>\n",
              "      <th>1</th>\n",
              "      <td>CaHfO3</td>\n",
              "      <td>mp-1016873</td>\n",
              "      <td>Pm-3m</td>\n",
              "      <td>0</td>\n",
              "      <td>Full Formula (Ca1 Hf1 O3)\\nReduced Formula: Ca...</td>\n",
              "      <td>0.084158</td>\n",
              "      <td>1.116672</td>\n",
              "      <td>0.000000e+00</td>\n",
              "      <td>0.122408</td>\n",
              "      <td>0.058756</td>\n",
              "      <td>...</td>\n",
              "      <td>53.313240</td>\n",
              "      <td>10.8</td>\n",
              "      <td>64</td>\n",
              "      <td>1.20</td>\n",
              "      <td>2.44</td>\n",
              "      <td>2.0</td>\n",
              "      <td>2.4</td>\n",
              "      <td>0.4</td>\n",
              "      <td>2.8</td>\n",
              "      <td>0.263158</td>\n",
              "    </tr>\n",
              "    <tr>\n",
              "      <th>2</th>\n",
              "      <td>CdSiO3</td>\n",
              "      <td>mp-1016879</td>\n",
              "      <td>Pm-3m</td>\n",
              "      <td>0</td>\n",
              "      <td>Full Formula (Cd1 Si1 O3)\\nReduced Formula: Cd...</td>\n",
              "      <td>0.084158</td>\n",
              "      <td>1.116672</td>\n",
              "      <td>0.000000e+00</td>\n",
              "      <td>0.122408</td>\n",
              "      <td>0.058756</td>\n",
              "      <td>...</td>\n",
              "      <td>37.698940</td>\n",
              "      <td>14.8</td>\n",
              "      <td>40</td>\n",
              "      <td>0.95</td>\n",
              "      <td>1.75</td>\n",
              "      <td>2.0</td>\n",
              "      <td>2.8</td>\n",
              "      <td>2.0</td>\n",
              "      <td>0.0</td>\n",
              "      <td>0.294118</td>\n",
              "    </tr>\n",
              "    <tr>\n",
              "      <th>3</th>\n",
              "      <td>CaGeO3</td>\n",
              "      <td>mp-1016884</td>\n",
              "      <td>Pm-3m</td>\n",
              "      <td>0</td>\n",
              "      <td>Full Formula (Ca1 Ge1 O3)\\nReduced Formula: Ca...</td>\n",
              "      <td>0.084158</td>\n",
              "      <td>1.116672</td>\n",
              "      <td>0.000000e+00</td>\n",
              "      <td>0.122408</td>\n",
              "      <td>0.058756</td>\n",
              "      <td>...</td>\n",
              "      <td>32.143240</td>\n",
              "      <td>12.8</td>\n",
              "      <td>24</td>\n",
              "      <td>1.20</td>\n",
              "      <td>2.44</td>\n",
              "      <td>2.0</td>\n",
              "      <td>2.8</td>\n",
              "      <td>2.0</td>\n",
              "      <td>0.0</td>\n",
              "      <td>0.294118</td>\n",
              "    </tr>\n",
              "    <tr>\n",
              "      <th>4</th>\n",
              "      <td>CdGeO3</td>\n",
              "      <td>mp-1016903</td>\n",
              "      <td>Pm-3m</td>\n",
              "      <td>0</td>\n",
              "      <td>Full Formula (Cd1 Ge1 O3)\\nReduced Formula: Cd...</td>\n",
              "      <td>0.084158</td>\n",
              "      <td>1.116672</td>\n",
              "      <td>1.170000e-16</td>\n",
              "      <td>0.122408</td>\n",
              "      <td>0.058756</td>\n",
              "      <td>...</td>\n",
              "      <td>46.609840</td>\n",
              "      <td>14.8</td>\n",
              "      <td>40</td>\n",
              "      <td>0.95</td>\n",
              "      <td>1.75</td>\n",
              "      <td>2.0</td>\n",
              "      <td>2.8</td>\n",
              "      <td>4.0</td>\n",
              "      <td>0.0</td>\n",
              "      <td>0.227273</td>\n",
              "    </tr>\n",
              "    <tr>\n",
              "      <th>...</th>\n",
              "      <td>...</td>\n",
              "      <td>...</td>\n",
              "      <td>...</td>\n",
              "      <td>...</td>\n",
              "      <td>...</td>\n",
              "      <td>...</td>\n",
              "      <td>...</td>\n",
              "      <td>...</td>\n",
              "      <td>...</td>\n",
              "      <td>...</td>\n",
              "      <td>...</td>\n",
              "      <td>...</td>\n",
              "      <td>...</td>\n",
              "      <td>...</td>\n",
              "      <td>...</td>\n",
              "      <td>...</td>\n",
              "      <td>...</td>\n",
              "      <td>...</td>\n",
              "      <td>...</td>\n",
              "      <td>...</td>\n",
              "      <td>...</td>\n",
              "    </tr>\n",
              "    <tr>\n",
              "      <th>1523</th>\n",
              "      <td>SmBiTe3</td>\n",
              "      <td>mp-1219075</td>\n",
              "      <td>R3m</td>\n",
              "      <td>1</td>\n",
              "      <td>Full Formula (Sm1 Bi1 Te3)\\nReduced Formula: S...</td>\n",
              "      <td>0.047970</td>\n",
              "      <td>1.055738</td>\n",
              "      <td>3.369491e-02</td>\n",
              "      <td>0.143611</td>\n",
              "      <td>0.041088</td>\n",
              "      <td>...</td>\n",
              "      <td>148.428080</td>\n",
              "      <td>13.2</td>\n",
              "      <td>31</td>\n",
              "      <td>0.45</td>\n",
              "      <td>0.93</td>\n",
              "      <td>2.0</td>\n",
              "      <td>3.0</td>\n",
              "      <td>8.0</td>\n",
              "      <td>4.0</td>\n",
              "      <td>0.117647</td>\n",
              "    </tr>\n",
              "    <tr>\n",
              "      <th>1524</th>\n",
              "      <td>TbBiTe3</td>\n",
              "      <td>mp-1217576</td>\n",
              "      <td>R3m</td>\n",
              "      <td>1</td>\n",
              "      <td>Full Formula (Tb1 Bi1 Te3)\\nReduced Formula: T...</td>\n",
              "      <td>0.051737</td>\n",
              "      <td>1.066324</td>\n",
              "      <td>3.140903e-02</td>\n",
              "      <td>0.153769</td>\n",
              "      <td>0.044467</td>\n",
              "      <td>...</td>\n",
              "      <td>150.141150</td>\n",
              "      <td>13.2</td>\n",
              "      <td>31</td>\n",
              "      <td>0.35</td>\n",
              "      <td>0.89</td>\n",
              "      <td>2.0</td>\n",
              "      <td>3.0</td>\n",
              "      <td>8.0</td>\n",
              "      <td>4.6</td>\n",
              "      <td>0.113636</td>\n",
              "    </tr>\n",
              "    <tr>\n",
              "      <th>1525</th>\n",
              "      <td>TmBiTe3</td>\n",
              "      <td>mp-1216578</td>\n",
              "      <td>R3m</td>\n",
              "      <td>0</td>\n",
              "      <td>Full Formula (Tm1 Bi1 Te3)\\nReduced Formula: T...</td>\n",
              "      <td>0.060873</td>\n",
              "      <td>1.083545</td>\n",
              "      <td>3.043264e-02</td>\n",
              "      <td>0.168952</td>\n",
              "      <td>0.050237</td>\n",
              "      <td>...</td>\n",
              "      <td>152.142922</td>\n",
              "      <td>13.2</td>\n",
              "      <td>31</td>\n",
              "      <td>0.35</td>\n",
              "      <td>0.85</td>\n",
              "      <td>2.0</td>\n",
              "      <td>3.0</td>\n",
              "      <td>8.0</td>\n",
              "      <td>5.4</td>\n",
              "      <td>0.108696</td>\n",
              "    </tr>\n",
              "    <tr>\n",
              "      <th>1526</th>\n",
              "      <td>YBiTe3</td>\n",
              "      <td>mp-1215930</td>\n",
              "      <td>R3m</td>\n",
              "      <td>1</td>\n",
              "      <td>Full Formula (Y1 Bi1 Te3)\\nReduced Formula: YB...</td>\n",
              "      <td>0.051576</td>\n",
              "      <td>1.066604</td>\n",
              "      <td>3.097145e-02</td>\n",
              "      <td>0.153410</td>\n",
              "      <td>0.044369</td>\n",
              "      <td>...</td>\n",
              "      <td>136.137250</td>\n",
              "      <td>13.2</td>\n",
              "      <td>44</td>\n",
              "      <td>0.40</td>\n",
              "      <td>0.88</td>\n",
              "      <td>2.0</td>\n",
              "      <td>3.0</td>\n",
              "      <td>8.2</td>\n",
              "      <td>2.8</td>\n",
              "      <td>0.125000</td>\n",
              "    </tr>\n",
              "    <tr>\n",
              "      <th>1527</th>\n",
              "      <td>AlSiP3</td>\n",
              "      <td>mp-5168</td>\n",
              "      <td>Pnma</td>\n",
              "      <td>0</td>\n",
              "      <td>Full Formula (Al4 Si4 P12)\\nReduced Formula: A...</td>\n",
              "      <td>0.037039</td>\n",
              "      <td>1.053260</td>\n",
              "      <td>3.708489e-02</td>\n",
              "      <td>0.186211</td>\n",
              "      <td>0.044700</td>\n",
              "      <td>...</td>\n",
              "      <td>29.597665</td>\n",
              "      <td>14.4</td>\n",
              "      <td>2</td>\n",
              "      <td>0.25</td>\n",
              "      <td>0.58</td>\n",
              "      <td>2.0</td>\n",
              "      <td>2.4</td>\n",
              "      <td>0.0</td>\n",
              "      <td>0.0</td>\n",
              "      <td>0.454545</td>\n",
              "    </tr>\n",
              "  </tbody>\n",
              "</table>\n",
              "<p>1528 rows × 124 columns</p>\n",
              "</div>\n",
              "      <button class=\"colab-df-convert\" onclick=\"convertToInteractive('df-28da2052-7e64-4f5f-9f84-9da53cebde96')\"\n",
              "              title=\"Convert this dataframe to an interactive table.\"\n",
              "              style=\"display:none;\">\n",
              "        \n",
              "  <svg xmlns=\"http://www.w3.org/2000/svg\" height=\"24px\"viewBox=\"0 0 24 24\"\n",
              "       width=\"24px\">\n",
              "    <path d=\"M0 0h24v24H0V0z\" fill=\"none\"/>\n",
              "    <path d=\"M18.56 5.44l.94 2.06.94-2.06 2.06-.94-2.06-.94-.94-2.06-.94 2.06-2.06.94zm-11 1L8.5 8.5l.94-2.06 2.06-.94-2.06-.94L8.5 2.5l-.94 2.06-2.06.94zm10 10l.94 2.06.94-2.06 2.06-.94-2.06-.94-.94-2.06-.94 2.06-2.06.94z\"/><path d=\"M17.41 7.96l-1.37-1.37c-.4-.4-.92-.59-1.43-.59-.52 0-1.04.2-1.43.59L10.3 9.45l-7.72 7.72c-.78.78-.78 2.05 0 2.83L4 21.41c.39.39.9.59 1.41.59.51 0 1.02-.2 1.41-.59l7.78-7.78 2.81-2.81c.8-.78.8-2.07 0-2.86zM5.41 20L4 18.59l7.72-7.72 1.47 1.35L5.41 20z\"/>\n",
              "  </svg>\n",
              "      </button>\n",
              "      \n",
              "  <style>\n",
              "    .colab-df-container {\n",
              "      display:flex;\n",
              "      flex-wrap:wrap;\n",
              "      gap: 12px;\n",
              "    }\n",
              "\n",
              "    .colab-df-convert {\n",
              "      background-color: #E8F0FE;\n",
              "      border: none;\n",
              "      border-radius: 50%;\n",
              "      cursor: pointer;\n",
              "      display: none;\n",
              "      fill: #1967D2;\n",
              "      height: 32px;\n",
              "      padding: 0 0 0 0;\n",
              "      width: 32px;\n",
              "    }\n",
              "\n",
              "    .colab-df-convert:hover {\n",
              "      background-color: #E2EBFA;\n",
              "      box-shadow: 0px 1px 2px rgba(60, 64, 67, 0.3), 0px 1px 3px 1px rgba(60, 64, 67, 0.15);\n",
              "      fill: #174EA6;\n",
              "    }\n",
              "\n",
              "    [theme=dark] .colab-df-convert {\n",
              "      background-color: #3B4455;\n",
              "      fill: #D2E3FC;\n",
              "    }\n",
              "\n",
              "    [theme=dark] .colab-df-convert:hover {\n",
              "      background-color: #434B5C;\n",
              "      box-shadow: 0px 1px 3px 1px rgba(0, 0, 0, 0.15);\n",
              "      filter: drop-shadow(0px 1px 2px rgba(0, 0, 0, 0.3));\n",
              "      fill: #FFFFFF;\n",
              "    }\n",
              "  </style>\n",
              "\n",
              "      <script>\n",
              "        const buttonEl =\n",
              "          document.querySelector('#df-28da2052-7e64-4f5f-9f84-9da53cebde96 button.colab-df-convert');\n",
              "        buttonEl.style.display =\n",
              "          google.colab.kernel.accessAllowed ? 'block' : 'none';\n",
              "\n",
              "        async function convertToInteractive(key) {\n",
              "          const element = document.querySelector('#df-28da2052-7e64-4f5f-9f84-9da53cebde96');\n",
              "          const dataTable =\n",
              "            await google.colab.kernel.invokeFunction('convertToInteractive',\n",
              "                                                     [key], {});\n",
              "          if (!dataTable) return;\n",
              "\n",
              "          const docLinkHtml = 'Like what you see? Visit the ' +\n",
              "            '<a target=\"_blank\" href=https://colab.research.google.com/notebooks/data_table.ipynb>data table notebook</a>'\n",
              "            + ' to learn more about interactive tables.';\n",
              "          element.innerHTML = '';\n",
              "          dataTable['output_type'] = 'display_data';\n",
              "          await google.colab.output.renderOutput(dataTable, element);\n",
              "          const docLink = document.createElement('div');\n",
              "          docLink.innerHTML = docLinkHtml;\n",
              "          element.appendChild(docLink);\n",
              "        }\n",
              "      </script>\n",
              "    </div>\n",
              "  </div>\n",
              "  "
            ]
          },
          "metadata": {},
          "execution_count": 5
        }
      ]
    },
    {
      "cell_type": "code",
      "source": [
        "dataset = df.drop(['formula', 'mpid', 'composition', 'structure', 'spacegroup.symbol', 'nature of band gap'], axis=1)\n",
        "con = df['nature of band gap']"
      ],
      "metadata": {
        "id": "SPGSZcttge28"
      },
      "execution_count": 6,
      "outputs": []
    },
    {
      "cell_type": "code",
      "source": [
        "from sklearn.preprocessing import StandardScaler\n",
        "ss = StandardScaler()\n",
        "Pt = ss.fit_transform(dataset)\n",
        "dataset = pd.DataFrame(Pt, columns=dataset.columns)"
      ],
      "metadata": {
        "id": "4LFLbcCige6G"
      },
      "execution_count": 7,
      "outputs": []
    },
    {
      "cell_type": "code",
      "source": [
        "from sklearn.ensemble import RandomForestClassifier\n",
        "rf=RandomForestClassifier(random_state=0)"
      ],
      "metadata": {
        "id": "U4G9XqpbhRey"
      },
      "execution_count": 8,
      "outputs": []
    },
    {
      "cell_type": "code",
      "source": [
        "params = {'bootstrap': [True, False], 'n_estimators': [100,200,400,500,1000], 'max_depth': [10,20,30,40,50,60,70,80,90,100,None], 'max_features': ['auto', 'sqrt'],\n",
        "          'min_samples_leaf': [1,2,4], 'min_samples_split': [2, 5, 10],'n_estimators': [100, 200, 400, 500,1000]}"
      ],
      "metadata": {
        "id": "zY8Md6ybhRjx"
      },
      "execution_count": 43,
      "outputs": []
    },
    {
      "cell_type": "code",
      "source": [
        "rf_op = RandomizedSearchCV(rf, params, n_iter=20, cv=10, scoring='accuracy', random_state=0, verbose=1, n_jobs=-1)\n",
        "rf_op.fit(dataset,con)\n",
        "rf_op.best_params_"
      ],
      "metadata": {
        "id": "iK9p6br_h6_o",
        "colab": {
          "base_uri": "https://localhost:8080/"
        },
        "outputId": "563bb0b6-830e-4eea-eb7a-3e0c78687cfb"
      },
      "execution_count": 44,
      "outputs": [
        {
          "output_type": "stream",
          "name": "stdout",
          "text": [
            "Fitting 10 folds for each of 20 candidates, totalling 200 fits\n"
          ]
        },
        {
          "output_type": "stream",
          "name": "stderr",
          "text": [
            "/usr/local/lib/python3.10/dist-packages/sklearn/ensemble/_forest.py:424: FutureWarning: `max_features='auto'` has been deprecated in 1.1 and will be removed in 1.3. To keep the past behaviour, explicitly set `max_features='sqrt'` or remove this parameter as it is also the default value for RandomForestClassifiers and ExtraTreesClassifiers.\n",
            "  warn(\n"
          ]
        },
        {
          "output_type": "execute_result",
          "data": {
            "text/plain": [
              "{'n_estimators': 1000,\n",
              " 'min_samples_split': 2,\n",
              " 'min_samples_leaf': 1,\n",
              " 'max_features': 'auto',\n",
              " 'max_depth': 70,\n",
              " 'bootstrap': False}"
            ]
          },
          "metadata": {},
          "execution_count": 44
        }
      ]
    },
    {
      "cell_type": "code",
      "source": [
        "rf = RandomForestClassifier(random_state=0, n_estimators=1000, min_samples_split=2, min_samples_leaf=1, max_features='auto', max_depth=70, bootstrap=False)"
      ],
      "metadata": {
        "id": "36UsJUnMhwmY"
      },
      "execution_count": 9,
      "outputs": []
    },
    {
      "cell_type": "code",
      "source": [
        "arr = cross_val_score(rf, dataset, con, cv=10)\n",
        "arr"
      ],
      "metadata": {
        "id": "HrieNMcQhwpR",
        "colab": {
          "base_uri": "https://localhost:8080/"
        },
        "outputId": "2babd673-f7bd-4989-b9d8-83e42c3a1d55"
      },
      "execution_count": 77,
      "outputs": [
        {
          "output_type": "stream",
          "name": "stderr",
          "text": [
            "/usr/local/lib/python3.10/dist-packages/sklearn/ensemble/_forest.py:424: FutureWarning: `max_features='auto'` has been deprecated in 1.1 and will be removed in 1.3. To keep the past behaviour, explicitly set `max_features='sqrt'` or remove this parameter as it is also the default value for RandomForestClassifiers and ExtraTreesClassifiers.\n",
            "  warn(\n",
            "/usr/local/lib/python3.10/dist-packages/sklearn/ensemble/_forest.py:424: FutureWarning: `max_features='auto'` has been deprecated in 1.1 and will be removed in 1.3. To keep the past behaviour, explicitly set `max_features='sqrt'` or remove this parameter as it is also the default value for RandomForestClassifiers and ExtraTreesClassifiers.\n",
            "  warn(\n",
            "/usr/local/lib/python3.10/dist-packages/sklearn/ensemble/_forest.py:424: FutureWarning: `max_features='auto'` has been deprecated in 1.1 and will be removed in 1.3. To keep the past behaviour, explicitly set `max_features='sqrt'` or remove this parameter as it is also the default value for RandomForestClassifiers and ExtraTreesClassifiers.\n",
            "  warn(\n",
            "/usr/local/lib/python3.10/dist-packages/sklearn/ensemble/_forest.py:424: FutureWarning: `max_features='auto'` has been deprecated in 1.1 and will be removed in 1.3. To keep the past behaviour, explicitly set `max_features='sqrt'` or remove this parameter as it is also the default value for RandomForestClassifiers and ExtraTreesClassifiers.\n",
            "  warn(\n",
            "/usr/local/lib/python3.10/dist-packages/sklearn/ensemble/_forest.py:424: FutureWarning: `max_features='auto'` has been deprecated in 1.1 and will be removed in 1.3. To keep the past behaviour, explicitly set `max_features='sqrt'` or remove this parameter as it is also the default value for RandomForestClassifiers and ExtraTreesClassifiers.\n",
            "  warn(\n",
            "/usr/local/lib/python3.10/dist-packages/sklearn/ensemble/_forest.py:424: FutureWarning: `max_features='auto'` has been deprecated in 1.1 and will be removed in 1.3. To keep the past behaviour, explicitly set `max_features='sqrt'` or remove this parameter as it is also the default value for RandomForestClassifiers and ExtraTreesClassifiers.\n",
            "  warn(\n",
            "/usr/local/lib/python3.10/dist-packages/sklearn/ensemble/_forest.py:424: FutureWarning: `max_features='auto'` has been deprecated in 1.1 and will be removed in 1.3. To keep the past behaviour, explicitly set `max_features='sqrt'` or remove this parameter as it is also the default value for RandomForestClassifiers and ExtraTreesClassifiers.\n",
            "  warn(\n",
            "/usr/local/lib/python3.10/dist-packages/sklearn/ensemble/_forest.py:424: FutureWarning: `max_features='auto'` has been deprecated in 1.1 and will be removed in 1.3. To keep the past behaviour, explicitly set `max_features='sqrt'` or remove this parameter as it is also the default value for RandomForestClassifiers and ExtraTreesClassifiers.\n",
            "  warn(\n",
            "/usr/local/lib/python3.10/dist-packages/sklearn/ensemble/_forest.py:424: FutureWarning: `max_features='auto'` has been deprecated in 1.1 and will be removed in 1.3. To keep the past behaviour, explicitly set `max_features='sqrt'` or remove this parameter as it is also the default value for RandomForestClassifiers and ExtraTreesClassifiers.\n",
            "  warn(\n",
            "/usr/local/lib/python3.10/dist-packages/sklearn/ensemble/_forest.py:424: FutureWarning: `max_features='auto'` has been deprecated in 1.1 and will be removed in 1.3. To keep the past behaviour, explicitly set `max_features='sqrt'` or remove this parameter as it is also the default value for RandomForestClassifiers and ExtraTreesClassifiers.\n",
            "  warn(\n"
          ]
        },
        {
          "output_type": "execute_result",
          "data": {
            "text/plain": [
              "array([0.75816993, 0.75163399, 0.76470588, 0.75816993, 0.77777778,\n",
              "       0.75816993, 0.81699346, 0.49019608, 0.73026316, 0.73026316])"
            ]
          },
          "metadata": {},
          "execution_count": 77
        }
      ]
    },
    {
      "cell_type": "code",
      "source": [
        "rf_acc = np.mean(arr)"
      ],
      "metadata": {
        "id": "KxjFn8uNhwsE"
      },
      "execution_count": 78,
      "outputs": []
    },
    {
      "cell_type": "code",
      "source": [
        "from sklearn.linear_model import LogisticRegression\n",
        "lr=LogisticRegression()"
      ],
      "metadata": {
        "id": "iAVbCulzUeEX"
      },
      "execution_count": 10,
      "outputs": []
    },
    {
      "cell_type": "code",
      "source": [
        "params = {'max_iter': [100,110,120,130,140], 'dual': [True,False]}"
      ],
      "metadata": {
        "id": "lg0OmAgZUeLp"
      },
      "execution_count": 25,
      "outputs": []
    },
    {
      "cell_type": "code",
      "source": [
        "lr_op = RandomizedSearchCV(lr, params, n_iter=10, cv=10, scoring='precision', random_state=0, n_jobs=-1, verbose=1)\n",
        "lr_op.fit(dataset,con)\n",
        "lr_op.best_params_"
      ],
      "metadata": {
        "id": "uCxC8Q-cUeOW",
        "colab": {
          "base_uri": "https://localhost:8080/"
        },
        "outputId": "07ef3478-3786-4ace-d615-8d75d71e1a3a"
      },
      "execution_count": 27,
      "outputs": [
        {
          "output_type": "stream",
          "name": "stdout",
          "text": [
            "Fitting 10 folds for each of 10 candidates, totalling 100 fits\n"
          ]
        },
        {
          "output_type": "stream",
          "name": "stderr",
          "text": [
            "/usr/local/lib/python3.10/dist-packages/sklearn/model_selection/_validation.py:378: FitFailedWarning: \n",
            "50 fits failed out of a total of 100.\n",
            "The score on these train-test partitions for these parameters will be set to nan.\n",
            "If these failures are not expected, you can try to debug them by setting error_score='raise'.\n",
            "\n",
            "Below are more details about the failures:\n",
            "--------------------------------------------------------------------------------\n",
            "50 fits failed with the following error:\n",
            "Traceback (most recent call last):\n",
            "  File \"/usr/local/lib/python3.10/dist-packages/sklearn/model_selection/_validation.py\", line 686, in _fit_and_score\n",
            "    estimator.fit(X_train, y_train, **fit_params)\n",
            "  File \"/usr/local/lib/python3.10/dist-packages/sklearn/linear_model/_logistic.py\", line 1162, in fit\n",
            "    solver = _check_solver(self.solver, self.penalty, self.dual)\n",
            "  File \"/usr/local/lib/python3.10/dist-packages/sklearn/linear_model/_logistic.py\", line 59, in _check_solver\n",
            "    raise ValueError(\n",
            "ValueError: Solver lbfgs supports only dual=False, got dual=True\n",
            "\n",
            "  warnings.warn(some_fits_failed_message, FitFailedWarning)\n",
            "/usr/local/lib/python3.10/dist-packages/sklearn/model_selection/_search.py:952: UserWarning: One or more of the test scores are non-finite: [       nan        nan        nan        nan        nan 0.44502977\n",
            " 0.44502977 0.44502977 0.44502977 0.44502977]\n",
            "  warnings.warn(\n"
          ]
        },
        {
          "output_type": "execute_result",
          "data": {
            "text/plain": [
              "{'max_iter': 100, 'dual': False}"
            ]
          },
          "metadata": {},
          "execution_count": 27
        }
      ]
    },
    {
      "cell_type": "code",
      "source": [
        "lr = LogisticRegression(max_iter=100, dual=False)"
      ],
      "metadata": {
        "id": "97yOB43NUeV2"
      },
      "execution_count": 11,
      "outputs": []
    },
    {
      "cell_type": "code",
      "source": [
        "arr = cross_val_score(lr, dataset, con, cv=10)\n",
        "arr"
      ],
      "metadata": {
        "id": "zZXRo7eTUeZi",
        "colab": {
          "base_uri": "https://localhost:8080/"
        },
        "outputId": "6454a952-4d20-4b23-f479-a45fbc59a66c"
      },
      "execution_count": 80,
      "outputs": [
        {
          "output_type": "execute_result",
          "data": {
            "text/plain": [
              "array([0.75816993, 0.75816993, 0.69934641, 0.67320261, 0.60784314,\n",
              "       0.75816993, 0.63398693, 0.52287582, 0.67105263, 0.64473684])"
            ]
          },
          "metadata": {},
          "execution_count": 80
        }
      ]
    },
    {
      "cell_type": "code",
      "source": [
        "lr_acc = np.mean(arr)"
      ],
      "metadata": {
        "id": "nBN1-0COUeeo"
      },
      "execution_count": 81,
      "outputs": []
    },
    {
      "cell_type": "code",
      "source": [
        "from sklearn.svm import SVC\n",
        "svc=SVC()"
      ],
      "metadata": {
        "id": "ZOzogpR7VF22"
      },
      "execution_count": 12,
      "outputs": []
    },
    {
      "cell_type": "code",
      "source": [
        "params = {'C': [0.1,1,10,100,1000], 'gamma': [1,0.1,0.01,0.001,0.0001]}"
      ],
      "metadata": {
        "id": "-zZ7ePjKVF55"
      },
      "execution_count": 32,
      "outputs": []
    },
    {
      "cell_type": "code",
      "source": [
        "svc_op = RandomizedSearchCV(svc, params, n_iter=20, cv=10, scoring='accuracy', random_state=0, verbose=1, n_jobs=-1)\n",
        "svc_op.fit(dataset,con)\n",
        "svc_op.best_params_"
      ],
      "metadata": {
        "id": "0unB68MwVF9v",
        "colab": {
          "base_uri": "https://localhost:8080/"
        },
        "outputId": "cf74bd7e-4f9b-4aec-88ce-23d9543df0bb"
      },
      "execution_count": 33,
      "outputs": [
        {
          "output_type": "stream",
          "name": "stdout",
          "text": [
            "Fitting 10 folds for each of 20 candidates, totalling 200 fits\n"
          ]
        },
        {
          "output_type": "execute_result",
          "data": {
            "text/plain": [
              "{'gamma': 0.001, 'C': 1}"
            ]
          },
          "metadata": {},
          "execution_count": 33
        }
      ]
    },
    {
      "cell_type": "code",
      "source": [
        "svc = SVC(gamma=0.001, C=1)"
      ],
      "metadata": {
        "id": "CcVr9sCNVGGd"
      },
      "execution_count": 13,
      "outputs": []
    },
    {
      "cell_type": "code",
      "source": [
        "arr = cross_val_score(svc, dataset, con, cv=10)\n",
        "arr"
      ],
      "metadata": {
        "id": "8X2vMZ7gVGIZ",
        "colab": {
          "base_uri": "https://localhost:8080/"
        },
        "outputId": "473818eb-11b7-4f5d-803d-a0c52d9e4db6"
      },
      "execution_count": 83,
      "outputs": [
        {
          "output_type": "execute_result",
          "data": {
            "text/plain": [
              "array([0.73202614, 0.73202614, 0.73202614, 0.73202614, 0.74509804,\n",
              "       0.7254902 , 0.7254902 , 0.7254902 , 0.73026316, 0.72368421])"
            ]
          },
          "metadata": {},
          "execution_count": 83
        }
      ]
    },
    {
      "cell_type": "code",
      "source": [
        "svc_acc = np.mean(arr)"
      ],
      "metadata": {
        "id": "LlRCVDKhVGKh"
      },
      "execution_count": 84,
      "outputs": []
    },
    {
      "cell_type": "code",
      "source": [
        "from sklearn.neural_network import MLPClassifier"
      ],
      "metadata": {
        "id": "bthenkZrVZTb"
      },
      "execution_count": 14,
      "outputs": []
    },
    {
      "cell_type": "code",
      "source": [
        "ann = MLPClassifier(random_state=0)"
      ],
      "metadata": {
        "id": "5sUyOHqJVZYS"
      },
      "execution_count": 38,
      "outputs": []
    },
    {
      "cell_type": "code",
      "source": [
        "params = {'hidden_layer_sizes': [(10,10,10), (20,20,20), (20,10,10)], 'activation': ['tanh', 'relu'], 'solver': ['sgd', 'adam'], 'alpha': [0.0001, 0.05],'learning_rate': ['constant','adaptive']}"
      ],
      "metadata": {
        "id": "zj1lnlBwVZcB"
      },
      "execution_count": 41,
      "outputs": []
    },
    {
      "cell_type": "code",
      "source": [
        "ann_op = RandomizedSearchCV(ann, params, n_iter=10, cv=10, scoring='accuracy', verbose=1, random_state=0, n_jobs=-1)\n",
        "ann_op.fit(dataset, con)\n",
        "ann_op.best_params_"
      ],
      "metadata": {
        "id": "T7ytIrSnVZfq",
        "colab": {
          "base_uri": "https://localhost:8080/"
        },
        "outputId": "6176ef61-9097-4910-d8cf-b01f499cd35a"
      },
      "execution_count": 42,
      "outputs": [
        {
          "output_type": "stream",
          "name": "stdout",
          "text": [
            "Fitting 10 folds for each of 10 candidates, totalling 100 fits\n"
          ]
        },
        {
          "output_type": "stream",
          "name": "stderr",
          "text": [
            "/usr/local/lib/python3.10/dist-packages/sklearn/neural_network/_multilayer_perceptron.py:686: ConvergenceWarning: Stochastic Optimizer: Maximum iterations (200) reached and the optimization hasn't converged yet.\n",
            "  warnings.warn(\n"
          ]
        },
        {
          "output_type": "execute_result",
          "data": {
            "text/plain": [
              "{'solver': 'sgd',\n",
              " 'learning_rate': 'adaptive',\n",
              " 'hidden_layer_sizes': (10, 10, 10),\n",
              " 'alpha': 0.0001,\n",
              " 'activation': 'relu'}"
            ]
          },
          "metadata": {},
          "execution_count": 42
        }
      ]
    },
    {
      "cell_type": "code",
      "source": [
        "ann = MLPClassifier(random_state=0, solver='sgd', learning_rate='adaptive', hidden_layer_sizes=(10,10,10), alpha=0.0001, activation='relu')"
      ],
      "metadata": {
        "id": "gRMHc-udVpk0"
      },
      "execution_count": 15,
      "outputs": []
    },
    {
      "cell_type": "code",
      "source": [
        "arr = cross_val_score(ann, dataset, con, cv=10)\n",
        "arr"
      ],
      "metadata": {
        "id": "kwWPMfe1Vpox",
        "colab": {
          "base_uri": "https://localhost:8080/"
        },
        "outputId": "4160c21f-3105-4e37-e187-c61c14a2d0b6"
      },
      "execution_count": 86,
      "outputs": [
        {
          "output_type": "stream",
          "name": "stderr",
          "text": [
            "/usr/local/lib/python3.10/dist-packages/sklearn/neural_network/_multilayer_perceptron.py:686: ConvergenceWarning: Stochastic Optimizer: Maximum iterations (200) reached and the optimization hasn't converged yet.\n",
            "  warnings.warn(\n",
            "/usr/local/lib/python3.10/dist-packages/sklearn/neural_network/_multilayer_perceptron.py:686: ConvergenceWarning: Stochastic Optimizer: Maximum iterations (200) reached and the optimization hasn't converged yet.\n",
            "  warnings.warn(\n",
            "/usr/local/lib/python3.10/dist-packages/sklearn/neural_network/_multilayer_perceptron.py:686: ConvergenceWarning: Stochastic Optimizer: Maximum iterations (200) reached and the optimization hasn't converged yet.\n",
            "  warnings.warn(\n",
            "/usr/local/lib/python3.10/dist-packages/sklearn/neural_network/_multilayer_perceptron.py:686: ConvergenceWarning: Stochastic Optimizer: Maximum iterations (200) reached and the optimization hasn't converged yet.\n",
            "  warnings.warn(\n",
            "/usr/local/lib/python3.10/dist-packages/sklearn/neural_network/_multilayer_perceptron.py:686: ConvergenceWarning: Stochastic Optimizer: Maximum iterations (200) reached and the optimization hasn't converged yet.\n",
            "  warnings.warn(\n",
            "/usr/local/lib/python3.10/dist-packages/sklearn/neural_network/_multilayer_perceptron.py:686: ConvergenceWarning: Stochastic Optimizer: Maximum iterations (200) reached and the optimization hasn't converged yet.\n",
            "  warnings.warn(\n",
            "/usr/local/lib/python3.10/dist-packages/sklearn/neural_network/_multilayer_perceptron.py:686: ConvergenceWarning: Stochastic Optimizer: Maximum iterations (200) reached and the optimization hasn't converged yet.\n",
            "  warnings.warn(\n",
            "/usr/local/lib/python3.10/dist-packages/sklearn/neural_network/_multilayer_perceptron.py:686: ConvergenceWarning: Stochastic Optimizer: Maximum iterations (200) reached and the optimization hasn't converged yet.\n",
            "  warnings.warn(\n",
            "/usr/local/lib/python3.10/dist-packages/sklearn/neural_network/_multilayer_perceptron.py:686: ConvergenceWarning: Stochastic Optimizer: Maximum iterations (200) reached and the optimization hasn't converged yet.\n",
            "  warnings.warn(\n",
            "/usr/local/lib/python3.10/dist-packages/sklearn/neural_network/_multilayer_perceptron.py:686: ConvergenceWarning: Stochastic Optimizer: Maximum iterations (200) reached and the optimization hasn't converged yet.\n",
            "  warnings.warn(\n"
          ]
        },
        {
          "output_type": "execute_result",
          "data": {
            "text/plain": [
              "array([0.73202614, 0.73202614, 0.73202614, 0.73202614, 0.73202614,\n",
              "       0.7254902 , 0.7254902 , 0.7254902 , 0.73026316, 0.73026316])"
            ]
          },
          "metadata": {},
          "execution_count": 86
        }
      ]
    },
    {
      "cell_type": "code",
      "source": [
        "ann_acc = np.mean(arr)"
      ],
      "metadata": {
        "id": "D3BZqlnSVps9"
      },
      "execution_count": 87,
      "outputs": []
    },
    {
      "cell_type": "code",
      "source": [
        "from sklearn.tree import DecisionTreeClassifier\n",
        "dtc = DecisionTreeClassifier(random_state=0)"
      ],
      "metadata": {
        "id": "PGK9wnpqVpx5"
      },
      "execution_count": 16,
      "outputs": []
    },
    {
      "cell_type": "code",
      "source": [
        "params = {'max_depth': [2, 3, 5, 10, 20], 'min_samples_leaf': [5, 10, 20, 50, 100], 'criterion': [\"gini\", \"entropy\"]}"
      ],
      "metadata": {
        "id": "oPs8sEmnVp0s"
      },
      "execution_count": 56,
      "outputs": []
    },
    {
      "cell_type": "code",
      "source": [
        "dtc_op = RandomizedSearchCV(dtc, params, n_iter=20, cv=10, scoring='accuracy', random_state=0, verbose=1, n_jobs=-1)\n",
        "dtc_op.fit(dataset, con)\n",
        "dtc_op.best_params_6"
      ],
      "metadata": {
        "id": "MBX7I_8LVp36",
        "colab": {
          "base_uri": "https://localhost:8080/"
        },
        "outputId": "88647682-d857-43e9-f8f3-5c2dcef2ac0f"
      },
      "execution_count": 57,
      "outputs": [
        {
          "output_type": "stream",
          "name": "stdout",
          "text": [
            "Fitting 10 folds for each of 20 candidates, totalling 200 fits\n"
          ]
        },
        {
          "output_type": "execute_result",
          "data": {
            "text/plain": [
              "{'min_samples_leaf': 20, 'max_depth': 2, 'criterion': 'gini'}"
            ]
          },
          "metadata": {},
          "execution_count": 57
        }
      ]
    },
    {
      "cell_type": "code",
      "source": [
        "dtc = DecisionTreeClassifier(random_state=0, max_depth=2, criterion='gini', min_samples_leaf=20)"
      ],
      "metadata": {
        "id": "P9PittUUV1Hw"
      },
      "execution_count": 17,
      "outputs": []
    },
    {
      "cell_type": "code",
      "source": [
        "arr = cross_val_score(dtc, dataset, con, cv=10)\n",
        "arr"
      ],
      "metadata": {
        "id": "lV1K-T92V1KM",
        "colab": {
          "base_uri": "https://localhost:8080/"
        },
        "outputId": "2b291e4c-25dd-49bf-8aad-03dca2691ebf"
      },
      "execution_count": 89,
      "outputs": [
        {
          "output_type": "execute_result",
          "data": {
            "text/plain": [
              "array([0.75816993, 0.73856209, 0.7254902 , 0.70588235, 0.77777778,\n",
              "       0.73856209, 0.7254902 , 0.7254902 , 0.73684211, 0.78289474])"
            ]
          },
          "metadata": {},
          "execution_count": 89
        }
      ]
    },
    {
      "cell_type": "code",
      "source": [
        "dtc_acc = np.mean(arr)"
      ],
      "metadata": {
        "id": "zPhbXp3MV1M1"
      },
      "execution_count": 90,
      "outputs": []
    },
    {
      "cell_type": "code",
      "source": [
        "from sklearn.ensemble import GradientBoostingClassifier\n",
        "gbc = GradientBoostingClassifier(random_state=0)"
      ],
      "metadata": {
        "id": "X794Kf_hV9FH"
      },
      "execution_count": 18,
      "outputs": []
    },
    {
      "cell_type": "code",
      "source": [
        "params = {'n_estimators': [100,200,500,1000,2000], 'learning_rate': [0.01,0.1,1,10,100], 'max_depth': [1,3,5,7,9]}"
      ],
      "metadata": {
        "id": "L648joAIV9Ib"
      },
      "execution_count": 62,
      "outputs": []
    },
    {
      "cell_type": "code",
      "source": [
        "gbc_op = RandomizedSearchCV(gbc, params, n_iter=20, cv=10, scoring='accuracy', n_jobs=-1, random_state=0, verbose=1)\n",
        "gbc_op.fit(dataset, con)\n",
        "gbc_op.best_params_"
      ],
      "metadata": {
        "id": "4Phl2mc-V9LZ",
        "colab": {
          "base_uri": "https://localhost:8080/"
        },
        "outputId": "69a2fa98-6629-4edf-842c-6a7d7dcf4961"
      },
      "execution_count": 63,
      "outputs": [
        {
          "output_type": "stream",
          "name": "stdout",
          "text": [
            "Fitting 10 folds for each of 20 candidates, totalling 200 fits\n"
          ]
        },
        {
          "output_type": "execute_result",
          "data": {
            "text/plain": [
              "{'n_estimators': 500, 'max_depth': 1, 'learning_rate': 0.01}"
            ]
          },
          "metadata": {},
          "execution_count": 63
        }
      ]
    },
    {
      "cell_type": "code",
      "source": [
        "gbc = GradientBoostingClassifier(random_state=0, n_estimators=500, max_depth=1, learning_rate=0.01)"
      ],
      "metadata": {
        "id": "qI6fJT_hV9Tz"
      },
      "execution_count": 19,
      "outputs": []
    },
    {
      "cell_type": "code",
      "source": [
        "arr = cross_val_score(gbc, dataset, con, cv=10)\n",
        "arr"
      ],
      "metadata": {
        "id": "7hTWoWy_V9Wb",
        "colab": {
          "base_uri": "https://localhost:8080/"
        },
        "outputId": "0d2b1990-d863-4e57-a639-cb61d339e420"
      },
      "execution_count": 92,
      "outputs": [
        {
          "output_type": "execute_result",
          "data": {
            "text/plain": [
              "array([0.73202614, 0.75163399, 0.74509804, 0.71895425, 0.7254902 ,\n",
              "       0.7254902 , 0.73202614, 0.7254902 , 0.73026316, 0.73026316])"
            ]
          },
          "metadata": {},
          "execution_count": 92
        }
      ]
    },
    {
      "cell_type": "code",
      "source": [
        "gbc_acc = np.mean(arr)"
      ],
      "metadata": {
        "id": "CKEdCfW2WI5w"
      },
      "execution_count": 93,
      "outputs": []
    },
    {
      "cell_type": "code",
      "source": [
        "data = {'Algorithm': ['Random Forest', 'Logistic Regression', 'Support Vector Classification', 'Artificial Neural Network (ANN)', 'Decision Tree','Gradient Boosting Classification'] ,\n",
        "    'Avarge accuracy':[rf_acc, lr_acc, svc_acc, ann_acc,dtc_acc,gbc_acc]}\n",
        "d = pd.DataFrame(data)\n",
        "# display the results in a table\n",
        "display(d)"
      ],
      "metadata": {
        "colab": {
          "base_uri": "https://localhost:8080/",
          "height": 237
        },
        "id": "fxJ1b_5UpKBo",
        "outputId": "3b975ff7-0f65-41ab-c92b-1aa9b08a267a"
      },
      "execution_count": 98,
      "outputs": [
        {
          "output_type": "display_data",
          "data": {
            "text/plain": [
              "                          Algorithm  Avarge accuracy\n",
              "0                     Random Forest         0.733634\n",
              "1               Logistic Regression         0.672755\n",
              "2     Support Vector Classification         0.730362\n",
              "3   Artificial Neural Network (ANN)         0.729713\n",
              "4                     Decision Tree         0.741516\n",
              "5  Gradient Boosting Classification         0.731674"
            ],
            "text/html": [
              "\n",
              "  <div id=\"df-2a55c84f-473a-4701-9fc4-cd3ba3860795\">\n",
              "    <div class=\"colab-df-container\">\n",
              "      <div>\n",
              "<style scoped>\n",
              "    .dataframe tbody tr th:only-of-type {\n",
              "        vertical-align: middle;\n",
              "    }\n",
              "\n",
              "    .dataframe tbody tr th {\n",
              "        vertical-align: top;\n",
              "    }\n",
              "\n",
              "    .dataframe thead th {\n",
              "        text-align: right;\n",
              "    }\n",
              "</style>\n",
              "<table border=\"1\" class=\"dataframe\">\n",
              "  <thead>\n",
              "    <tr style=\"text-align: right;\">\n",
              "      <th></th>\n",
              "      <th>Algorithm</th>\n",
              "      <th>Avarge accuracy</th>\n",
              "    </tr>\n",
              "  </thead>\n",
              "  <tbody>\n",
              "    <tr>\n",
              "      <th>0</th>\n",
              "      <td>Random Forest</td>\n",
              "      <td>0.733634</td>\n",
              "    </tr>\n",
              "    <tr>\n",
              "      <th>1</th>\n",
              "      <td>Logistic Regression</td>\n",
              "      <td>0.672755</td>\n",
              "    </tr>\n",
              "    <tr>\n",
              "      <th>2</th>\n",
              "      <td>Support Vector Classification</td>\n",
              "      <td>0.730362</td>\n",
              "    </tr>\n",
              "    <tr>\n",
              "      <th>3</th>\n",
              "      <td>Artificial Neural Network (ANN)</td>\n",
              "      <td>0.729713</td>\n",
              "    </tr>\n",
              "    <tr>\n",
              "      <th>4</th>\n",
              "      <td>Decision Tree</td>\n",
              "      <td>0.741516</td>\n",
              "    </tr>\n",
              "    <tr>\n",
              "      <th>5</th>\n",
              "      <td>Gradient Boosting Classification</td>\n",
              "      <td>0.731674</td>\n",
              "    </tr>\n",
              "  </tbody>\n",
              "</table>\n",
              "</div>\n",
              "      <button class=\"colab-df-convert\" onclick=\"convertToInteractive('df-2a55c84f-473a-4701-9fc4-cd3ba3860795')\"\n",
              "              title=\"Convert this dataframe to an interactive table.\"\n",
              "              style=\"display:none;\">\n",
              "        \n",
              "  <svg xmlns=\"http://www.w3.org/2000/svg\" height=\"24px\"viewBox=\"0 0 24 24\"\n",
              "       width=\"24px\">\n",
              "    <path d=\"M0 0h24v24H0V0z\" fill=\"none\"/>\n",
              "    <path d=\"M18.56 5.44l.94 2.06.94-2.06 2.06-.94-2.06-.94-.94-2.06-.94 2.06-2.06.94zm-11 1L8.5 8.5l.94-2.06 2.06-.94-2.06-.94L8.5 2.5l-.94 2.06-2.06.94zm10 10l.94 2.06.94-2.06 2.06-.94-2.06-.94-.94-2.06-.94 2.06-2.06.94z\"/><path d=\"M17.41 7.96l-1.37-1.37c-.4-.4-.92-.59-1.43-.59-.52 0-1.04.2-1.43.59L10.3 9.45l-7.72 7.72c-.78.78-.78 2.05 0 2.83L4 21.41c.39.39.9.59 1.41.59.51 0 1.02-.2 1.41-.59l7.78-7.78 2.81-2.81c.8-.78.8-2.07 0-2.86zM5.41 20L4 18.59l7.72-7.72 1.47 1.35L5.41 20z\"/>\n",
              "  </svg>\n",
              "      </button>\n",
              "      \n",
              "  <style>\n",
              "    .colab-df-container {\n",
              "      display:flex;\n",
              "      flex-wrap:wrap;\n",
              "      gap: 12px;\n",
              "    }\n",
              "\n",
              "    .colab-df-convert {\n",
              "      background-color: #E8F0FE;\n",
              "      border: none;\n",
              "      border-radius: 50%;\n",
              "      cursor: pointer;\n",
              "      display: none;\n",
              "      fill: #1967D2;\n",
              "      height: 32px;\n",
              "      padding: 0 0 0 0;\n",
              "      width: 32px;\n",
              "    }\n",
              "\n",
              "    .colab-df-convert:hover {\n",
              "      background-color: #E2EBFA;\n",
              "      box-shadow: 0px 1px 2px rgba(60, 64, 67, 0.3), 0px 1px 3px 1px rgba(60, 64, 67, 0.15);\n",
              "      fill: #174EA6;\n",
              "    }\n",
              "\n",
              "    [theme=dark] .colab-df-convert {\n",
              "      background-color: #3B4455;\n",
              "      fill: #D2E3FC;\n",
              "    }\n",
              "\n",
              "    [theme=dark] .colab-df-convert:hover {\n",
              "      background-color: #434B5C;\n",
              "      box-shadow: 0px 1px 3px 1px rgba(0, 0, 0, 0.15);\n",
              "      filter: drop-shadow(0px 1px 2px rgba(0, 0, 0, 0.3));\n",
              "      fill: #FFFFFF;\n",
              "    }\n",
              "  </style>\n",
              "\n",
              "      <script>\n",
              "        const buttonEl =\n",
              "          document.querySelector('#df-2a55c84f-473a-4701-9fc4-cd3ba3860795 button.colab-df-convert');\n",
              "        buttonEl.style.display =\n",
              "          google.colab.kernel.accessAllowed ? 'block' : 'none';\n",
              "\n",
              "        async function convertToInteractive(key) {\n",
              "          const element = document.querySelector('#df-2a55c84f-473a-4701-9fc4-cd3ba3860795');\n",
              "          const dataTable =\n",
              "            await google.colab.kernel.invokeFunction('convertToInteractive',\n",
              "                                                     [key], {});\n",
              "          if (!dataTable) return;\n",
              "\n",
              "          const docLinkHtml = 'Like what you see? Visit the ' +\n",
              "            '<a target=\"_blank\" href=https://colab.research.google.com/notebooks/data_table.ipynb>data table notebook</a>'\n",
              "            + ' to learn more about interactive tables.';\n",
              "          element.innerHTML = '';\n",
              "          dataTable['output_type'] = 'display_data';\n",
              "          await google.colab.output.renderOutput(dataTable, element);\n",
              "          const docLink = document.createElement('div');\n",
              "          docLink.innerHTML = docLinkHtml;\n",
              "          element.appendChild(docLink);\n",
              "        }\n",
              "      </script>\n",
              "    </div>\n",
              "  </div>\n",
              "  "
            ]
          },
          "metadata": {}
        }
      ]
    },
    {
      "cell_type": "code",
      "source": [
        "train_set, test_set = train_test_split(df, test_size=0.1, random_state=0)"
      ],
      "metadata": {
        "id": "06HXtZ35WI_S"
      },
      "execution_count": 20,
      "outputs": []
    },
    {
      "cell_type": "code",
      "source": [
        "train_set['nature of band gap'].value_counts()"
      ],
      "metadata": {
        "id": "QiseQVk9WJCB",
        "colab": {
          "base_uri": "https://localhost:8080/"
        },
        "outputId": "ead03c4b-e4f4-4512-fef5-80828e0ff18e"
      },
      "execution_count": 21,
      "outputs": [
        {
          "output_type": "execute_result",
          "data": {
            "text/plain": [
              "0    1002\n",
              "1     373\n",
              "Name: nature of band gap, dtype: int64"
            ]
          },
          "metadata": {},
          "execution_count": 21
        }
      ]
    },
    {
      "cell_type": "code",
      "source": [
        "from sklearn.utils import resample"
      ],
      "metadata": {
        "id": "gtwDb8yhWJEt"
      },
      "execution_count": 22,
      "outputs": []
    },
    {
      "cell_type": "code",
      "source": [
        "direct = train_set[train_set['nature of band gap']==1]\n",
        "indirect = train_set[train_set['nature of band gap']==0]"
      ],
      "metadata": {
        "id": "tK2rc02KWJHr"
      },
      "execution_count": 23,
      "outputs": []
    },
    {
      "cell_type": "code",
      "source": [
        "direct"
      ],
      "metadata": {
        "id": "6bXGrysZWJKH",
        "colab": {
          "base_uri": "https://localhost:8080/",
          "height": 1000
        },
        "outputId": "9418ecb4-ddc5-4d10-9608-08cd67b599d4"
      },
      "execution_count": 103,
      "outputs": [
        {
          "output_type": "execute_result",
          "data": {
            "text/plain": [
              "     formula       mpid spacegroup.symbol  nature of band gap  \\\n",
              "737   SmTlO3  mp-754787              Pnma                   1   \n",
              "1121  CsNiF3  mp-557772          P6_3/mmc                   1   \n",
              "279   DyScO3   mp-31120              Pnma                   1   \n",
              "1133   KCdF3    mp-9628              Pnma                   1   \n",
              "182   BaThO3    mp-8037             Pm-3m                   1   \n",
              "...      ...        ...               ...                 ...   \n",
              "87    BaCeO3    mp-4900              R-3c                   1   \n",
              "277   HgAsO3   mp-30284             P-31m                   1   \n",
              "1383    HS3N  mp-706654              Pbca                   1   \n",
              "1216   LiVF3  mp-777894              Pnna                   1   \n",
              "684   NaNbO3    mp-4514               R3c                   1   \n",
              "\n",
              "                                              structure  \\\n",
              "737   Full Formula (Sm4 Tl4 O12)\\nReduced Formula: S...   \n",
              "1121  Full Formula (Cs2 Ni2 F6)\\nReduced Formula: Cs...   \n",
              "279   Full Formula (Dy4 Sc4 O12)\\nReduced Formula: D...   \n",
              "1133  Full Formula (K4 Cd4 F12)\\nReduced Formula: KC...   \n",
              "182   Full Formula (Ba1 Th1 O3)\\nReduced Formula: Ba...   \n",
              "...                                                 ...   \n",
              "87    Full Formula (Ba2 Ce2 O6)\\nReduced Formula: Ba...   \n",
              "277   Full Formula (Hg2 As2 O6)\\nReduced Formula: Hg...   \n",
              "1383  Full Formula (H16 S48 N16)\\nReduced Formula: H...   \n",
              "1216  Full Formula (Li4 V4 F12)\\nReduced Formula: Li...   \n",
              "684   Full Formula (Na2 Nb2 O6)\\nReduced Formula: Na...   \n",
              "\n",
              "      mean absolute deviation in relative bond length  \\\n",
              "737                                          0.058408   \n",
              "1121                                         0.113521   \n",
              "279                                          0.057009   \n",
              "1133                                         0.072335   \n",
              "182                                          0.084158   \n",
              "...                                               ...   \n",
              "87                                           0.076950   \n",
              "277                                          0.098296   \n",
              "1383                                         0.120454   \n",
              "1216                                         0.077165   \n",
              "684                                          0.076646   \n",
              "\n",
              "      max relative bond length  minimum neighbor distance variation  \\\n",
              "737                   1.053224                         3.243229e-02   \n",
              "1121                  1.148722                         1.076292e-02   \n",
              "279                   1.048011                         1.282671e-02   \n",
              "1133                  1.061051                         3.038403e-03   \n",
              "182                   1.116672                         0.000000e+00   \n",
              "...                        ...                                  ...   \n",
              "87                    1.081681                         2.468947e-03   \n",
              "277                   1.127961                         7.620000e-07   \n",
              "1383                  1.177031                         2.440158e-01   \n",
              "1216                  1.065418                         1.059708e-02   \n",
              "684                   1.077206                         6.255323e-02   \n",
              "\n",
              "      maximum neighbor distance variation  \\\n",
              "737                              0.167132   \n",
              "1121                             0.149437   \n",
              "279                              0.164574   \n",
              "1133                             0.145788   \n",
              "182                              0.122408   \n",
              "...                                   ...   \n",
              "87                               0.136903   \n",
              "277                              0.159541   \n",
              "1383                             0.383499   \n",
              "1216                             0.191011   \n",
              "684                              0.140932   \n",
              "\n",
              "      avg_dev neighbor distance variation  ... mean AtomicWeight  mean Column  \\\n",
              "737                              0.044323  ...         80.548300         12.8   \n",
              "1121                             0.061158  ...         49.718812         12.4   \n",
              "279                              0.047638  ...         51.090822         10.8   \n",
              "1133                             0.045343  ...         41.700902         12.8   \n",
              "182                              0.058756  ...         83.472652         10.6   \n",
              "...                                   ...  ...               ...          ...   \n",
              "87                               0.045783  ...         65.088240         10.6   \n",
              "277                              0.045242  ...         64.701960         15.0   \n",
              "1383                             0.035647  ...         22.241928         12.8   \n",
              "1216                             0.058735  ...         22.975542         11.4   \n",
              "684                              0.026395  ...         32.778870         10.8   \n",
              "\n",
              "      range Number  range AtomicRadius  range Electronegativity  \\\n",
              "737             73                1.30                     2.27   \n",
              "1121            46                2.10                     3.19   \n",
              "279             58                1.15                     2.22   \n",
              "1133            39                1.70                     3.16   \n",
              "182             82                1.55                     2.55   \n",
              "...            ...                 ...                      ...   \n",
              "87              50                1.55                     2.55   \n",
              "277             72                0.90                     1.44   \n",
              "1383            15                0.75                     0.84   \n",
              "1216            20                0.95                     3.00   \n",
              "684             33                1.20                     2.51   \n",
              "\n",
              "      avg s valence electrons  avg p valence electrons  \\\n",
              "737                       2.0                      2.6   \n",
              "1121                      1.8                      3.0   \n",
              "279                       2.0                      2.4   \n",
              "1133                      1.8                      3.0   \n",
              "182                       2.0                      2.4   \n",
              "...                       ...                      ...   \n",
              "87                        2.0                      2.4   \n",
              "277                       2.0                      3.0   \n",
              "1383                      1.8                      3.0   \n",
              "1216                      1.8                      3.0   \n",
              "684                       1.6                      2.4   \n",
              "\n",
              "      avg d valence electrons  avg f valence electrons  \\\n",
              "737                       2.0                      4.0   \n",
              "1121                      1.6                      0.0   \n",
              "279                       0.2                      2.0   \n",
              "1133                      2.0                      0.0   \n",
              "182                       0.4                      0.0   \n",
              "...                       ...                      ...   \n",
              "87                        0.2                      0.2   \n",
              "277                       4.0                      2.8   \n",
              "1383                      0.0                      0.0   \n",
              "1216                      0.6                      0.0   \n",
              "684                       0.8                      0.0   \n",
              "\n",
              "      frac s valence electrons  \n",
              "737                   0.188679  \n",
              "1121                  0.281250  \n",
              "279                   0.303030  \n",
              "1133                  0.264706  \n",
              "182                   0.416667  \n",
              "...                        ...  \n",
              "87                    0.416667  \n",
              "277                   0.169492  \n",
              "1383                  0.375000  \n",
              "1216                  0.333333  \n",
              "684                   0.333333  \n",
              "\n",
              "[373 rows x 124 columns]"
            ],
            "text/html": [
              "\n",
              "  <div id=\"df-a158ab69-3fa4-4f5f-9d17-0d1955d90174\">\n",
              "    <div class=\"colab-df-container\">\n",
              "      <div>\n",
              "<style scoped>\n",
              "    .dataframe tbody tr th:only-of-type {\n",
              "        vertical-align: middle;\n",
              "    }\n",
              "\n",
              "    .dataframe tbody tr th {\n",
              "        vertical-align: top;\n",
              "    }\n",
              "\n",
              "    .dataframe thead th {\n",
              "        text-align: right;\n",
              "    }\n",
              "</style>\n",
              "<table border=\"1\" class=\"dataframe\">\n",
              "  <thead>\n",
              "    <tr style=\"text-align: right;\">\n",
              "      <th></th>\n",
              "      <th>formula</th>\n",
              "      <th>mpid</th>\n",
              "      <th>spacegroup.symbol</th>\n",
              "      <th>nature of band gap</th>\n",
              "      <th>structure</th>\n",
              "      <th>mean absolute deviation in relative bond length</th>\n",
              "      <th>max relative bond length</th>\n",
              "      <th>minimum neighbor distance variation</th>\n",
              "      <th>maximum neighbor distance variation</th>\n",
              "      <th>avg_dev neighbor distance variation</th>\n",
              "      <th>...</th>\n",
              "      <th>mean AtomicWeight</th>\n",
              "      <th>mean Column</th>\n",
              "      <th>range Number</th>\n",
              "      <th>range AtomicRadius</th>\n",
              "      <th>range Electronegativity</th>\n",
              "      <th>avg s valence electrons</th>\n",
              "      <th>avg p valence electrons</th>\n",
              "      <th>avg d valence electrons</th>\n",
              "      <th>avg f valence electrons</th>\n",
              "      <th>frac s valence electrons</th>\n",
              "    </tr>\n",
              "  </thead>\n",
              "  <tbody>\n",
              "    <tr>\n",
              "      <th>737</th>\n",
              "      <td>SmTlO3</td>\n",
              "      <td>mp-754787</td>\n",
              "      <td>Pnma</td>\n",
              "      <td>1</td>\n",
              "      <td>Full Formula (Sm4 Tl4 O12)\\nReduced Formula: S...</td>\n",
              "      <td>0.058408</td>\n",
              "      <td>1.053224</td>\n",
              "      <td>3.243229e-02</td>\n",
              "      <td>0.167132</td>\n",
              "      <td>0.044323</td>\n",
              "      <td>...</td>\n",
              "      <td>80.548300</td>\n",
              "      <td>12.8</td>\n",
              "      <td>73</td>\n",
              "      <td>1.30</td>\n",
              "      <td>2.27</td>\n",
              "      <td>2.0</td>\n",
              "      <td>2.6</td>\n",
              "      <td>2.0</td>\n",
              "      <td>4.0</td>\n",
              "      <td>0.188679</td>\n",
              "    </tr>\n",
              "    <tr>\n",
              "      <th>1121</th>\n",
              "      <td>CsNiF3</td>\n",
              "      <td>mp-557772</td>\n",
              "      <td>P6_3/mmc</td>\n",
              "      <td>1</td>\n",
              "      <td>Full Formula (Cs2 Ni2 F6)\\nReduced Formula: Cs...</td>\n",
              "      <td>0.113521</td>\n",
              "      <td>1.148722</td>\n",
              "      <td>1.076292e-02</td>\n",
              "      <td>0.149437</td>\n",
              "      <td>0.061158</td>\n",
              "      <td>...</td>\n",
              "      <td>49.718812</td>\n",
              "      <td>12.4</td>\n",
              "      <td>46</td>\n",
              "      <td>2.10</td>\n",
              "      <td>3.19</td>\n",
              "      <td>1.8</td>\n",
              "      <td>3.0</td>\n",
              "      <td>1.6</td>\n",
              "      <td>0.0</td>\n",
              "      <td>0.281250</td>\n",
              "    </tr>\n",
              "    <tr>\n",
              "      <th>279</th>\n",
              "      <td>DyScO3</td>\n",
              "      <td>mp-31120</td>\n",
              "      <td>Pnma</td>\n",
              "      <td>1</td>\n",
              "      <td>Full Formula (Dy4 Sc4 O12)\\nReduced Formula: D...</td>\n",
              "      <td>0.057009</td>\n",
              "      <td>1.048011</td>\n",
              "      <td>1.282671e-02</td>\n",
              "      <td>0.164574</td>\n",
              "      <td>0.047638</td>\n",
              "      <td>...</td>\n",
              "      <td>51.090822</td>\n",
              "      <td>10.8</td>\n",
              "      <td>58</td>\n",
              "      <td>1.15</td>\n",
              "      <td>2.22</td>\n",
              "      <td>2.0</td>\n",
              "      <td>2.4</td>\n",
              "      <td>0.2</td>\n",
              "      <td>2.0</td>\n",
              "      <td>0.303030</td>\n",
              "    </tr>\n",
              "    <tr>\n",
              "      <th>1133</th>\n",
              "      <td>KCdF3</td>\n",
              "      <td>mp-9628</td>\n",
              "      <td>Pnma</td>\n",
              "      <td>1</td>\n",
              "      <td>Full Formula (K4 Cd4 F12)\\nReduced Formula: KC...</td>\n",
              "      <td>0.072335</td>\n",
              "      <td>1.061051</td>\n",
              "      <td>3.038403e-03</td>\n",
              "      <td>0.145788</td>\n",
              "      <td>0.045343</td>\n",
              "      <td>...</td>\n",
              "      <td>41.700902</td>\n",
              "      <td>12.8</td>\n",
              "      <td>39</td>\n",
              "      <td>1.70</td>\n",
              "      <td>3.16</td>\n",
              "      <td>1.8</td>\n",
              "      <td>3.0</td>\n",
              "      <td>2.0</td>\n",
              "      <td>0.0</td>\n",
              "      <td>0.264706</td>\n",
              "    </tr>\n",
              "    <tr>\n",
              "      <th>182</th>\n",
              "      <td>BaThO3</td>\n",
              "      <td>mp-8037</td>\n",
              "      <td>Pm-3m</td>\n",
              "      <td>1</td>\n",
              "      <td>Full Formula (Ba1 Th1 O3)\\nReduced Formula: Ba...</td>\n",
              "      <td>0.084158</td>\n",
              "      <td>1.116672</td>\n",
              "      <td>0.000000e+00</td>\n",
              "      <td>0.122408</td>\n",
              "      <td>0.058756</td>\n",
              "      <td>...</td>\n",
              "      <td>83.472652</td>\n",
              "      <td>10.6</td>\n",
              "      <td>82</td>\n",
              "      <td>1.55</td>\n",
              "      <td>2.55</td>\n",
              "      <td>2.0</td>\n",
              "      <td>2.4</td>\n",
              "      <td>0.4</td>\n",
              "      <td>0.0</td>\n",
              "      <td>0.416667</td>\n",
              "    </tr>\n",
              "    <tr>\n",
              "      <th>...</th>\n",
              "      <td>...</td>\n",
              "      <td>...</td>\n",
              "      <td>...</td>\n",
              "      <td>...</td>\n",
              "      <td>...</td>\n",
              "      <td>...</td>\n",
              "      <td>...</td>\n",
              "      <td>...</td>\n",
              "      <td>...</td>\n",
              "      <td>...</td>\n",
              "      <td>...</td>\n",
              "      <td>...</td>\n",
              "      <td>...</td>\n",
              "      <td>...</td>\n",
              "      <td>...</td>\n",
              "      <td>...</td>\n",
              "      <td>...</td>\n",
              "      <td>...</td>\n",
              "      <td>...</td>\n",
              "      <td>...</td>\n",
              "      <td>...</td>\n",
              "    </tr>\n",
              "    <tr>\n",
              "      <th>87</th>\n",
              "      <td>BaCeO3</td>\n",
              "      <td>mp-4900</td>\n",
              "      <td>R-3c</td>\n",
              "      <td>1</td>\n",
              "      <td>Full Formula (Ba2 Ce2 O6)\\nReduced Formula: Ba...</td>\n",
              "      <td>0.076950</td>\n",
              "      <td>1.081681</td>\n",
              "      <td>2.468947e-03</td>\n",
              "      <td>0.136903</td>\n",
              "      <td>0.045783</td>\n",
              "      <td>...</td>\n",
              "      <td>65.088240</td>\n",
              "      <td>10.6</td>\n",
              "      <td>50</td>\n",
              "      <td>1.55</td>\n",
              "      <td>2.55</td>\n",
              "      <td>2.0</td>\n",
              "      <td>2.4</td>\n",
              "      <td>0.2</td>\n",
              "      <td>0.2</td>\n",
              "      <td>0.416667</td>\n",
              "    </tr>\n",
              "    <tr>\n",
              "      <th>277</th>\n",
              "      <td>HgAsO3</td>\n",
              "      <td>mp-30284</td>\n",
              "      <td>P-31m</td>\n",
              "      <td>1</td>\n",
              "      <td>Full Formula (Hg2 As2 O6)\\nReduced Formula: Hg...</td>\n",
              "      <td>0.098296</td>\n",
              "      <td>1.127961</td>\n",
              "      <td>7.620000e-07</td>\n",
              "      <td>0.159541</td>\n",
              "      <td>0.045242</td>\n",
              "      <td>...</td>\n",
              "      <td>64.701960</td>\n",
              "      <td>15.0</td>\n",
              "      <td>72</td>\n",
              "      <td>0.90</td>\n",
              "      <td>1.44</td>\n",
              "      <td>2.0</td>\n",
              "      <td>3.0</td>\n",
              "      <td>4.0</td>\n",
              "      <td>2.8</td>\n",
              "      <td>0.169492</td>\n",
              "    </tr>\n",
              "    <tr>\n",
              "      <th>1383</th>\n",
              "      <td>HS3N</td>\n",
              "      <td>mp-706654</td>\n",
              "      <td>Pbca</td>\n",
              "      <td>1</td>\n",
              "      <td>Full Formula (H16 S48 N16)\\nReduced Formula: H...</td>\n",
              "      <td>0.120454</td>\n",
              "      <td>1.177031</td>\n",
              "      <td>2.440158e-01</td>\n",
              "      <td>0.383499</td>\n",
              "      <td>0.035647</td>\n",
              "      <td>...</td>\n",
              "      <td>22.241928</td>\n",
              "      <td>12.8</td>\n",
              "      <td>15</td>\n",
              "      <td>0.75</td>\n",
              "      <td>0.84</td>\n",
              "      <td>1.8</td>\n",
              "      <td>3.0</td>\n",
              "      <td>0.0</td>\n",
              "      <td>0.0</td>\n",
              "      <td>0.375000</td>\n",
              "    </tr>\n",
              "    <tr>\n",
              "      <th>1216</th>\n",
              "      <td>LiVF3</td>\n",
              "      <td>mp-777894</td>\n",
              "      <td>Pnna</td>\n",
              "      <td>1</td>\n",
              "      <td>Full Formula (Li4 V4 F12)\\nReduced Formula: Li...</td>\n",
              "      <td>0.077165</td>\n",
              "      <td>1.065418</td>\n",
              "      <td>1.059708e-02</td>\n",
              "      <td>0.191011</td>\n",
              "      <td>0.058735</td>\n",
              "      <td>...</td>\n",
              "      <td>22.975542</td>\n",
              "      <td>11.4</td>\n",
              "      <td>20</td>\n",
              "      <td>0.95</td>\n",
              "      <td>3.00</td>\n",
              "      <td>1.8</td>\n",
              "      <td>3.0</td>\n",
              "      <td>0.6</td>\n",
              "      <td>0.0</td>\n",
              "      <td>0.333333</td>\n",
              "    </tr>\n",
              "    <tr>\n",
              "      <th>684</th>\n",
              "      <td>NaNbO3</td>\n",
              "      <td>mp-4514</td>\n",
              "      <td>R3c</td>\n",
              "      <td>1</td>\n",
              "      <td>Full Formula (Na2 Nb2 O6)\\nReduced Formula: Na...</td>\n",
              "      <td>0.076646</td>\n",
              "      <td>1.077206</td>\n",
              "      <td>6.255323e-02</td>\n",
              "      <td>0.140932</td>\n",
              "      <td>0.026395</td>\n",
              "      <td>...</td>\n",
              "      <td>32.778870</td>\n",
              "      <td>10.8</td>\n",
              "      <td>33</td>\n",
              "      <td>1.20</td>\n",
              "      <td>2.51</td>\n",
              "      <td>1.6</td>\n",
              "      <td>2.4</td>\n",
              "      <td>0.8</td>\n",
              "      <td>0.0</td>\n",
              "      <td>0.333333</td>\n",
              "    </tr>\n",
              "  </tbody>\n",
              "</table>\n",
              "<p>373 rows × 124 columns</p>\n",
              "</div>\n",
              "      <button class=\"colab-df-convert\" onclick=\"convertToInteractive('df-a158ab69-3fa4-4f5f-9d17-0d1955d90174')\"\n",
              "              title=\"Convert this dataframe to an interactive table.\"\n",
              "              style=\"display:none;\">\n",
              "        \n",
              "  <svg xmlns=\"http://www.w3.org/2000/svg\" height=\"24px\"viewBox=\"0 0 24 24\"\n",
              "       width=\"24px\">\n",
              "    <path d=\"M0 0h24v24H0V0z\" fill=\"none\"/>\n",
              "    <path d=\"M18.56 5.44l.94 2.06.94-2.06 2.06-.94-2.06-.94-.94-2.06-.94 2.06-2.06.94zm-11 1L8.5 8.5l.94-2.06 2.06-.94-2.06-.94L8.5 2.5l-.94 2.06-2.06.94zm10 10l.94 2.06.94-2.06 2.06-.94-2.06-.94-.94-2.06-.94 2.06-2.06.94z\"/><path d=\"M17.41 7.96l-1.37-1.37c-.4-.4-.92-.59-1.43-.59-.52 0-1.04.2-1.43.59L10.3 9.45l-7.72 7.72c-.78.78-.78 2.05 0 2.83L4 21.41c.39.39.9.59 1.41.59.51 0 1.02-.2 1.41-.59l7.78-7.78 2.81-2.81c.8-.78.8-2.07 0-2.86zM5.41 20L4 18.59l7.72-7.72 1.47 1.35L5.41 20z\"/>\n",
              "  </svg>\n",
              "      </button>\n",
              "      \n",
              "  <style>\n",
              "    .colab-df-container {\n",
              "      display:flex;\n",
              "      flex-wrap:wrap;\n",
              "      gap: 12px;\n",
              "    }\n",
              "\n",
              "    .colab-df-convert {\n",
              "      background-color: #E8F0FE;\n",
              "      border: none;\n",
              "      border-radius: 50%;\n",
              "      cursor: pointer;\n",
              "      display: none;\n",
              "      fill: #1967D2;\n",
              "      height: 32px;\n",
              "      padding: 0 0 0 0;\n",
              "      width: 32px;\n",
              "    }\n",
              "\n",
              "    .colab-df-convert:hover {\n",
              "      background-color: #E2EBFA;\n",
              "      box-shadow: 0px 1px 2px rgba(60, 64, 67, 0.3), 0px 1px 3px 1px rgba(60, 64, 67, 0.15);\n",
              "      fill: #174EA6;\n",
              "    }\n",
              "\n",
              "    [theme=dark] .colab-df-convert {\n",
              "      background-color: #3B4455;\n",
              "      fill: #D2E3FC;\n",
              "    }\n",
              "\n",
              "    [theme=dark] .colab-df-convert:hover {\n",
              "      background-color: #434B5C;\n",
              "      box-shadow: 0px 1px 3px 1px rgba(0, 0, 0, 0.15);\n",
              "      filter: drop-shadow(0px 1px 2px rgba(0, 0, 0, 0.3));\n",
              "      fill: #FFFFFF;\n",
              "    }\n",
              "  </style>\n",
              "\n",
              "      <script>\n",
              "        const buttonEl =\n",
              "          document.querySelector('#df-a158ab69-3fa4-4f5f-9d17-0d1955d90174 button.colab-df-convert');\n",
              "        buttonEl.style.display =\n",
              "          google.colab.kernel.accessAllowed ? 'block' : 'none';\n",
              "\n",
              "        async function convertToInteractive(key) {\n",
              "          const element = document.querySelector('#df-a158ab69-3fa4-4f5f-9d17-0d1955d90174');\n",
              "          const dataTable =\n",
              "            await google.colab.kernel.invokeFunction('convertToInteractive',\n",
              "                                                     [key], {});\n",
              "          if (!dataTable) return;\n",
              "\n",
              "          const docLinkHtml = 'Like what you see? Visit the ' +\n",
              "            '<a target=\"_blank\" href=https://colab.research.google.com/notebooks/data_table.ipynb>data table notebook</a>'\n",
              "            + ' to learn more about interactive tables.';\n",
              "          element.innerHTML = '';\n",
              "          dataTable['output_type'] = 'display_data';\n",
              "          await google.colab.output.renderOutput(dataTable, element);\n",
              "          const docLink = document.createElement('div');\n",
              "          docLink.innerHTML = docLinkHtml;\n",
              "          element.appendChild(docLink);\n",
              "        }\n",
              "      </script>\n",
              "    </div>\n",
              "  </div>\n",
              "  "
            ]
          },
          "metadata": {},
          "execution_count": 103
        }
      ]
    },
    {
      "cell_type": "code",
      "source": [
        "direct_up = resample(direct, replace=True, n_samples=(len(indirect)-400), random_state=0)"
      ],
      "metadata": {
        "id": "ZZBMp5Z_WJMs"
      },
      "execution_count": 24,
      "outputs": []
    },
    {
      "cell_type": "code",
      "source": [
        "direct_up"
      ],
      "metadata": {
        "id": "VFhkYb3_WJP-",
        "colab": {
          "base_uri": "https://localhost:8080/",
          "height": 1000
        },
        "outputId": "18d36eb6-7885-4772-cf3c-71e9db495b95"
      },
      "execution_count": 105,
      "outputs": [
        {
          "output_type": "execute_result",
          "data": {
            "text/plain": [
              "      formula        mpid spacegroup.symbol  nature of band gap  \\\n",
              "235     DyBO3    mp-12315               P-1                   1   \n",
              "1322   CsSnI3   mp-616378            P4/mbm                   1   \n",
              "893    YbTiO3   mp-754225              Pnma                   1   \n",
              "225    CsTaO3  mp-1185552             Pm-3m                   1   \n",
              "1392   LaErS3   mp-558977              Pnma                   1   \n",
              "...       ...         ...               ...                 ...   \n",
              "946    TaTlO3   mp-861873             Pm-3m                   1   \n",
              "909    TbHoO3   mp-755740              Pnma                   1   \n",
              "1041  CsPbCl3   mp-675524              Amm2                   1   \n",
              "228     KAsO3  mp-1192552               P-1                   1   \n",
              "437    LaCrO3    mp-19281              Pnma                   1   \n",
              "\n",
              "                                              structure  \\\n",
              "235   Full Formula (Dy4 B4 O12)\\nReduced Formula: Dy...   \n",
              "1322  Full Formula (Cs2 Sn2 I6)\\nReduced Formula: Cs...   \n",
              "893   Full Formula (Yb4 Ti4 O12)\\nReduced Formula: Y...   \n",
              "225   Full Formula (Cs1 Ta1 O3)\\nReduced Formula: Cs...   \n",
              "1392  Full Formula (La12 Er12 S36)\\nReduced Formula:...   \n",
              "...                                                 ...   \n",
              "946   Full Formula (Ta1 Tl1 O3)\\nReduced Formula: Ta...   \n",
              "909   Full Formula (Tb4 Ho4 O12)\\nReduced Formula: T...   \n",
              "1041  Full Formula (Cs2 Pb2 Cl6)\\nReduced Formula: C...   \n",
              "228   Full Formula (K6 As6 O18)\\nReduced Formula: KA...   \n",
              "437   Full Formula (La4 Cr4 O12)\\nReduced Formula: L...   \n",
              "\n",
              "      mean absolute deviation in relative bond length  \\\n",
              "235                                          0.091852   \n",
              "1322                                         0.081065   \n",
              "893                                          0.070545   \n",
              "225                                          0.084158   \n",
              "1392                                         0.043807   \n",
              "...                                               ...   \n",
              "946                                          0.084158   \n",
              "909                                          0.057671   \n",
              "1041                                         0.079988   \n",
              "228                                          0.128628   \n",
              "437                                          0.073699   \n",
              "\n",
              "      max relative bond length  minimum neighbor distance variation  \\\n",
              "235                   1.101680                             0.035515   \n",
              "1322                  1.101725                             0.000492   \n",
              "893                   1.053490                             0.006277   \n",
              "225                   1.116672                             0.000000   \n",
              "1392                  1.056940                             0.025358   \n",
              "...                        ...                                  ...   \n",
              "946                   1.116672                             0.000000   \n",
              "909                   1.050149                             0.025059   \n",
              "1041                  1.100645                             0.003316   \n",
              "228                   1.205142                             0.055092   \n",
              "437                   1.066933                             0.003514   \n",
              "\n",
              "      maximum neighbor distance variation  \\\n",
              "235                              0.349183   \n",
              "1322                             0.121074   \n",
              "893                              0.149524   \n",
              "225                              0.122408   \n",
              "1392                             0.162689   \n",
              "...                                   ...   \n",
              "946                              0.122408   \n",
              "909                              0.166620   \n",
              "1041                             0.122964   \n",
              "228                              0.252398   \n",
              "437                              0.141723   \n",
              "\n",
              "      avg_dev neighbor distance variation  ... mean AtomicWeight  mean Column  \\\n",
              "235                              0.071586  ...         44.261840         12.8   \n",
              "1322                             0.045599  ...        126.465772         13.2   \n",
              "893                              0.045393  ...         53.783840         11.0   \n",
              "225                              0.058756  ...         72.370306         10.8   \n",
              "1392                             0.041193  ...         80.471894         10.8   \n",
              "...                                   ...  ...               ...          ...   \n",
              "946                              0.058756  ...         86.665876         13.2   \n",
              "909                              0.042082  ...         74.370774         10.8   \n",
              "1041                             0.040634  ...         89.292890         13.2   \n",
              "228                              0.054980  ...         32.403620         12.8   \n",
              "437                              0.045184  ...         47.779954         11.4   \n",
              "\n",
              "      range Number  range AtomicRadius  range Electronegativity  \\\n",
              "235             61                1.15                     2.22   \n",
              "1322             5                1.20                     1.87   \n",
              "893             62                1.15                     2.18   \n",
              "225             65                2.00                     2.65   \n",
              "1392            52                0.95                     1.48   \n",
              "...            ...                 ...                      ...   \n",
              "946             73                1.30                     1.94   \n",
              "909             59                1.15                     2.23   \n",
              "1041            65                1.60                     2.37   \n",
              "228             25                1.60                     2.62   \n",
              "437             49                1.35                     2.34   \n",
              "\n",
              "      avg s valence electrons  avg p valence electrons  \\\n",
              "235                       2.0                      2.6   \n",
              "1322                      1.8                      3.4   \n",
              "893                       2.0                      2.4   \n",
              "225                       1.8                      2.4   \n",
              "1392                      2.0                      2.4   \n",
              "...                       ...                      ...   \n",
              "946                       2.0                      2.6   \n",
              "909                       2.0                      2.4   \n",
              "1041                      1.8                      3.4   \n",
              "228                       1.8                      3.0   \n",
              "437                       1.8                      2.4   \n",
              "\n",
              "      avg d valence electrons  avg f valence electrons  \\\n",
              "235                       0.0                      2.0   \n",
              "1322                      8.0                      0.0   \n",
              "893                       0.4                      2.8   \n",
              "225                       0.6                      2.8   \n",
              "1392                      0.2                      2.4   \n",
              "...                       ...                      ...   \n",
              "946                       2.6                      5.6   \n",
              "909                       0.0                      4.0   \n",
              "1041                      2.0                      2.8   \n",
              "228                       2.0                      0.0   \n",
              "437                       1.2                      0.0   \n",
              "\n",
              "      frac s valence electrons  \n",
              "235                   0.303030  \n",
              "1322                  0.136364  \n",
              "893                   0.263158  \n",
              "225                   0.236842  \n",
              "1392                  0.285714  \n",
              "...                        ...  \n",
              "946                   0.156250  \n",
              "909                   0.238095  \n",
              "1041                  0.180000  \n",
              "228                   0.264706  \n",
              "437                   0.333333  \n",
              "\n",
              "[602 rows x 124 columns]"
            ],
            "text/html": [
              "\n",
              "  <div id=\"df-23ce1841-f7b8-4e74-8c24-4f970638eb51\">\n",
              "    <div class=\"colab-df-container\">\n",
              "      <div>\n",
              "<style scoped>\n",
              "    .dataframe tbody tr th:only-of-type {\n",
              "        vertical-align: middle;\n",
              "    }\n",
              "\n",
              "    .dataframe tbody tr th {\n",
              "        vertical-align: top;\n",
              "    }\n",
              "\n",
              "    .dataframe thead th {\n",
              "        text-align: right;\n",
              "    }\n",
              "</style>\n",
              "<table border=\"1\" class=\"dataframe\">\n",
              "  <thead>\n",
              "    <tr style=\"text-align: right;\">\n",
              "      <th></th>\n",
              "      <th>formula</th>\n",
              "      <th>mpid</th>\n",
              "      <th>spacegroup.symbol</th>\n",
              "      <th>nature of band gap</th>\n",
              "      <th>structure</th>\n",
              "      <th>mean absolute deviation in relative bond length</th>\n",
              "      <th>max relative bond length</th>\n",
              "      <th>minimum neighbor distance variation</th>\n",
              "      <th>maximum neighbor distance variation</th>\n",
              "      <th>avg_dev neighbor distance variation</th>\n",
              "      <th>...</th>\n",
              "      <th>mean AtomicWeight</th>\n",
              "      <th>mean Column</th>\n",
              "      <th>range Number</th>\n",
              "      <th>range AtomicRadius</th>\n",
              "      <th>range Electronegativity</th>\n",
              "      <th>avg s valence electrons</th>\n",
              "      <th>avg p valence electrons</th>\n",
              "      <th>avg d valence electrons</th>\n",
              "      <th>avg f valence electrons</th>\n",
              "      <th>frac s valence electrons</th>\n",
              "    </tr>\n",
              "  </thead>\n",
              "  <tbody>\n",
              "    <tr>\n",
              "      <th>235</th>\n",
              "      <td>DyBO3</td>\n",
              "      <td>mp-12315</td>\n",
              "      <td>P-1</td>\n",
              "      <td>1</td>\n",
              "      <td>Full Formula (Dy4 B4 O12)\\nReduced Formula: Dy...</td>\n",
              "      <td>0.091852</td>\n",
              "      <td>1.101680</td>\n",
              "      <td>0.035515</td>\n",
              "      <td>0.349183</td>\n",
              "      <td>0.071586</td>\n",
              "      <td>...</td>\n",
              "      <td>44.261840</td>\n",
              "      <td>12.8</td>\n",
              "      <td>61</td>\n",
              "      <td>1.15</td>\n",
              "      <td>2.22</td>\n",
              "      <td>2.0</td>\n",
              "      <td>2.6</td>\n",
              "      <td>0.0</td>\n",
              "      <td>2.0</td>\n",
              "      <td>0.303030</td>\n",
              "    </tr>\n",
              "    <tr>\n",
              "      <th>1322</th>\n",
              "      <td>CsSnI3</td>\n",
              "      <td>mp-616378</td>\n",
              "      <td>P4/mbm</td>\n",
              "      <td>1</td>\n",
              "      <td>Full Formula (Cs2 Sn2 I6)\\nReduced Formula: Cs...</td>\n",
              "      <td>0.081065</td>\n",
              "      <td>1.101725</td>\n",
              "      <td>0.000492</td>\n",
              "      <td>0.121074</td>\n",
              "      <td>0.045599</td>\n",
              "      <td>...</td>\n",
              "      <td>126.465772</td>\n",
              "      <td>13.2</td>\n",
              "      <td>5</td>\n",
              "      <td>1.20</td>\n",
              "      <td>1.87</td>\n",
              "      <td>1.8</td>\n",
              "      <td>3.4</td>\n",
              "      <td>8.0</td>\n",
              "      <td>0.0</td>\n",
              "      <td>0.136364</td>\n",
              "    </tr>\n",
              "    <tr>\n",
              "      <th>893</th>\n",
              "      <td>YbTiO3</td>\n",
              "      <td>mp-754225</td>\n",
              "      <td>Pnma</td>\n",
              "      <td>1</td>\n",
              "      <td>Full Formula (Yb4 Ti4 O12)\\nReduced Formula: Y...</td>\n",
              "      <td>0.070545</td>\n",
              "      <td>1.053490</td>\n",
              "      <td>0.006277</td>\n",
              "      <td>0.149524</td>\n",
              "      <td>0.045393</td>\n",
              "      <td>...</td>\n",
              "      <td>53.783840</td>\n",
              "      <td>11.0</td>\n",
              "      <td>62</td>\n",
              "      <td>1.15</td>\n",
              "      <td>2.18</td>\n",
              "      <td>2.0</td>\n",
              "      <td>2.4</td>\n",
              "      <td>0.4</td>\n",
              "      <td>2.8</td>\n",
              "      <td>0.263158</td>\n",
              "    </tr>\n",
              "    <tr>\n",
              "      <th>225</th>\n",
              "      <td>CsTaO3</td>\n",
              "      <td>mp-1185552</td>\n",
              "      <td>Pm-3m</td>\n",
              "      <td>1</td>\n",
              "      <td>Full Formula (Cs1 Ta1 O3)\\nReduced Formula: Cs...</td>\n",
              "      <td>0.084158</td>\n",
              "      <td>1.116672</td>\n",
              "      <td>0.000000</td>\n",
              "      <td>0.122408</td>\n",
              "      <td>0.058756</td>\n",
              "      <td>...</td>\n",
              "      <td>72.370306</td>\n",
              "      <td>10.8</td>\n",
              "      <td>65</td>\n",
              "      <td>2.00</td>\n",
              "      <td>2.65</td>\n",
              "      <td>1.8</td>\n",
              "      <td>2.4</td>\n",
              "      <td>0.6</td>\n",
              "      <td>2.8</td>\n",
              "      <td>0.236842</td>\n",
              "    </tr>\n",
              "    <tr>\n",
              "      <th>1392</th>\n",
              "      <td>LaErS3</td>\n",
              "      <td>mp-558977</td>\n",
              "      <td>Pnma</td>\n",
              "      <td>1</td>\n",
              "      <td>Full Formula (La12 Er12 S36)\\nReduced Formula:...</td>\n",
              "      <td>0.043807</td>\n",
              "      <td>1.056940</td>\n",
              "      <td>0.025358</td>\n",
              "      <td>0.162689</td>\n",
              "      <td>0.041193</td>\n",
              "      <td>...</td>\n",
              "      <td>80.471894</td>\n",
              "      <td>10.8</td>\n",
              "      <td>52</td>\n",
              "      <td>0.95</td>\n",
              "      <td>1.48</td>\n",
              "      <td>2.0</td>\n",
              "      <td>2.4</td>\n",
              "      <td>0.2</td>\n",
              "      <td>2.4</td>\n",
              "      <td>0.285714</td>\n",
              "    </tr>\n",
              "    <tr>\n",
              "      <th>...</th>\n",
              "      <td>...</td>\n",
              "      <td>...</td>\n",
              "      <td>...</td>\n",
              "      <td>...</td>\n",
              "      <td>...</td>\n",
              "      <td>...</td>\n",
              "      <td>...</td>\n",
              "      <td>...</td>\n",
              "      <td>...</td>\n",
              "      <td>...</td>\n",
              "      <td>...</td>\n",
              "      <td>...</td>\n",
              "      <td>...</td>\n",
              "      <td>...</td>\n",
              "      <td>...</td>\n",
              "      <td>...</td>\n",
              "      <td>...</td>\n",
              "      <td>...</td>\n",
              "      <td>...</td>\n",
              "      <td>...</td>\n",
              "      <td>...</td>\n",
              "    </tr>\n",
              "    <tr>\n",
              "      <th>946</th>\n",
              "      <td>TaTlO3</td>\n",
              "      <td>mp-861873</td>\n",
              "      <td>Pm-3m</td>\n",
              "      <td>1</td>\n",
              "      <td>Full Formula (Ta1 Tl1 O3)\\nReduced Formula: Ta...</td>\n",
              "      <td>0.084158</td>\n",
              "      <td>1.116672</td>\n",
              "      <td>0.000000</td>\n",
              "      <td>0.122408</td>\n",
              "      <td>0.058756</td>\n",
              "      <td>...</td>\n",
              "      <td>86.665876</td>\n",
              "      <td>13.2</td>\n",
              "      <td>73</td>\n",
              "      <td>1.30</td>\n",
              "      <td>1.94</td>\n",
              "      <td>2.0</td>\n",
              "      <td>2.6</td>\n",
              "      <td>2.6</td>\n",
              "      <td>5.6</td>\n",
              "      <td>0.156250</td>\n",
              "    </tr>\n",
              "    <tr>\n",
              "      <th>909</th>\n",
              "      <td>TbHoO3</td>\n",
              "      <td>mp-755740</td>\n",
              "      <td>Pnma</td>\n",
              "      <td>1</td>\n",
              "      <td>Full Formula (Tb4 Ho4 O12)\\nReduced Formula: T...</td>\n",
              "      <td>0.057671</td>\n",
              "      <td>1.050149</td>\n",
              "      <td>0.025059</td>\n",
              "      <td>0.166620</td>\n",
              "      <td>0.042082</td>\n",
              "      <td>...</td>\n",
              "      <td>74.370774</td>\n",
              "      <td>10.8</td>\n",
              "      <td>59</td>\n",
              "      <td>1.15</td>\n",
              "      <td>2.23</td>\n",
              "      <td>2.0</td>\n",
              "      <td>2.4</td>\n",
              "      <td>0.0</td>\n",
              "      <td>4.0</td>\n",
              "      <td>0.238095</td>\n",
              "    </tr>\n",
              "    <tr>\n",
              "      <th>1041</th>\n",
              "      <td>CsPbCl3</td>\n",
              "      <td>mp-675524</td>\n",
              "      <td>Amm2</td>\n",
              "      <td>1</td>\n",
              "      <td>Full Formula (Cs2 Pb2 Cl6)\\nReduced Formula: C...</td>\n",
              "      <td>0.079988</td>\n",
              "      <td>1.100645</td>\n",
              "      <td>0.003316</td>\n",
              "      <td>0.122964</td>\n",
              "      <td>0.040634</td>\n",
              "      <td>...</td>\n",
              "      <td>89.292890</td>\n",
              "      <td>13.2</td>\n",
              "      <td>65</td>\n",
              "      <td>1.60</td>\n",
              "      <td>2.37</td>\n",
              "      <td>1.8</td>\n",
              "      <td>3.4</td>\n",
              "      <td>2.0</td>\n",
              "      <td>2.8</td>\n",
              "      <td>0.180000</td>\n",
              "    </tr>\n",
              "    <tr>\n",
              "      <th>228</th>\n",
              "      <td>KAsO3</td>\n",
              "      <td>mp-1192552</td>\n",
              "      <td>P-1</td>\n",
              "      <td>1</td>\n",
              "      <td>Full Formula (K6 As6 O18)\\nReduced Formula: KA...</td>\n",
              "      <td>0.128628</td>\n",
              "      <td>1.205142</td>\n",
              "      <td>0.055092</td>\n",
              "      <td>0.252398</td>\n",
              "      <td>0.054980</td>\n",
              "      <td>...</td>\n",
              "      <td>32.403620</td>\n",
              "      <td>12.8</td>\n",
              "      <td>25</td>\n",
              "      <td>1.60</td>\n",
              "      <td>2.62</td>\n",
              "      <td>1.8</td>\n",
              "      <td>3.0</td>\n",
              "      <td>2.0</td>\n",
              "      <td>0.0</td>\n",
              "      <td>0.264706</td>\n",
              "    </tr>\n",
              "    <tr>\n",
              "      <th>437</th>\n",
              "      <td>LaCrO3</td>\n",
              "      <td>mp-19281</td>\n",
              "      <td>Pnma</td>\n",
              "      <td>1</td>\n",
              "      <td>Full Formula (La4 Cr4 O12)\\nReduced Formula: L...</td>\n",
              "      <td>0.073699</td>\n",
              "      <td>1.066933</td>\n",
              "      <td>0.003514</td>\n",
              "      <td>0.141723</td>\n",
              "      <td>0.045184</td>\n",
              "      <td>...</td>\n",
              "      <td>47.779954</td>\n",
              "      <td>11.4</td>\n",
              "      <td>49</td>\n",
              "      <td>1.35</td>\n",
              "      <td>2.34</td>\n",
              "      <td>1.8</td>\n",
              "      <td>2.4</td>\n",
              "      <td>1.2</td>\n",
              "      <td>0.0</td>\n",
              "      <td>0.333333</td>\n",
              "    </tr>\n",
              "  </tbody>\n",
              "</table>\n",
              "<p>602 rows × 124 columns</p>\n",
              "</div>\n",
              "      <button class=\"colab-df-convert\" onclick=\"convertToInteractive('df-23ce1841-f7b8-4e74-8c24-4f970638eb51')\"\n",
              "              title=\"Convert this dataframe to an interactive table.\"\n",
              "              style=\"display:none;\">\n",
              "        \n",
              "  <svg xmlns=\"http://www.w3.org/2000/svg\" height=\"24px\"viewBox=\"0 0 24 24\"\n",
              "       width=\"24px\">\n",
              "    <path d=\"M0 0h24v24H0V0z\" fill=\"none\"/>\n",
              "    <path d=\"M18.56 5.44l.94 2.06.94-2.06 2.06-.94-2.06-.94-.94-2.06-.94 2.06-2.06.94zm-11 1L8.5 8.5l.94-2.06 2.06-.94-2.06-.94L8.5 2.5l-.94 2.06-2.06.94zm10 10l.94 2.06.94-2.06 2.06-.94-2.06-.94-.94-2.06-.94 2.06-2.06.94z\"/><path d=\"M17.41 7.96l-1.37-1.37c-.4-.4-.92-.59-1.43-.59-.52 0-1.04.2-1.43.59L10.3 9.45l-7.72 7.72c-.78.78-.78 2.05 0 2.83L4 21.41c.39.39.9.59 1.41.59.51 0 1.02-.2 1.41-.59l7.78-7.78 2.81-2.81c.8-.78.8-2.07 0-2.86zM5.41 20L4 18.59l7.72-7.72 1.47 1.35L5.41 20z\"/>\n",
              "  </svg>\n",
              "      </button>\n",
              "      \n",
              "  <style>\n",
              "    .colab-df-container {\n",
              "      display:flex;\n",
              "      flex-wrap:wrap;\n",
              "      gap: 12px;\n",
              "    }\n",
              "\n",
              "    .colab-df-convert {\n",
              "      background-color: #E8F0FE;\n",
              "      border: none;\n",
              "      border-radius: 50%;\n",
              "      cursor: pointer;\n",
              "      display: none;\n",
              "      fill: #1967D2;\n",
              "      height: 32px;\n",
              "      padding: 0 0 0 0;\n",
              "      width: 32px;\n",
              "    }\n",
              "\n",
              "    .colab-df-convert:hover {\n",
              "      background-color: #E2EBFA;\n",
              "      box-shadow: 0px 1px 2px rgba(60, 64, 67, 0.3), 0px 1px 3px 1px rgba(60, 64, 67, 0.15);\n",
              "      fill: #174EA6;\n",
              "    }\n",
              "\n",
              "    [theme=dark] .colab-df-convert {\n",
              "      background-color: #3B4455;\n",
              "      fill: #D2E3FC;\n",
              "    }\n",
              "\n",
              "    [theme=dark] .colab-df-convert:hover {\n",
              "      background-color: #434B5C;\n",
              "      box-shadow: 0px 1px 3px 1px rgba(0, 0, 0, 0.15);\n",
              "      filter: drop-shadow(0px 1px 2px rgba(0, 0, 0, 0.3));\n",
              "      fill: #FFFFFF;\n",
              "    }\n",
              "  </style>\n",
              "\n",
              "      <script>\n",
              "        const buttonEl =\n",
              "          document.querySelector('#df-23ce1841-f7b8-4e74-8c24-4f970638eb51 button.colab-df-convert');\n",
              "        buttonEl.style.display =\n",
              "          google.colab.kernel.accessAllowed ? 'block' : 'none';\n",
              "\n",
              "        async function convertToInteractive(key) {\n",
              "          const element = document.querySelector('#df-23ce1841-f7b8-4e74-8c24-4f970638eb51');\n",
              "          const dataTable =\n",
              "            await google.colab.kernel.invokeFunction('convertToInteractive',\n",
              "                                                     [key], {});\n",
              "          if (!dataTable) return;\n",
              "\n",
              "          const docLinkHtml = 'Like what you see? Visit the ' +\n",
              "            '<a target=\"_blank\" href=https://colab.research.google.com/notebooks/data_table.ipynb>data table notebook</a>'\n",
              "            + ' to learn more about interactive tables.';\n",
              "          element.innerHTML = '';\n",
              "          dataTable['output_type'] = 'display_data';\n",
              "          await google.colab.output.renderOutput(dataTable, element);\n",
              "          const docLink = document.createElement('div');\n",
              "          docLink.innerHTML = docLinkHtml;\n",
              "          element.appendChild(docLink);\n",
              "        }\n",
              "      </script>\n",
              "    </div>\n",
              "  </div>\n",
              "  "
            ]
          },
          "metadata": {},
          "execution_count": 105
        }
      ]
    },
    {
      "cell_type": "code",
      "source": [
        "train_set = pd.concat([direct_up,indirect])"
      ],
      "metadata": {
        "id": "2VpGxA0WWWFH"
      },
      "execution_count": 25,
      "outputs": []
    },
    {
      "cell_type": "code",
      "source": [
        "train_set"
      ],
      "metadata": {
        "id": "tTZEAKdcWWIB",
        "colab": {
          "base_uri": "https://localhost:8080/",
          "height": 1000
        },
        "outputId": "eb45a40f-acb7-4996-8be9-47d418880de7"
      },
      "execution_count": 107,
      "outputs": [
        {
          "output_type": "execute_result",
          "data": {
            "text/plain": [
              "      formula        mpid spacegroup.symbol  nature of band gap  \\\n",
              "235     DyBO3    mp-12315               P-1                   1   \n",
              "1322   CsSnI3   mp-616378            P4/mbm                   1   \n",
              "893    YbTiO3   mp-754225              Pnma                   1   \n",
              "225    CsTaO3  mp-1185552             Pm-3m                   1   \n",
              "1392   LaErS3   mp-558977              Pnma                   1   \n",
              "...       ...         ...               ...                 ...   \n",
              "599    SnGeO3  mp-1101394               R-3                   0   \n",
              "1033  CsGeCl3    mp-22988               R3m                   0   \n",
              "763    ScAgO3   mp-776150              Cmmm                   0   \n",
              "835     TaHO3    mp-33753          I4_1/amd                   0   \n",
              "559     LuBO3   mp-760461              Cmcm                   0   \n",
              "\n",
              "                                              structure  \\\n",
              "235   Full Formula (Dy4 B4 O12)\\nReduced Formula: Dy...   \n",
              "1322  Full Formula (Cs2 Sn2 I6)\\nReduced Formula: Cs...   \n",
              "893   Full Formula (Yb4 Ti4 O12)\\nReduced Formula: Y...   \n",
              "225   Full Formula (Cs1 Ta1 O3)\\nReduced Formula: Cs...   \n",
              "1392  Full Formula (La12 Er12 S36)\\nReduced Formula:...   \n",
              "...                                                 ...   \n",
              "599   Full Formula (Sn2 Ge2 O6)\\nReduced Formula: Sn...   \n",
              "1033  Full Formula (Cs1 Ge1 Cl3)\\nReduced Formula: C...   \n",
              "763   Full Formula (Sc2 Ag2 O6)\\nReduced Formula: Sc...   \n",
              "835   Full Formula (Ta4 H4 O12)\\nReduced Formula: Ta...   \n",
              "559   Full Formula (Lu2 B2 O6)\\nReduced Formula: LuB...   \n",
              "\n",
              "      mean absolute deviation in relative bond length  \\\n",
              "235                                          0.091852   \n",
              "1322                                         0.081065   \n",
              "893                                          0.070545   \n",
              "225                                          0.084158   \n",
              "1392                                         0.043807   \n",
              "...                                               ...   \n",
              "599                                          0.074808   \n",
              "1033                                         0.085902   \n",
              "763                                          0.060036   \n",
              "835                                          0.140064   \n",
              "559                                          0.085489   \n",
              "\n",
              "      max relative bond length  minimum neighbor distance variation  \\\n",
              "235                   1.101680                             0.035515   \n",
              "1322                  1.101725                             0.000492   \n",
              "893                   1.053490                             0.006277   \n",
              "225                   1.116672                             0.000000   \n",
              "1392                  1.056940                             0.025358   \n",
              "...                        ...                                  ...   \n",
              "599                   1.046920                             0.000514   \n",
              "1033                  1.121213                             0.003916   \n",
              "763                   1.063636                             0.052070   \n",
              "835                   1.194641                             0.038691   \n",
              "559                   1.089653                             0.035688   \n",
              "\n",
              "      maximum neighbor distance variation  \\\n",
              "235                              0.349183   \n",
              "1322                             0.121074   \n",
              "893                              0.149524   \n",
              "225                              0.122408   \n",
              "1392                             0.162689   \n",
              "...                                   ...   \n",
              "599                              0.298383   \n",
              "1033                             0.128430   \n",
              "763                              0.194599   \n",
              "835                              0.341768   \n",
              "559                              0.361441   \n",
              "\n",
              "      avg_dev neighbor distance variation  ... mean AtomicWeight  mean Column  \\\n",
              "235                              0.071586  ...         44.261840         12.8   \n",
              "1322                             0.045599  ...        126.465772         13.2   \n",
              "893                              0.045393  ...         53.783840         11.0   \n",
              "225                              0.058756  ...         72.370306         10.8   \n",
              "1392                             0.041193  ...         80.471894         10.8   \n",
              "...                                   ...  ...               ...          ...   \n",
              "599                              0.075799  ...         47.869640         15.2   \n",
              "1033                             0.039589  ...         62.380890         13.2   \n",
              "763                              0.040361  ...         40.164462         12.4   \n",
              "835                              0.107140  ...         45.990804         10.8   \n",
              "559                              0.078007  ...         46.755200         12.8   \n",
              "\n",
              "      range Number  range AtomicRadius  range Electronegativity  \\\n",
              "235             61                1.15                     2.22   \n",
              "1322             5                1.20                     1.87   \n",
              "893             62                1.15                     2.18   \n",
              "225             65                2.00                     2.65   \n",
              "1392            52                0.95                     1.48   \n",
              "...            ...                 ...                      ...   \n",
              "599             42                0.85                     1.48   \n",
              "1033            38                1.60                     2.37   \n",
              "763             39                1.00                     2.08   \n",
              "835             72                1.20                     1.94   \n",
              "559             66                1.15                     2.17   \n",
              "\n",
              "      avg s valence electrons  avg p valence electrons  \\\n",
              "235                       2.0                      2.6   \n",
              "1322                      1.8                      3.4   \n",
              "893                       2.0                      2.4   \n",
              "225                       1.8                      2.4   \n",
              "1392                      2.0                      2.4   \n",
              "...                       ...                      ...   \n",
              "599                       2.0                      3.2   \n",
              "1033                      1.8                      3.4   \n",
              "763                       1.8                      2.4   \n",
              "835                       1.8                      2.4   \n",
              "559                       2.0                      2.6   \n",
              "\n",
              "      avg d valence electrons  avg f valence electrons  \\\n",
              "235                       0.0                      2.0   \n",
              "1322                      8.0                      0.0   \n",
              "893                       0.4                      2.8   \n",
              "225                       0.6                      2.8   \n",
              "1392                      0.2                      2.4   \n",
              "...                       ...                      ...   \n",
              "599                       4.0                      0.0   \n",
              "1033                      2.0                      0.0   \n",
              "763                       2.2                      0.0   \n",
              "835                       0.6                      2.8   \n",
              "559                       0.2                      2.8   \n",
              "\n",
              "      frac s valence electrons  \n",
              "235                   0.303030  \n",
              "1322                  0.136364  \n",
              "893                   0.263158  \n",
              "225                   0.236842  \n",
              "1392                  0.285714  \n",
              "...                        ...  \n",
              "599                   0.217391  \n",
              "1033                  0.250000  \n",
              "763                   0.281250  \n",
              "835                   0.236842  \n",
              "559                   0.263158  \n",
              "\n",
              "[1604 rows x 124 columns]"
            ],
            "text/html": [
              "\n",
              "  <div id=\"df-67ca8fc9-647a-4694-af64-707843bf249e\">\n",
              "    <div class=\"colab-df-container\">\n",
              "      <div>\n",
              "<style scoped>\n",
              "    .dataframe tbody tr th:only-of-type {\n",
              "        vertical-align: middle;\n",
              "    }\n",
              "\n",
              "    .dataframe tbody tr th {\n",
              "        vertical-align: top;\n",
              "    }\n",
              "\n",
              "    .dataframe thead th {\n",
              "        text-align: right;\n",
              "    }\n",
              "</style>\n",
              "<table border=\"1\" class=\"dataframe\">\n",
              "  <thead>\n",
              "    <tr style=\"text-align: right;\">\n",
              "      <th></th>\n",
              "      <th>formula</th>\n",
              "      <th>mpid</th>\n",
              "      <th>spacegroup.symbol</th>\n",
              "      <th>nature of band gap</th>\n",
              "      <th>structure</th>\n",
              "      <th>mean absolute deviation in relative bond length</th>\n",
              "      <th>max relative bond length</th>\n",
              "      <th>minimum neighbor distance variation</th>\n",
              "      <th>maximum neighbor distance variation</th>\n",
              "      <th>avg_dev neighbor distance variation</th>\n",
              "      <th>...</th>\n",
              "      <th>mean AtomicWeight</th>\n",
              "      <th>mean Column</th>\n",
              "      <th>range Number</th>\n",
              "      <th>range AtomicRadius</th>\n",
              "      <th>range Electronegativity</th>\n",
              "      <th>avg s valence electrons</th>\n",
              "      <th>avg p valence electrons</th>\n",
              "      <th>avg d valence electrons</th>\n",
              "      <th>avg f valence electrons</th>\n",
              "      <th>frac s valence electrons</th>\n",
              "    </tr>\n",
              "  </thead>\n",
              "  <tbody>\n",
              "    <tr>\n",
              "      <th>235</th>\n",
              "      <td>DyBO3</td>\n",
              "      <td>mp-12315</td>\n",
              "      <td>P-1</td>\n",
              "      <td>1</td>\n",
              "      <td>Full Formula (Dy4 B4 O12)\\nReduced Formula: Dy...</td>\n",
              "      <td>0.091852</td>\n",
              "      <td>1.101680</td>\n",
              "      <td>0.035515</td>\n",
              "      <td>0.349183</td>\n",
              "      <td>0.071586</td>\n",
              "      <td>...</td>\n",
              "      <td>44.261840</td>\n",
              "      <td>12.8</td>\n",
              "      <td>61</td>\n",
              "      <td>1.15</td>\n",
              "      <td>2.22</td>\n",
              "      <td>2.0</td>\n",
              "      <td>2.6</td>\n",
              "      <td>0.0</td>\n",
              "      <td>2.0</td>\n",
              "      <td>0.303030</td>\n",
              "    </tr>\n",
              "    <tr>\n",
              "      <th>1322</th>\n",
              "      <td>CsSnI3</td>\n",
              "      <td>mp-616378</td>\n",
              "      <td>P4/mbm</td>\n",
              "      <td>1</td>\n",
              "      <td>Full Formula (Cs2 Sn2 I6)\\nReduced Formula: Cs...</td>\n",
              "      <td>0.081065</td>\n",
              "      <td>1.101725</td>\n",
              "      <td>0.000492</td>\n",
              "      <td>0.121074</td>\n",
              "      <td>0.045599</td>\n",
              "      <td>...</td>\n",
              "      <td>126.465772</td>\n",
              "      <td>13.2</td>\n",
              "      <td>5</td>\n",
              "      <td>1.20</td>\n",
              "      <td>1.87</td>\n",
              "      <td>1.8</td>\n",
              "      <td>3.4</td>\n",
              "      <td>8.0</td>\n",
              "      <td>0.0</td>\n",
              "      <td>0.136364</td>\n",
              "    </tr>\n",
              "    <tr>\n",
              "      <th>893</th>\n",
              "      <td>YbTiO3</td>\n",
              "      <td>mp-754225</td>\n",
              "      <td>Pnma</td>\n",
              "      <td>1</td>\n",
              "      <td>Full Formula (Yb4 Ti4 O12)\\nReduced Formula: Y...</td>\n",
              "      <td>0.070545</td>\n",
              "      <td>1.053490</td>\n",
              "      <td>0.006277</td>\n",
              "      <td>0.149524</td>\n",
              "      <td>0.045393</td>\n",
              "      <td>...</td>\n",
              "      <td>53.783840</td>\n",
              "      <td>11.0</td>\n",
              "      <td>62</td>\n",
              "      <td>1.15</td>\n",
              "      <td>2.18</td>\n",
              "      <td>2.0</td>\n",
              "      <td>2.4</td>\n",
              "      <td>0.4</td>\n",
              "      <td>2.8</td>\n",
              "      <td>0.263158</td>\n",
              "    </tr>\n",
              "    <tr>\n",
              "      <th>225</th>\n",
              "      <td>CsTaO3</td>\n",
              "      <td>mp-1185552</td>\n",
              "      <td>Pm-3m</td>\n",
              "      <td>1</td>\n",
              "      <td>Full Formula (Cs1 Ta1 O3)\\nReduced Formula: Cs...</td>\n",
              "      <td>0.084158</td>\n",
              "      <td>1.116672</td>\n",
              "      <td>0.000000</td>\n",
              "      <td>0.122408</td>\n",
              "      <td>0.058756</td>\n",
              "      <td>...</td>\n",
              "      <td>72.370306</td>\n",
              "      <td>10.8</td>\n",
              "      <td>65</td>\n",
              "      <td>2.00</td>\n",
              "      <td>2.65</td>\n",
              "      <td>1.8</td>\n",
              "      <td>2.4</td>\n",
              "      <td>0.6</td>\n",
              "      <td>2.8</td>\n",
              "      <td>0.236842</td>\n",
              "    </tr>\n",
              "    <tr>\n",
              "      <th>1392</th>\n",
              "      <td>LaErS3</td>\n",
              "      <td>mp-558977</td>\n",
              "      <td>Pnma</td>\n",
              "      <td>1</td>\n",
              "      <td>Full Formula (La12 Er12 S36)\\nReduced Formula:...</td>\n",
              "      <td>0.043807</td>\n",
              "      <td>1.056940</td>\n",
              "      <td>0.025358</td>\n",
              "      <td>0.162689</td>\n",
              "      <td>0.041193</td>\n",
              "      <td>...</td>\n",
              "      <td>80.471894</td>\n",
              "      <td>10.8</td>\n",
              "      <td>52</td>\n",
              "      <td>0.95</td>\n",
              "      <td>1.48</td>\n",
              "      <td>2.0</td>\n",
              "      <td>2.4</td>\n",
              "      <td>0.2</td>\n",
              "      <td>2.4</td>\n",
              "      <td>0.285714</td>\n",
              "    </tr>\n",
              "    <tr>\n",
              "      <th>...</th>\n",
              "      <td>...</td>\n",
              "      <td>...</td>\n",
              "      <td>...</td>\n",
              "      <td>...</td>\n",
              "      <td>...</td>\n",
              "      <td>...</td>\n",
              "      <td>...</td>\n",
              "      <td>...</td>\n",
              "      <td>...</td>\n",
              "      <td>...</td>\n",
              "      <td>...</td>\n",
              "      <td>...</td>\n",
              "      <td>...</td>\n",
              "      <td>...</td>\n",
              "      <td>...</td>\n",
              "      <td>...</td>\n",
              "      <td>...</td>\n",
              "      <td>...</td>\n",
              "      <td>...</td>\n",
              "      <td>...</td>\n",
              "      <td>...</td>\n",
              "    </tr>\n",
              "    <tr>\n",
              "      <th>599</th>\n",
              "      <td>SnGeO3</td>\n",
              "      <td>mp-1101394</td>\n",
              "      <td>R-3</td>\n",
              "      <td>0</td>\n",
              "      <td>Full Formula (Sn2 Ge2 O6)\\nReduced Formula: Sn...</td>\n",
              "      <td>0.074808</td>\n",
              "      <td>1.046920</td>\n",
              "      <td>0.000514</td>\n",
              "      <td>0.298383</td>\n",
              "      <td>0.075799</td>\n",
              "      <td>...</td>\n",
              "      <td>47.869640</td>\n",
              "      <td>15.2</td>\n",
              "      <td>42</td>\n",
              "      <td>0.85</td>\n",
              "      <td>1.48</td>\n",
              "      <td>2.0</td>\n",
              "      <td>3.2</td>\n",
              "      <td>4.0</td>\n",
              "      <td>0.0</td>\n",
              "      <td>0.217391</td>\n",
              "    </tr>\n",
              "    <tr>\n",
              "      <th>1033</th>\n",
              "      <td>CsGeCl3</td>\n",
              "      <td>mp-22988</td>\n",
              "      <td>R3m</td>\n",
              "      <td>0</td>\n",
              "      <td>Full Formula (Cs1 Ge1 Cl3)\\nReduced Formula: C...</td>\n",
              "      <td>0.085902</td>\n",
              "      <td>1.121213</td>\n",
              "      <td>0.003916</td>\n",
              "      <td>0.128430</td>\n",
              "      <td>0.039589</td>\n",
              "      <td>...</td>\n",
              "      <td>62.380890</td>\n",
              "      <td>13.2</td>\n",
              "      <td>38</td>\n",
              "      <td>1.60</td>\n",
              "      <td>2.37</td>\n",
              "      <td>1.8</td>\n",
              "      <td>3.4</td>\n",
              "      <td>2.0</td>\n",
              "      <td>0.0</td>\n",
              "      <td>0.250000</td>\n",
              "    </tr>\n",
              "    <tr>\n",
              "      <th>763</th>\n",
              "      <td>ScAgO3</td>\n",
              "      <td>mp-776150</td>\n",
              "      <td>Cmmm</td>\n",
              "      <td>0</td>\n",
              "      <td>Full Formula (Sc2 Ag2 O6)\\nReduced Formula: Sc...</td>\n",
              "      <td>0.060036</td>\n",
              "      <td>1.063636</td>\n",
              "      <td>0.052070</td>\n",
              "      <td>0.194599</td>\n",
              "      <td>0.040361</td>\n",
              "      <td>...</td>\n",
              "      <td>40.164462</td>\n",
              "      <td>12.4</td>\n",
              "      <td>39</td>\n",
              "      <td>1.00</td>\n",
              "      <td>2.08</td>\n",
              "      <td>1.8</td>\n",
              "      <td>2.4</td>\n",
              "      <td>2.2</td>\n",
              "      <td>0.0</td>\n",
              "      <td>0.281250</td>\n",
              "    </tr>\n",
              "    <tr>\n",
              "      <th>835</th>\n",
              "      <td>TaHO3</td>\n",
              "      <td>mp-33753</td>\n",
              "      <td>I4_1/amd</td>\n",
              "      <td>0</td>\n",
              "      <td>Full Formula (Ta4 H4 O12)\\nReduced Formula: Ta...</td>\n",
              "      <td>0.140064</td>\n",
              "      <td>1.194641</td>\n",
              "      <td>0.038691</td>\n",
              "      <td>0.341768</td>\n",
              "      <td>0.107140</td>\n",
              "      <td>...</td>\n",
              "      <td>45.990804</td>\n",
              "      <td>10.8</td>\n",
              "      <td>72</td>\n",
              "      <td>1.20</td>\n",
              "      <td>1.94</td>\n",
              "      <td>1.8</td>\n",
              "      <td>2.4</td>\n",
              "      <td>0.6</td>\n",
              "      <td>2.8</td>\n",
              "      <td>0.236842</td>\n",
              "    </tr>\n",
              "    <tr>\n",
              "      <th>559</th>\n",
              "      <td>LuBO3</td>\n",
              "      <td>mp-760461</td>\n",
              "      <td>Cmcm</td>\n",
              "      <td>0</td>\n",
              "      <td>Full Formula (Lu2 B2 O6)\\nReduced Formula: LuB...</td>\n",
              "      <td>0.085489</td>\n",
              "      <td>1.089653</td>\n",
              "      <td>0.035688</td>\n",
              "      <td>0.361441</td>\n",
              "      <td>0.078007</td>\n",
              "      <td>...</td>\n",
              "      <td>46.755200</td>\n",
              "      <td>12.8</td>\n",
              "      <td>66</td>\n",
              "      <td>1.15</td>\n",
              "      <td>2.17</td>\n",
              "      <td>2.0</td>\n",
              "      <td>2.6</td>\n",
              "      <td>0.2</td>\n",
              "      <td>2.8</td>\n",
              "      <td>0.263158</td>\n",
              "    </tr>\n",
              "  </tbody>\n",
              "</table>\n",
              "<p>1604 rows × 124 columns</p>\n",
              "</div>\n",
              "      <button class=\"colab-df-convert\" onclick=\"convertToInteractive('df-67ca8fc9-647a-4694-af64-707843bf249e')\"\n",
              "              title=\"Convert this dataframe to an interactive table.\"\n",
              "              style=\"display:none;\">\n",
              "        \n",
              "  <svg xmlns=\"http://www.w3.org/2000/svg\" height=\"24px\"viewBox=\"0 0 24 24\"\n",
              "       width=\"24px\">\n",
              "    <path d=\"M0 0h24v24H0V0z\" fill=\"none\"/>\n",
              "    <path d=\"M18.56 5.44l.94 2.06.94-2.06 2.06-.94-2.06-.94-.94-2.06-.94 2.06-2.06.94zm-11 1L8.5 8.5l.94-2.06 2.06-.94-2.06-.94L8.5 2.5l-.94 2.06-2.06.94zm10 10l.94 2.06.94-2.06 2.06-.94-2.06-.94-.94-2.06-.94 2.06-2.06.94z\"/><path d=\"M17.41 7.96l-1.37-1.37c-.4-.4-.92-.59-1.43-.59-.52 0-1.04.2-1.43.59L10.3 9.45l-7.72 7.72c-.78.78-.78 2.05 0 2.83L4 21.41c.39.39.9.59 1.41.59.51 0 1.02-.2 1.41-.59l7.78-7.78 2.81-2.81c.8-.78.8-2.07 0-2.86zM5.41 20L4 18.59l7.72-7.72 1.47 1.35L5.41 20z\"/>\n",
              "  </svg>\n",
              "      </button>\n",
              "      \n",
              "  <style>\n",
              "    .colab-df-container {\n",
              "      display:flex;\n",
              "      flex-wrap:wrap;\n",
              "      gap: 12px;\n",
              "    }\n",
              "\n",
              "    .colab-df-convert {\n",
              "      background-color: #E8F0FE;\n",
              "      border: none;\n",
              "      border-radius: 50%;\n",
              "      cursor: pointer;\n",
              "      display: none;\n",
              "      fill: #1967D2;\n",
              "      height: 32px;\n",
              "      padding: 0 0 0 0;\n",
              "      width: 32px;\n",
              "    }\n",
              "\n",
              "    .colab-df-convert:hover {\n",
              "      background-color: #E2EBFA;\n",
              "      box-shadow: 0px 1px 2px rgba(60, 64, 67, 0.3), 0px 1px 3px 1px rgba(60, 64, 67, 0.15);\n",
              "      fill: #174EA6;\n",
              "    }\n",
              "\n",
              "    [theme=dark] .colab-df-convert {\n",
              "      background-color: #3B4455;\n",
              "      fill: #D2E3FC;\n",
              "    }\n",
              "\n",
              "    [theme=dark] .colab-df-convert:hover {\n",
              "      background-color: #434B5C;\n",
              "      box-shadow: 0px 1px 3px 1px rgba(0, 0, 0, 0.15);\n",
              "      filter: drop-shadow(0px 1px 2px rgba(0, 0, 0, 0.3));\n",
              "      fill: #FFFFFF;\n",
              "    }\n",
              "  </style>\n",
              "\n",
              "      <script>\n",
              "        const buttonEl =\n",
              "          document.querySelector('#df-67ca8fc9-647a-4694-af64-707843bf249e button.colab-df-convert');\n",
              "        buttonEl.style.display =\n",
              "          google.colab.kernel.accessAllowed ? 'block' : 'none';\n",
              "\n",
              "        async function convertToInteractive(key) {\n",
              "          const element = document.querySelector('#df-67ca8fc9-647a-4694-af64-707843bf249e');\n",
              "          const dataTable =\n",
              "            await google.colab.kernel.invokeFunction('convertToInteractive',\n",
              "                                                     [key], {});\n",
              "          if (!dataTable) return;\n",
              "\n",
              "          const docLinkHtml = 'Like what you see? Visit the ' +\n",
              "            '<a target=\"_blank\" href=https://colab.research.google.com/notebooks/data_table.ipynb>data table notebook</a>'\n",
              "            + ' to learn more about interactive tables.';\n",
              "          element.innerHTML = '';\n",
              "          dataTable['output_type'] = 'display_data';\n",
              "          await google.colab.output.renderOutput(dataTable, element);\n",
              "          const docLink = document.createElement('div');\n",
              "          docLink.innerHTML = docLinkHtml;\n",
              "          element.appendChild(docLink);\n",
              "        }\n",
              "      </script>\n",
              "    </div>\n",
              "  </div>\n",
              "  "
            ]
          },
          "metadata": {},
          "execution_count": 107
        }
      ]
    },
    {
      "cell_type": "code",
      "source": [
        "X=train_set.drop(['formula', 'mpid', 'composition', 'structure', 'spacegroup.symbol', 'nature of band gap'], axis=1)\n",
        "Y=train_set['nature of band gap']\n",
        "x=test_set.drop(['formula', 'mpid', 'composition', 'structure', 'spacegroup.symbol', 'nature of band gap'], axis=1)\n",
        "y=test_set['nature of band gap']"
      ],
      "metadata": {
        "id": "uGOCz9YVWWLF"
      },
      "execution_count": 26,
      "outputs": []
    },
    {
      "cell_type": "code",
      "source": [
        "import seaborn as sns\n",
        "import matplotlib.pyplot as plt"
      ],
      "metadata": {
        "id": "y5Jc6Do3WWN9"
      },
      "execution_count": 27,
      "outputs": []
    },
    {
      "cell_type": "code",
      "source": [
        "matplotlib inline"
      ],
      "metadata": {
        "id": "4kYCmeKIWWSK"
      },
      "execution_count": 28,
      "outputs": []
    },
    {
      "cell_type": "code",
      "source": [
        "rf.fit(X,Y)"
      ],
      "metadata": {
        "id": "Abz6HTqMWh4Q",
        "colab": {
          "base_uri": "https://localhost:8080/",
          "height": 147
        },
        "outputId": "19d824e8-563d-4663-b58a-7481d22df3a5"
      },
      "execution_count": 29,
      "outputs": [
        {
          "output_type": "stream",
          "name": "stderr",
          "text": [
            "/usr/local/lib/python3.10/dist-packages/sklearn/ensemble/_forest.py:424: FutureWarning: `max_features='auto'` has been deprecated in 1.1 and will be removed in 1.3. To keep the past behaviour, explicitly set `max_features='sqrt'` or remove this parameter as it is also the default value for RandomForestClassifiers and ExtraTreesClassifiers.\n",
            "  warn(\n"
          ]
        },
        {
          "output_type": "execute_result",
          "data": {
            "text/plain": [
              "RandomForestClassifier(bootstrap=False, max_depth=70, max_features='auto',\n",
              "                       n_estimators=1000, random_state=0)"
            ],
            "text/html": [
              "<style>#sk-container-id-1 {color: black;background-color: white;}#sk-container-id-1 pre{padding: 0;}#sk-container-id-1 div.sk-toggleable {background-color: white;}#sk-container-id-1 label.sk-toggleable__label {cursor: pointer;display: block;width: 100%;margin-bottom: 0;padding: 0.3em;box-sizing: border-box;text-align: center;}#sk-container-id-1 label.sk-toggleable__label-arrow:before {content: \"▸\";float: left;margin-right: 0.25em;color: #696969;}#sk-container-id-1 label.sk-toggleable__label-arrow:hover:before {color: black;}#sk-container-id-1 div.sk-estimator:hover label.sk-toggleable__label-arrow:before {color: black;}#sk-container-id-1 div.sk-toggleable__content {max-height: 0;max-width: 0;overflow: hidden;text-align: left;background-color: #f0f8ff;}#sk-container-id-1 div.sk-toggleable__content pre {margin: 0.2em;color: black;border-radius: 0.25em;background-color: #f0f8ff;}#sk-container-id-1 input.sk-toggleable__control:checked~div.sk-toggleable__content {max-height: 200px;max-width: 100%;overflow: auto;}#sk-container-id-1 input.sk-toggleable__control:checked~label.sk-toggleable__label-arrow:before {content: \"▾\";}#sk-container-id-1 div.sk-estimator input.sk-toggleable__control:checked~label.sk-toggleable__label {background-color: #d4ebff;}#sk-container-id-1 div.sk-label input.sk-toggleable__control:checked~label.sk-toggleable__label {background-color: #d4ebff;}#sk-container-id-1 input.sk-hidden--visually {border: 0;clip: rect(1px 1px 1px 1px);clip: rect(1px, 1px, 1px, 1px);height: 1px;margin: -1px;overflow: hidden;padding: 0;position: absolute;width: 1px;}#sk-container-id-1 div.sk-estimator {font-family: monospace;background-color: #f0f8ff;border: 1px dotted black;border-radius: 0.25em;box-sizing: border-box;margin-bottom: 0.5em;}#sk-container-id-1 div.sk-estimator:hover {background-color: #d4ebff;}#sk-container-id-1 div.sk-parallel-item::after {content: \"\";width: 100%;border-bottom: 1px solid gray;flex-grow: 1;}#sk-container-id-1 div.sk-label:hover label.sk-toggleable__label {background-color: #d4ebff;}#sk-container-id-1 div.sk-serial::before {content: \"\";position: absolute;border-left: 1px solid gray;box-sizing: border-box;top: 0;bottom: 0;left: 50%;z-index: 0;}#sk-container-id-1 div.sk-serial {display: flex;flex-direction: column;align-items: center;background-color: white;padding-right: 0.2em;padding-left: 0.2em;position: relative;}#sk-container-id-1 div.sk-item {position: relative;z-index: 1;}#sk-container-id-1 div.sk-parallel {display: flex;align-items: stretch;justify-content: center;background-color: white;position: relative;}#sk-container-id-1 div.sk-item::before, #sk-container-id-1 div.sk-parallel-item::before {content: \"\";position: absolute;border-left: 1px solid gray;box-sizing: border-box;top: 0;bottom: 0;left: 50%;z-index: -1;}#sk-container-id-1 div.sk-parallel-item {display: flex;flex-direction: column;z-index: 1;position: relative;background-color: white;}#sk-container-id-1 div.sk-parallel-item:first-child::after {align-self: flex-end;width: 50%;}#sk-container-id-1 div.sk-parallel-item:last-child::after {align-self: flex-start;width: 50%;}#sk-container-id-1 div.sk-parallel-item:only-child::after {width: 0;}#sk-container-id-1 div.sk-dashed-wrapped {border: 1px dashed gray;margin: 0 0.4em 0.5em 0.4em;box-sizing: border-box;padding-bottom: 0.4em;background-color: white;}#sk-container-id-1 div.sk-label label {font-family: monospace;font-weight: bold;display: inline-block;line-height: 1.2em;}#sk-container-id-1 div.sk-label-container {text-align: center;}#sk-container-id-1 div.sk-container {/* jupyter's `normalize.less` sets `[hidden] { display: none; }` but bootstrap.min.css set `[hidden] { display: none !important; }` so we also need the `!important` here to be able to override the default hidden behavior on the sphinx rendered scikit-learn.org. See: https://github.com/scikit-learn/scikit-learn/issues/21755 */display: inline-block !important;position: relative;}#sk-container-id-1 div.sk-text-repr-fallback {display: none;}</style><div id=\"sk-container-id-1\" class=\"sk-top-container\"><div class=\"sk-text-repr-fallback\"><pre>RandomForestClassifier(bootstrap=False, max_depth=70, max_features=&#x27;auto&#x27;,\n",
              "                       n_estimators=1000, random_state=0)</pre><b>In a Jupyter environment, please rerun this cell to show the HTML representation or trust the notebook. <br />On GitHub, the HTML representation is unable to render, please try loading this page with nbviewer.org.</b></div><div class=\"sk-container\" hidden><div class=\"sk-item\"><div class=\"sk-estimator sk-toggleable\"><input class=\"sk-toggleable__control sk-hidden--visually\" id=\"sk-estimator-id-1\" type=\"checkbox\" checked><label for=\"sk-estimator-id-1\" class=\"sk-toggleable__label sk-toggleable__label-arrow\">RandomForestClassifier</label><div class=\"sk-toggleable__content\"><pre>RandomForestClassifier(bootstrap=False, max_depth=70, max_features=&#x27;auto&#x27;,\n",
              "                       n_estimators=1000, random_state=0)</pre></div></div></div></div></div>"
            ]
          },
          "metadata": {},
          "execution_count": 29
        }
      ]
    },
    {
      "cell_type": "code",
      "source": [
        "y_rf=rf.predict(x)"
      ],
      "metadata": {
        "id": "fBPIjzkhWueD"
      },
      "execution_count": 30,
      "outputs": []
    },
    {
      "cell_type": "code",
      "source": [
        "print(classification_report(y, y_rf))"
      ],
      "metadata": {
        "id": "0uYk9dABWumq",
        "colab": {
          "base_uri": "https://localhost:8080/"
        },
        "outputId": "29742984-e0e6-4e79-a6e1-ccd2e7ae613f"
      },
      "execution_count": 31,
      "outputs": [
        {
          "output_type": "stream",
          "name": "stdout",
          "text": [
            "              precision    recall  f1-score   support\n",
            "\n",
            "           0       0.78      0.96      0.86       113\n",
            "           1       0.67      0.25      0.36        40\n",
            "\n",
            "    accuracy                           0.77       153\n",
            "   macro avg       0.72      0.60      0.61       153\n",
            "weighted avg       0.75      0.77      0.73       153\n",
            "\n"
          ]
        }
      ]
    },
    {
      "cell_type": "code",
      "source": [
        "matrix = ConfusionMatrixDisplay.from_predictions(y, rf.predict(x))\n",
        "plt.show()"
      ],
      "metadata": {
        "colab": {
          "base_uri": "https://localhost:8080/",
          "height": 449
        },
        "id": "Iu6hnKu35t0t",
        "outputId": "06537cab-c4ea-4299-8efe-a923682a4216"
      },
      "execution_count": 174,
      "outputs": [
        {
          "output_type": "display_data",
          "data": {
            "text/plain": [
              "<Figure size 640x480 with 2 Axes>"
            ],
            "image/png": "[encoded data removed]"
          },
          "metadata": {}
        }
      ]
    },
    {
      "cell_type": "code",
      "source": [
        "fpr_rf, tpr_rf, thr_rf = roc_curve(y, y_rf)"
      ],
      "metadata": {
        "id": "HUtULejKWusU"
      },
      "execution_count": 33,
      "outputs": []
    },
    {
      "cell_type": "code",
      "source": [
        "plt.plot(fpr_rf, tpr_rf, linestyle='-')\n",
        "plt.xlabel('FPR')\n",
        "plt.ylabel('TPR')\n",
        "plt.savefig('RF.jpg')"
      ],
      "metadata": {
        "id": "ttcxqfrIWh9x",
        "colab": {
          "base_uri": "https://localhost:8080/",
          "height": 449
        },
        "outputId": "809c7754-dd61-4c17-c1b2-02c0dead9777"
      },
      "execution_count": 34,
      "outputs": [
        {
          "output_type": "display_data",
          "data": {
            "text/plain": [
              "<Figure size 640x480 with 1 Axes>"
            ],
            "image/png": "[encoded data removed]"
          },
          "metadata": {}
        }
      ]
    },
    {
      "cell_type": "code",
      "source": [
        "auc_rf = auc(fpr_rf, tpr_rf)\n",
        "auc_rf"
      ],
      "metadata": {
        "id": "M1bypuDRWiAl",
        "colab": {
          "base_uri": "https://localhost:8080/"
        },
        "outputId": "704df7f0-33cd-4cea-b3a1-97ba596afac5"
      },
      "execution_count": 35,
      "outputs": [
        {
          "output_type": "execute_result",
          "data": {
            "text/plain": [
              "0.6028761061946903"
            ]
          },
          "metadata": {},
          "execution_count": 35
        }
      ]
    },
    {
      "cell_type": "code",
      "source": [
        "lr.fit(X,Y)"
      ],
      "metadata": {
        "id": "hbJX8gp9W57x",
        "colab": {
          "base_uri": "https://localhost:8080/",
          "height": 213
        },
        "outputId": "1c2974fe-fa27-4272-8191-37539d1dc712"
      },
      "execution_count": 36,
      "outputs": [
        {
          "output_type": "stream",
          "name": "stderr",
          "text": [
            "/usr/local/lib/python3.10/dist-packages/sklearn/linear_model/_logistic.py:458: ConvergenceWarning: lbfgs failed to converge (status=1):\n",
            "STOP: TOTAL NO. of ITERATIONS REACHED LIMIT.\n",
            "\n",
            "Increase the number of iterations (max_iter) or scale the data as shown in:\n",
            "    https://scikit-learn.org/stable/modules/preprocessing.html\n",
            "Please also refer to the documentation for alternative solver options:\n",
            "    https://scikit-learn.org/stable/modules/linear_model.html#logistic-regression\n",
            "  n_iter_i = _check_optimize_result(\n"
          ]
        },
        {
          "output_type": "execute_result",
          "data": {
            "text/plain": [
              "LogisticRegression()"
            ],
            "text/html": [
              "<style>#sk-container-id-2 {color: black;background-color: white;}#sk-container-id-2 pre{padding: 0;}#sk-container-id-2 div.sk-toggleable {background-color: white;}#sk-container-id-2 label.sk-toggleable__label {cursor: pointer;display: block;width: 100%;margin-bottom: 0;padding: 0.3em;box-sizing: border-box;text-align: center;}#sk-container-id-2 label.sk-toggleable__label-arrow:before {content: \"▸\";float: left;margin-right: 0.25em;color: #696969;}#sk-container-id-2 label.sk-toggleable__label-arrow:hover:before {color: black;}#sk-container-id-2 div.sk-estimator:hover label.sk-toggleable__label-arrow:before {color: black;}#sk-container-id-2 div.sk-toggleable__content {max-height: 0;max-width: 0;overflow: hidden;text-align: left;background-color: #f0f8ff;}#sk-container-id-2 div.sk-toggleable__content pre {margin: 0.2em;color: black;border-radius: 0.25em;background-color: #f0f8ff;}#sk-container-id-2 input.sk-toggleable__control:checked~div.sk-toggleable__content {max-height: 200px;max-width: 100%;overflow: auto;}#sk-container-id-2 input.sk-toggleable__control:checked~label.sk-toggleable__label-arrow:before {content: \"▾\";}#sk-container-id-2 div.sk-estimator input.sk-toggleable__control:checked~label.sk-toggleable__label {background-color: #d4ebff;}#sk-container-id-2 div.sk-label input.sk-toggleable__control:checked~label.sk-toggleable__label {background-color: #d4ebff;}#sk-container-id-2 input.sk-hidden--visually {border: 0;clip: rect(1px 1px 1px 1px);clip: rect(1px, 1px, 1px, 1px);height: 1px;margin: -1px;overflow: hidden;padding: 0;position: absolute;width: 1px;}#sk-container-id-2 div.sk-estimator {font-family: monospace;background-color: #f0f8ff;border: 1px dotted black;border-radius: 0.25em;box-sizing: border-box;margin-bottom: 0.5em;}#sk-container-id-2 div.sk-estimator:hover {background-color: #d4ebff;}#sk-container-id-2 div.sk-parallel-item::after {content: \"\";width: 100%;border-bottom: 1px solid gray;flex-grow: 1;}#sk-container-id-2 div.sk-label:hover label.sk-toggleable__label {background-color: #d4ebff;}#sk-container-id-2 div.sk-serial::before {content: \"\";position: absolute;border-left: 1px solid gray;box-sizing: border-box;top: 0;bottom: 0;left: 50%;z-index: 0;}#sk-container-id-2 div.sk-serial {display: flex;flex-direction: column;align-items: center;background-color: white;padding-right: 0.2em;padding-left: 0.2em;position: relative;}#sk-container-id-2 div.sk-item {position: relative;z-index: 1;}#sk-container-id-2 div.sk-parallel {display: flex;align-items: stretch;justify-content: center;background-color: white;position: relative;}#sk-container-id-2 div.sk-item::before, #sk-container-id-2 div.sk-parallel-item::before {content: \"\";position: absolute;border-left: 1px solid gray;box-sizing: border-box;top: 0;bottom: 0;left: 50%;z-index: -1;}#sk-container-id-2 div.sk-parallel-item {display: flex;flex-direction: column;z-index: 1;position: relative;background-color: white;}#sk-container-id-2 div.sk-parallel-item:first-child::after {align-self: flex-end;width: 50%;}#sk-container-id-2 div.sk-parallel-item:last-child::after {align-self: flex-start;width: 50%;}#sk-container-id-2 div.sk-parallel-item:only-child::after {width: 0;}#sk-container-id-2 div.sk-dashed-wrapped {border: 1px dashed gray;margin: 0 0.4em 0.5em 0.4em;box-sizing: border-box;padding-bottom: 0.4em;background-color: white;}#sk-container-id-2 div.sk-label label {font-family: monospace;font-weight: bold;display: inline-block;line-height: 1.2em;}#sk-container-id-2 div.sk-label-container {text-align: center;}#sk-container-id-2 div.sk-container {/* jupyter's `normalize.less` sets `[hidden] { display: none; }` but bootstrap.min.css set `[hidden] { display: none !important; }` so we also need the `!important` here to be able to override the default hidden behavior on the sphinx rendered scikit-learn.org. See: https://github.com/scikit-learn/scikit-learn/issues/21755 */display: inline-block !important;position: relative;}#sk-container-id-2 div.sk-text-repr-fallback {display: none;}</style><div id=\"sk-container-id-2\" class=\"sk-top-container\"><div class=\"sk-text-repr-fallback\"><pre>LogisticRegression()</pre><b>In a Jupyter environment, please rerun this cell to show the HTML representation or trust the notebook. <br />On GitHub, the HTML representation is unable to render, please try loading this page with nbviewer.org.</b></div><div class=\"sk-container\" hidden><div class=\"sk-item\"><div class=\"sk-estimator sk-toggleable\"><input class=\"sk-toggleable__control sk-hidden--visually\" id=\"sk-estimator-id-2\" type=\"checkbox\" checked><label for=\"sk-estimator-id-2\" class=\"sk-toggleable__label sk-toggleable__label-arrow\">LogisticRegression</label><div class=\"sk-toggleable__content\"><pre>LogisticRegression()</pre></div></div></div></div></div>"
            ]
          },
          "metadata": {},
          "execution_count": 36
        }
      ]
    },
    {
      "cell_type": "code",
      "source": [
        "y_lr=lr.predict(x)"
      ],
      "metadata": {
        "id": "r86DldAEW5_t"
      },
      "execution_count": 37,
      "outputs": []
    },
    {
      "cell_type": "code",
      "source": [
        "print(classification_report(y, y_lr))"
      ],
      "metadata": {
        "id": "9qptvydBW6FX",
        "colab": {
          "base_uri": "https://localhost:8080/"
        },
        "outputId": "bae4e6ac-8226-4979-de9d-d5bc59a6d138"
      },
      "execution_count": 125,
      "outputs": [
        {
          "output_type": "stream",
          "name": "stdout",
          "text": [
            "              precision    recall  f1-score   support\n",
            "\n",
            "           0       0.74      0.88      0.81       113\n",
            "           1       0.28      0.12      0.17        40\n",
            "\n",
            "    accuracy                           0.69       153\n",
            "   macro avg       0.51      0.50      0.49       153\n",
            "weighted avg       0.62      0.69      0.64       153\n",
            "\n"
          ]
        }
      ]
    },
    {
      "cell_type": "code",
      "source": [
        "matrix = ConfusionMatrixDisplay.from_predictions(y, lr.predict(x))\n",
        "plt.show()"
      ],
      "metadata": {
        "colab": {
          "base_uri": "https://localhost:8080/",
          "height": 455
        },
        "id": "1NbETYdu5pkD",
        "outputId": "a604ae9c-faf4-468f-e6c8-4d759e979380"
      },
      "execution_count": 173,
      "outputs": [
        {
          "output_type": "display_data",
          "data": {
            "text/plain": [
              "<Figure size 640x480 with 2 Axes>"
            ],
            "image/png": "[encoded data removed]"
          },
          "metadata": {}
        }
      ]
    },
    {
      "cell_type": "code",
      "source": [
        "fpr_lr, tpr_lr, thr_lr = roc_curve(y, y_lr)"
      ],
      "metadata": {
        "id": "oemoYI1XW6LK"
      },
      "execution_count": 38,
      "outputs": []
    },
    {
      "cell_type": "code",
      "source": [
        "plt.plot(fpr_lr, tpr_lr, linestyle='-')\n",
        "plt.xlabel('FPR')\n",
        "plt.ylabel('TPR')\n",
        "plt.savefig('LR.jpg')"
      ],
      "metadata": {
        "id": "5Z-WbSmLW6Ng",
        "colab": {
          "base_uri": "https://localhost:8080/",
          "height": 449
        },
        "outputId": "33ea4d23-3e51-40b4-8558-493665471f5a"
      },
      "execution_count": 39,
      "outputs": [
        {
          "output_type": "display_data",
          "data": {
            "text/plain": [
              "<Figure size 640x480 with 1 Axes>"
            ],
            "image/png": "[encoded data removed]"
          },
          "metadata": {}
        }
      ]
    },
    {
      "cell_type": "code",
      "source": [
        "auc_lr = auc(fpr_lr, tpr_lr)\n",
        "auc_lr"
      ],
      "metadata": {
        "id": "uien-A-_W6Qy",
        "colab": {
          "base_uri": "https://localhost:8080/"
        },
        "outputId": "4a15de14-e8cd-4110-ae20-8289cb8bfae6"
      },
      "execution_count": 40,
      "outputs": [
        {
          "output_type": "execute_result",
          "data": {
            "text/plain": [
              "0.5049778761061947"
            ]
          },
          "metadata": {},
          "execution_count": 40
        }
      ]
    },
    {
      "cell_type": "code",
      "source": [
        "svc.fit(X,Y)"
      ],
      "metadata": {
        "id": "OGrIjs1kXFse",
        "colab": {
          "base_uri": "https://localhost:8080/",
          "height": 74
        },
        "outputId": "d1d00ff3-d2d5-4ba0-94ad-ddd00a76ec35"
      },
      "execution_count": 41,
      "outputs": [
        {
          "output_type": "execute_result",
          "data": {
            "text/plain": [
              "SVC(C=1, gamma=0.001)"
            ],
            "text/html": [
              "<style>#sk-container-id-3 {color: black;background-color: white;}#sk-container-id-3 pre{padding: 0;}#sk-container-id-3 div.sk-toggleable {background-color: white;}#sk-container-id-3 label.sk-toggleable__label {cursor: pointer;display: block;width: 100%;margin-bottom: 0;padding: 0.3em;box-sizing: border-box;text-align: center;}#sk-container-id-3 label.sk-toggleable__label-arrow:before {content: \"▸\";float: left;margin-right: 0.25em;color: #696969;}#sk-container-id-3 label.sk-toggleable__label-arrow:hover:before {color: black;}#sk-container-id-3 div.sk-estimator:hover label.sk-toggleable__label-arrow:before {color: black;}#sk-container-id-3 div.sk-toggleable__content {max-height: 0;max-width: 0;overflow: hidden;text-align: left;background-color: #f0f8ff;}#sk-container-id-3 div.sk-toggleable__content pre {margin: 0.2em;color: black;border-radius: 0.25em;background-color: #f0f8ff;}#sk-container-id-3 input.sk-toggleable__control:checked~div.sk-toggleable__content {max-height: 200px;max-width: 100%;overflow: auto;}#sk-container-id-3 input.sk-toggleable__control:checked~label.sk-toggleable__label-arrow:before {content: \"▾\";}#sk-container-id-3 div.sk-estimator input.sk-toggleable__control:checked~label.sk-toggleable__label {background-color: #d4ebff;}#sk-container-id-3 div.sk-label input.sk-toggleable__control:checked~label.sk-toggleable__label {background-color: #d4ebff;}#sk-container-id-3 input.sk-hidden--visually {border: 0;clip: rect(1px 1px 1px 1px);clip: rect(1px, 1px, 1px, 1px);height: 1px;margin: -1px;overflow: hidden;padding: 0;position: absolute;width: 1px;}#sk-container-id-3 div.sk-estimator {font-family: monospace;background-color: #f0f8ff;border: 1px dotted black;border-radius: 0.25em;box-sizing: border-box;margin-bottom: 0.5em;}#sk-container-id-3 div.sk-estimator:hover {background-color: #d4ebff;}#sk-container-id-3 div.sk-parallel-item::after {content: \"\";width: 100%;border-bottom: 1px solid gray;flex-grow: 1;}#sk-container-id-3 div.sk-label:hover label.sk-toggleable__label {background-color: #d4ebff;}#sk-container-id-3 div.sk-serial::before {content: \"\";position: absolute;border-left: 1px solid gray;box-sizing: border-box;top: 0;bottom: 0;left: 50%;z-index: 0;}#sk-container-id-3 div.sk-serial {display: flex;flex-direction: column;align-items: center;background-color: white;padding-right: 0.2em;padding-left: 0.2em;position: relative;}#sk-container-id-3 div.sk-item {position: relative;z-index: 1;}#sk-container-id-3 div.sk-parallel {display: flex;align-items: stretch;justify-content: center;background-color: white;position: relative;}#sk-container-id-3 div.sk-item::before, #sk-container-id-3 div.sk-parallel-item::before {content: \"\";position: absolute;border-left: 1px solid gray;box-sizing: border-box;top: 0;bottom: 0;left: 50%;z-index: -1;}#sk-container-id-3 div.sk-parallel-item {display: flex;flex-direction: column;z-index: 1;position: relative;background-color: white;}#sk-container-id-3 div.sk-parallel-item:first-child::after {align-self: flex-end;width: 50%;}#sk-container-id-3 div.sk-parallel-item:last-child::after {align-self: flex-start;width: 50%;}#sk-container-id-3 div.sk-parallel-item:only-child::after {width: 0;}#sk-container-id-3 div.sk-dashed-wrapped {border: 1px dashed gray;margin: 0 0.4em 0.5em 0.4em;box-sizing: border-box;padding-bottom: 0.4em;background-color: white;}#sk-container-id-3 div.sk-label label {font-family: monospace;font-weight: bold;display: inline-block;line-height: 1.2em;}#sk-container-id-3 div.sk-label-container {text-align: center;}#sk-container-id-3 div.sk-container {/* jupyter's `normalize.less` sets `[hidden] { display: none; }` but bootstrap.min.css set `[hidden] { display: none !important; }` so we also need the `!important` here to be able to override the default hidden behavior on the sphinx rendered scikit-learn.org. See: https://github.com/scikit-learn/scikit-learn/issues/21755 */display: inline-block !important;position: relative;}#sk-container-id-3 div.sk-text-repr-fallback {display: none;}</style><div id=\"sk-container-id-3\" class=\"sk-top-container\"><div class=\"sk-text-repr-fallback\"><pre>SVC(C=1, gamma=0.001)</pre><b>In a Jupyter environment, please rerun this cell to show the HTML representation or trust the notebook. <br />On GitHub, the HTML representation is unable to render, please try loading this page with nbviewer.org.</b></div><div class=\"sk-container\" hidden><div class=\"sk-item\"><div class=\"sk-estimator sk-toggleable\"><input class=\"sk-toggleable__control sk-hidden--visually\" id=\"sk-estimator-id-3\" type=\"checkbox\" checked><label for=\"sk-estimator-id-3\" class=\"sk-toggleable__label sk-toggleable__label-arrow\">SVC</label><div class=\"sk-toggleable__content\"><pre>SVC(C=1, gamma=0.001)</pre></div></div></div></div></div>"
            ]
          },
          "metadata": {},
          "execution_count": 41
        }
      ]
    },
    {
      "cell_type": "code",
      "source": [
        "y_svc=svc.predict(x)"
      ],
      "metadata": {
        "id": "EEwBlVunXFwa"
      },
      "execution_count": 42,
      "outputs": []
    },
    {
      "cell_type": "code",
      "source": [
        "print(classification_report(y, y_svc))"
      ],
      "metadata": {
        "id": "3XXqe99cXF5w",
        "colab": {
          "base_uri": "https://localhost:8080/"
        },
        "outputId": "1c757bdf-b7d0-4ac7-e5dc-15ff72e37f97"
      },
      "execution_count": 132,
      "outputs": [
        {
          "output_type": "stream",
          "name": "stdout",
          "text": [
            "              precision    recall  f1-score   support\n",
            "\n",
            "           0       0.75      0.98      0.85       113\n",
            "           1       0.60      0.07      0.13        40\n",
            "\n",
            "    accuracy                           0.75       153\n",
            "   macro avg       0.68      0.53      0.49       153\n",
            "weighted avg       0.71      0.75      0.66       153\n",
            "\n"
          ]
        }
      ]
    },
    {
      "cell_type": "code",
      "source": [
        "matrix = ConfusionMatrixDisplay.from_predictions(y, svc.predict(x))\n",
        "plt.show()"
      ],
      "metadata": {
        "colab": {
          "base_uri": "https://localhost:8080/",
          "height": 449
        },
        "id": "eiUmh0J55hN0",
        "outputId": "8955199f-0cbe-4138-fb64-34566b8880f6"
      },
      "execution_count": 172,
      "outputs": [
        {
          "output_type": "display_data",
          "data": {
            "text/plain": [
              "<Figure size 640x480 with 2 Axes>"
            ],
            "image/png": "[encoded data removed]"
          },
          "metadata": {}
        }
      ]
    },
    {
      "cell_type": "code",
      "source": [
        "fpr_svc, tpr_svc, thr_svc = roc_curve(y, y_svc)"
      ],
      "metadata": {
        "id": "Pm3ukA4EXGAP"
      },
      "execution_count": 43,
      "outputs": []
    },
    {
      "cell_type": "code",
      "source": [
        "plt.plot(fpr_svc, tpr_svc, linestyle='-')\n",
        "plt.xlabel('FPR')\n",
        "plt.ylabel('TPR')\n",
        "plt.savefig('SVC.jpg')"
      ],
      "metadata": {
        "id": "kDWeUakqXGDJ",
        "colab": {
          "base_uri": "https://localhost:8080/",
          "height": 449
        },
        "outputId": "c6c545ad-3671-4d6f-abe7-3729178b685b"
      },
      "execution_count": 44,
      "outputs": [
        {
          "output_type": "display_data",
          "data": {
            "text/plain": [
              "<Figure size 640x480 with 1 Axes>"
            ],
            "image/png": "[encoded data removed]"
          },
          "metadata": {}
        }
      ]
    },
    {
      "cell_type": "code",
      "source": [
        "auc_svc = auc(fpr_svc, tpr_svc)\n",
        "auc_svc"
      ],
      "metadata": {
        "id": "s_Vl_zP_XPiR",
        "colab": {
          "base_uri": "https://localhost:8080/"
        },
        "outputId": "54b0bb30-babe-4b33-e419-61a2ac0496d3"
      },
      "execution_count": 45,
      "outputs": [
        {
          "output_type": "execute_result",
          "data": {
            "text/plain": [
              "0.5286504424778761"
            ]
          },
          "metadata": {},
          "execution_count": 45
        }
      ]
    },
    {
      "cell_type": "code",
      "source": [
        "ann.fit(X,Y)"
      ],
      "metadata": {
        "id": "YrhKr567XPl0",
        "colab": {
          "base_uri": "https://localhost:8080/",
          "height": 92
        },
        "outputId": "f4749df0-24fc-4261-d644-f3e6c4793953"
      },
      "execution_count": 46,
      "outputs": [
        {
          "output_type": "execute_result",
          "data": {
            "text/plain": [
              "MLPClassifier(hidden_layer_sizes=(10, 10, 10), learning_rate='adaptive',\n",
              "              random_state=0, solver='sgd')"
            ],
            "text/html": [
              "<style>#sk-container-id-4 {color: black;background-color: white;}#sk-container-id-4 pre{padding: 0;}#sk-container-id-4 div.sk-toggleable {background-color: white;}#sk-container-id-4 label.sk-toggleable__label {cursor: pointer;display: block;width: 100%;margin-bottom: 0;padding: 0.3em;box-sizing: border-box;text-align: center;}#sk-container-id-4 label.sk-toggleable__label-arrow:before {content: \"▸\";float: left;margin-right: 0.25em;color: #696969;}#sk-container-id-4 label.sk-toggleable__label-arrow:hover:before {color: black;}#sk-container-id-4 div.sk-estimator:hover label.sk-toggleable__label-arrow:before {color: black;}#sk-container-id-4 div.sk-toggleable__content {max-height: 0;max-width: 0;overflow: hidden;text-align: left;background-color: #f0f8ff;}#sk-container-id-4 div.sk-toggleable__content pre {margin: 0.2em;color: black;border-radius: 0.25em;background-color: #f0f8ff;}#sk-container-id-4 input.sk-toggleable__control:checked~div.sk-toggleable__content {max-height: 200px;max-width: 100%;overflow: auto;}#sk-container-id-4 input.sk-toggleable__control:checked~label.sk-toggleable__label-arrow:before {content: \"▾\";}#sk-container-id-4 div.sk-estimator input.sk-toggleable__control:checked~label.sk-toggleable__label {background-color: #d4ebff;}#sk-container-id-4 div.sk-label input.sk-toggleable__control:checked~label.sk-toggleable__label {background-color: #d4ebff;}#sk-container-id-4 input.sk-hidden--visually {border: 0;clip: rect(1px 1px 1px 1px);clip: rect(1px, 1px, 1px, 1px);height: 1px;margin: -1px;overflow: hidden;padding: 0;position: absolute;width: 1px;}#sk-container-id-4 div.sk-estimator {font-family: monospace;background-color: #f0f8ff;border: 1px dotted black;border-radius: 0.25em;box-sizing: border-box;margin-bottom: 0.5em;}#sk-container-id-4 div.sk-estimator:hover {background-color: #d4ebff;}#sk-container-id-4 div.sk-parallel-item::after {content: \"\";width: 100%;border-bottom: 1px solid gray;flex-grow: 1;}#sk-container-id-4 div.sk-label:hover label.sk-toggleable__label {background-color: #d4ebff;}#sk-container-id-4 div.sk-serial::before {content: \"\";position: absolute;border-left: 1px solid gray;box-sizing: border-box;top: 0;bottom: 0;left: 50%;z-index: 0;}#sk-container-id-4 div.sk-serial {display: flex;flex-direction: column;align-items: center;background-color: white;padding-right: 0.2em;padding-left: 0.2em;position: relative;}#sk-container-id-4 div.sk-item {position: relative;z-index: 1;}#sk-container-id-4 div.sk-parallel {display: flex;align-items: stretch;justify-content: center;background-color: white;position: relative;}#sk-container-id-4 div.sk-item::before, #sk-container-id-4 div.sk-parallel-item::before {content: \"\";position: absolute;border-left: 1px solid gray;box-sizing: border-box;top: 0;bottom: 0;left: 50%;z-index: -1;}#sk-container-id-4 div.sk-parallel-item {display: flex;flex-direction: column;z-index: 1;position: relative;background-color: white;}#sk-container-id-4 div.sk-parallel-item:first-child::after {align-self: flex-end;width: 50%;}#sk-container-id-4 div.sk-parallel-item:last-child::after {align-self: flex-start;width: 50%;}#sk-container-id-4 div.sk-parallel-item:only-child::after {width: 0;}#sk-container-id-4 div.sk-dashed-wrapped {border: 1px dashed gray;margin: 0 0.4em 0.5em 0.4em;box-sizing: border-box;padding-bottom: 0.4em;background-color: white;}#sk-container-id-4 div.sk-label label {font-family: monospace;font-weight: bold;display: inline-block;line-height: 1.2em;}#sk-container-id-4 div.sk-label-container {text-align: center;}#sk-container-id-4 div.sk-container {/* jupyter's `normalize.less` sets `[hidden] { display: none; }` but bootstrap.min.css set `[hidden] { display: none !important; }` so we also need the `!important` here to be able to override the default hidden behavior on the sphinx rendered scikit-learn.org. See: https://github.com/scikit-learn/scikit-learn/issues/21755 */display: inline-block !important;position: relative;}#sk-container-id-4 div.sk-text-repr-fallback {display: none;}</style><div id=\"sk-container-id-4\" class=\"sk-top-container\"><div class=\"sk-text-repr-fallback\"><pre>MLPClassifier(hidden_layer_sizes=(10, 10, 10), learning_rate=&#x27;adaptive&#x27;,\n",
              "              random_state=0, solver=&#x27;sgd&#x27;)</pre><b>In a Jupyter environment, please rerun this cell to show the HTML representation or trust the notebook. <br />On GitHub, the HTML representation is unable to render, please try loading this page with nbviewer.org.</b></div><div class=\"sk-container\" hidden><div class=\"sk-item\"><div class=\"sk-estimator sk-toggleable\"><input class=\"sk-toggleable__control sk-hidden--visually\" id=\"sk-estimator-id-4\" type=\"checkbox\" checked><label for=\"sk-estimator-id-4\" class=\"sk-toggleable__label sk-toggleable__label-arrow\">MLPClassifier</label><div class=\"sk-toggleable__content\"><pre>MLPClassifier(hidden_layer_sizes=(10, 10, 10), learning_rate=&#x27;adaptive&#x27;,\n",
              "              random_state=0, solver=&#x27;sgd&#x27;)</pre></div></div></div></div></div>"
            ]
          },
          "metadata": {},
          "execution_count": 46
        }
      ]
    },
    {
      "cell_type": "code",
      "source": [
        "y_ann = ann.predict(x)"
      ],
      "metadata": {
        "id": "_HYuh0HoXPpI"
      },
      "execution_count": 47,
      "outputs": []
    },
    {
      "cell_type": "code",
      "source": [
        "print(classification_report(y, y_ann))"
      ],
      "metadata": {
        "id": "Y-j78ONSXPw0",
        "colab": {
          "base_uri": "https://localhost:8080/"
        },
        "outputId": "c2a02a43-b519-4cae-b952-8557a5325697"
      },
      "execution_count": 139,
      "outputs": [
        {
          "output_type": "stream",
          "name": "stdout",
          "text": [
            "              precision    recall  f1-score   support\n",
            "\n",
            "           0       0.74      1.00      0.85       113\n",
            "           1       0.00      0.00      0.00        40\n",
            "\n",
            "    accuracy                           0.74       153\n",
            "   macro avg       0.37      0.50      0.42       153\n",
            "weighted avg       0.55      0.74      0.63       153\n",
            "\n"
          ]
        },
        {
          "output_type": "stream",
          "name": "stderr",
          "text": [
            "/usr/local/lib/python3.10/dist-packages/sklearn/metrics/_classification.py:1344: UndefinedMetricWarning: Precision and F-score are ill-defined and being set to 0.0 in labels with no predicted samples. Use `zero_division` parameter to control this behavior.\n",
            "  _warn_prf(average, modifier, msg_start, len(result))\n",
            "/usr/local/lib/python3.10/dist-packages/sklearn/metrics/_classification.py:1344: UndefinedMetricWarning: Precision and F-score are ill-defined and being set to 0.0 in labels with no predicted samples. Use `zero_division` parameter to control this behavior.\n",
            "  _warn_prf(average, modifier, msg_start, len(result))\n",
            "/usr/local/lib/python3.10/dist-packages/sklearn/metrics/_classification.py:1344: UndefinedMetricWarning: Precision and F-score are ill-defined and being set to 0.0 in labels with no predicted samples. Use `zero_division` parameter to control this behavior.\n",
            "  _warn_prf(average, modifier, msg_start, len(result))\n"
          ]
        }
      ]
    },
    {
      "cell_type": "code",
      "source": [
        "matrix = ConfusionMatrixDisplay.from_predictions(y, ann.predict(x))\n",
        "plt.show()"
      ],
      "metadata": {
        "colab": {
          "base_uri": "https://localhost:8080/",
          "height": 449
        },
        "id": "24ETmwal5cIo",
        "outputId": "8c72212e-abbf-46ce-f01b-7a76f121636e"
      },
      "execution_count": 171,
      "outputs": [
        {
          "output_type": "display_data",
          "data": {
            "text/plain": [
              "<Figure size 640x480 with 2 Axes>"
            ],
            "image/png": "[encoded data removed]"
          },
          "metadata": {}
        }
      ]
    },
    {
      "cell_type": "code",
      "source": [
        "fpr_ann, tpr_ann, thr_ann = roc_curve(y, y_ann)"
      ],
      "metadata": {
        "id": "x9H0LBmXXP6a"
      },
      "execution_count": 48,
      "outputs": []
    },
    {
      "cell_type": "code",
      "source": [
        "plt.plot(fpr_ann, tpr_ann, linestyle='-')\n",
        "plt.xlabel('FPR')\n",
        "plt.ylabel('TPR')\n",
        "plt.savefig('ANN.jpg')"
      ],
      "metadata": {
        "id": "k7RYBw9IXP9U",
        "colab": {
          "base_uri": "https://localhost:8080/",
          "height": 449
        },
        "outputId": "d3f30b59-1702-4a89-adba-2bcf0e361916"
      },
      "execution_count": 49,
      "outputs": [
        {
          "output_type": "display_data",
          "data": {
            "text/plain": [
              "<Figure size 640x480 with 1 Axes>"
            ],
            "image/png": "[encoded data removed]"
          },
          "metadata": {}
        }
      ]
    },
    {
      "cell_type": "code",
      "source": [
        "auc_ann = auc(fpr_ann, tpr_ann)\n",
        "auc_ann"
      ],
      "metadata": {
        "id": "diClQ4UHXcMY",
        "colab": {
          "base_uri": "https://localhost:8080/"
        },
        "outputId": "6e87857f-a90a-4f37-d3c0-80a043660ca2"
      },
      "execution_count": 50,
      "outputs": [
        {
          "output_type": "execute_result",
          "data": {
            "text/plain": [
              "0.5"
            ]
          },
          "metadata": {},
          "execution_count": 50
        }
      ]
    },
    {
      "cell_type": "code",
      "source": [
        "dtc.fit(X,Y)"
      ],
      "metadata": {
        "id": "qNFpTEQyXcQw",
        "colab": {
          "base_uri": "https://localhost:8080/",
          "height": 74
        },
        "outputId": "1eb3387f-7352-4056-9401-890a55f3b347"
      },
      "execution_count": 51,
      "outputs": [
        {
          "output_type": "execute_result",
          "data": {
            "text/plain": [
              "DecisionTreeClassifier(max_depth=2, min_samples_leaf=20, random_state=0)"
            ],
            "text/html": [
              "<style>#sk-container-id-5 {color: black;background-color: white;}#sk-container-id-5 pre{padding: 0;}#sk-container-id-5 div.sk-toggleable {background-color: white;}#sk-container-id-5 label.sk-toggleable__label {cursor: pointer;display: block;width: 100%;margin-bottom: 0;padding: 0.3em;box-sizing: border-box;text-align: center;}#sk-container-id-5 label.sk-toggleable__label-arrow:before {content: \"▸\";float: left;margin-right: 0.25em;color: #696969;}#sk-container-id-5 label.sk-toggleable__label-arrow:hover:before {color: black;}#sk-container-id-5 div.sk-estimator:hover label.sk-toggleable__label-arrow:before {color: black;}#sk-container-id-5 div.sk-toggleable__content {max-height: 0;max-width: 0;overflow: hidden;text-align: left;background-color: #f0f8ff;}#sk-container-id-5 div.sk-toggleable__content pre {margin: 0.2em;color: black;border-radius: 0.25em;background-color: #f0f8ff;}#sk-container-id-5 input.sk-toggleable__control:checked~div.sk-toggleable__content {max-height: 200px;max-width: 100%;overflow: auto;}#sk-container-id-5 input.sk-toggleable__control:checked~label.sk-toggleable__label-arrow:before {content: \"▾\";}#sk-container-id-5 div.sk-estimator input.sk-toggleable__control:checked~label.sk-toggleable__label {background-color: #d4ebff;}#sk-container-id-5 div.sk-label input.sk-toggleable__control:checked~label.sk-toggleable__label {background-color: #d4ebff;}#sk-container-id-5 input.sk-hidden--visually {border: 0;clip: rect(1px 1px 1px 1px);clip: rect(1px, 1px, 1px, 1px);height: 1px;margin: -1px;overflow: hidden;padding: 0;position: absolute;width: 1px;}#sk-container-id-5 div.sk-estimator {font-family: monospace;background-color: #f0f8ff;border: 1px dotted black;border-radius: 0.25em;box-sizing: border-box;margin-bottom: 0.5em;}#sk-container-id-5 div.sk-estimator:hover {background-color: #d4ebff;}#sk-container-id-5 div.sk-parallel-item::after {content: \"\";width: 100%;border-bottom: 1px solid gray;flex-grow: 1;}#sk-container-id-5 div.sk-label:hover label.sk-toggleable__label {background-color: #d4ebff;}#sk-container-id-5 div.sk-serial::before {content: \"\";position: absolute;border-left: 1px solid gray;box-sizing: border-box;top: 0;bottom: 0;left: 50%;z-index: 0;}#sk-container-id-5 div.sk-serial {display: flex;flex-direction: column;align-items: center;background-color: white;padding-right: 0.2em;padding-left: 0.2em;position: relative;}#sk-container-id-5 div.sk-item {position: relative;z-index: 1;}#sk-container-id-5 div.sk-parallel {display: flex;align-items: stretch;justify-content: center;background-color: white;position: relative;}#sk-container-id-5 div.sk-item::before, #sk-container-id-5 div.sk-parallel-item::before {content: \"\";position: absolute;border-left: 1px solid gray;box-sizing: border-box;top: 0;bottom: 0;left: 50%;z-index: -1;}#sk-container-id-5 div.sk-parallel-item {display: flex;flex-direction: column;z-index: 1;position: relative;background-color: white;}#sk-container-id-5 div.sk-parallel-item:first-child::after {align-self: flex-end;width: 50%;}#sk-container-id-5 div.sk-parallel-item:last-child::after {align-self: flex-start;width: 50%;}#sk-container-id-5 div.sk-parallel-item:only-child::after {width: 0;}#sk-container-id-5 div.sk-dashed-wrapped {border: 1px dashed gray;margin: 0 0.4em 0.5em 0.4em;box-sizing: border-box;padding-bottom: 0.4em;background-color: white;}#sk-container-id-5 div.sk-label label {font-family: monospace;font-weight: bold;display: inline-block;line-height: 1.2em;}#sk-container-id-5 div.sk-label-container {text-align: center;}#sk-container-id-5 div.sk-container {/* jupyter's `normalize.less` sets `[hidden] { display: none; }` but bootstrap.min.css set `[hidden] { display: none !important; }` so we also need the `!important` here to be able to override the default hidden behavior on the sphinx rendered scikit-learn.org. See: https://github.com/scikit-learn/scikit-learn/issues/21755 */display: inline-block !important;position: relative;}#sk-container-id-5 div.sk-text-repr-fallback {display: none;}</style><div id=\"sk-container-id-5\" class=\"sk-top-container\"><div class=\"sk-text-repr-fallback\"><pre>DecisionTreeClassifier(max_depth=2, min_samples_leaf=20, random_state=0)</pre><b>In a Jupyter environment, please rerun this cell to show the HTML representation or trust the notebook. <br />On GitHub, the HTML representation is unable to render, please try loading this page with nbviewer.org.</b></div><div class=\"sk-container\" hidden><div class=\"sk-item\"><div class=\"sk-estimator sk-toggleable\"><input class=\"sk-toggleable__control sk-hidden--visually\" id=\"sk-estimator-id-5\" type=\"checkbox\" checked><label for=\"sk-estimator-id-5\" class=\"sk-toggleable__label sk-toggleable__label-arrow\">DecisionTreeClassifier</label><div class=\"sk-toggleable__content\"><pre>DecisionTreeClassifier(max_depth=2, min_samples_leaf=20, random_state=0)</pre></div></div></div></div></div>"
            ]
          },
          "metadata": {},
          "execution_count": 51
        }
      ]
    },
    {
      "cell_type": "code",
      "source": [
        "y_dtc = dtc.predict(x)"
      ],
      "metadata": {
        "id": "RU8tNJ9WXcT0"
      },
      "execution_count": 52,
      "outputs": []
    },
    {
      "cell_type": "code",
      "source": [
        "print(classification_report(y, y_dtc))"
      ],
      "metadata": {
        "id": "VT8Cmv-kXcjk",
        "colab": {
          "base_uri": "https://localhost:8080/"
        },
        "outputId": "abc58a63-585d-4cc9-9232-a63e9ac26bdf"
      },
      "execution_count": 146,
      "outputs": [
        {
          "output_type": "stream",
          "name": "stdout",
          "text": [
            "              precision    recall  f1-score   support\n",
            "\n",
            "           0       0.77      0.96      0.85       113\n",
            "           1       0.58      0.17      0.27        40\n",
            "\n",
            "    accuracy                           0.75       153\n",
            "   macro avg       0.67      0.57      0.56       153\n",
            "weighted avg       0.72      0.75      0.70       153\n",
            "\n"
          ]
        }
      ]
    },
    {
      "cell_type": "code",
      "source": [
        "matrix = ConfusionMatrixDisplay.from_predictions(y, dtc.predict(x))\n",
        "plt.show()"
      ],
      "metadata": {
        "colab": {
          "base_uri": "https://localhost:8080/",
          "height": 449
        },
        "id": "duf24GWS5X4u",
        "outputId": "008325c5-2d75-4f58-ff15-a635b9d9088d"
      },
      "execution_count": 170,
      "outputs": [
        {
          "output_type": "display_data",
          "data": {
            "text/plain": [
              "<Figure size 640x480 with 2 Axes>"
            ],
            "image/png": "[encoded data removed]"
          },
          "metadata": {}
        }
      ]
    },
    {
      "cell_type": "code",
      "source": [
        "fpr_dtc, tpr_dtc, thr_dtc = roc_curve(y, y_dtc)"
      ],
      "metadata": {
        "id": "_N8UX5bRXcul"
      },
      "execution_count": 53,
      "outputs": []
    },
    {
      "cell_type": "code",
      "source": [
        "plt.plot(fpr_dtc, tpr_dtc, linestyle='-')\n",
        "plt.xlabel('FPR')\n",
        "plt.ylabel('TPR')\n",
        "plt.savefig('DTC.jpg')"
      ],
      "metadata": {
        "id": "XEAGszQWXcz6",
        "colab": {
          "base_uri": "https://localhost:8080/",
          "height": 449
        },
        "outputId": "bd2eef86-c3f8-4c10-a774-d0f8e61f3922"
      },
      "execution_count": 54,
      "outputs": [
        {
          "output_type": "display_data",
          "data": {
            "text/plain": [
              "<Figure size 640x480 with 1 Axes>"
            ],
            "image/png": "[encoded data removed]"
          },
          "metadata": {}
        }
      ]
    },
    {
      "cell_type": "code",
      "source": [
        "auc_dtc = auc(fpr_dtc, tpr_dtc)\n",
        "auc_dtc"
      ],
      "metadata": {
        "id": "gcogYJM1XnsA",
        "colab": {
          "base_uri": "https://localhost:8080/"
        },
        "outputId": "cb86e0cd-fc01-4f17-b980-38270d3bf390"
      },
      "execution_count": 55,
      "outputs": [
        {
          "output_type": "execute_result",
          "data": {
            "text/plain": [
              "0.5653761061946903"
            ]
          },
          "metadata": {},
          "execution_count": 55
        }
      ]
    },
    {
      "cell_type": "code",
      "source": [
        "gbc.fit(X,Y)"
      ],
      "metadata": {
        "id": "hFwmBh98XnwG",
        "colab": {
          "base_uri": "https://localhost:8080/",
          "height": 92
        },
        "outputId": "460d93d0-1fb9-4201-b122-80345cee3685"
      },
      "execution_count": 56,
      "outputs": [
        {
          "output_type": "execute_result",
          "data": {
            "text/plain": [
              "GradientBoostingClassifier(learning_rate=0.01, max_depth=1, n_estimators=500,\n",
              "                           random_state=0)"
            ],
            "text/html": [
              "<style>#sk-container-id-6 {color: black;background-color: white;}#sk-container-id-6 pre{padding: 0;}#sk-container-id-6 div.sk-toggleable {background-color: white;}#sk-container-id-6 label.sk-toggleable__label {cursor: pointer;display: block;width: 100%;margin-bottom: 0;padding: 0.3em;box-sizing: border-box;text-align: center;}#sk-container-id-6 label.sk-toggleable__label-arrow:before {content: \"▸\";float: left;margin-right: 0.25em;color: #696969;}#sk-container-id-6 label.sk-toggleable__label-arrow:hover:before {color: black;}#sk-container-id-6 div.sk-estimator:hover label.sk-toggleable__label-arrow:before {color: black;}#sk-container-id-6 div.sk-toggleable__content {max-height: 0;max-width: 0;overflow: hidden;text-align: left;background-color: #f0f8ff;}#sk-container-id-6 div.sk-toggleable__content pre {margin: 0.2em;color: black;border-radius: 0.25em;background-color: #f0f8ff;}#sk-container-id-6 input.sk-toggleable__control:checked~div.sk-toggleable__content {max-height: 200px;max-width: 100%;overflow: auto;}#sk-container-id-6 input.sk-toggleable__control:checked~label.sk-toggleable__label-arrow:before {content: \"▾\";}#sk-container-id-6 div.sk-estimator input.sk-toggleable__control:checked~label.sk-toggleable__label {background-color: #d4ebff;}#sk-container-id-6 div.sk-label input.sk-toggleable__control:checked~label.sk-toggleable__label {background-color: #d4ebff;}#sk-container-id-6 input.sk-hidden--visually {border: 0;clip: rect(1px 1px 1px 1px);clip: rect(1px, 1px, 1px, 1px);height: 1px;margin: -1px;overflow: hidden;padding: 0;position: absolute;width: 1px;}#sk-container-id-6 div.sk-estimator {font-family: monospace;background-color: #f0f8ff;border: 1px dotted black;border-radius: 0.25em;box-sizing: border-box;margin-bottom: 0.5em;}#sk-container-id-6 div.sk-estimator:hover {background-color: #d4ebff;}#sk-container-id-6 div.sk-parallel-item::after {content: \"\";width: 100%;border-bottom: 1px solid gray;flex-grow: 1;}#sk-container-id-6 div.sk-label:hover label.sk-toggleable__label {background-color: #d4ebff;}#sk-container-id-6 div.sk-serial::before {content: \"\";position: absolute;border-left: 1px solid gray;box-sizing: border-box;top: 0;bottom: 0;left: 50%;z-index: 0;}#sk-container-id-6 div.sk-serial {display: flex;flex-direction: column;align-items: center;background-color: white;padding-right: 0.2em;padding-left: 0.2em;position: relative;}#sk-container-id-6 div.sk-item {position: relative;z-index: 1;}#sk-container-id-6 div.sk-parallel {display: flex;align-items: stretch;justify-content: center;background-color: white;position: relative;}#sk-container-id-6 div.sk-item::before, #sk-container-id-6 div.sk-parallel-item::before {content: \"\";position: absolute;border-left: 1px solid gray;box-sizing: border-box;top: 0;bottom: 0;left: 50%;z-index: -1;}#sk-container-id-6 div.sk-parallel-item {display: flex;flex-direction: column;z-index: 1;position: relative;background-color: white;}#sk-container-id-6 div.sk-parallel-item:first-child::after {align-self: flex-end;width: 50%;}#sk-container-id-6 div.sk-parallel-item:last-child::after {align-self: flex-start;width: 50%;}#sk-container-id-6 div.sk-parallel-item:only-child::after {width: 0;}#sk-container-id-6 div.sk-dashed-wrapped {border: 1px dashed gray;margin: 0 0.4em 0.5em 0.4em;box-sizing: border-box;padding-bottom: 0.4em;background-color: white;}#sk-container-id-6 div.sk-label label {font-family: monospace;font-weight: bold;display: inline-block;line-height: 1.2em;}#sk-container-id-6 div.sk-label-container {text-align: center;}#sk-container-id-6 div.sk-container {/* jupyter's `normalize.less` sets `[hidden] { display: none; }` but bootstrap.min.css set `[hidden] { display: none !important; }` so we also need the `!important` here to be able to override the default hidden behavior on the sphinx rendered scikit-learn.org. See: https://github.com/scikit-learn/scikit-learn/issues/21755 */display: inline-block !important;position: relative;}#sk-container-id-6 div.sk-text-repr-fallback {display: none;}</style><div id=\"sk-container-id-6\" class=\"sk-top-container\"><div class=\"sk-text-repr-fallback\"><pre>GradientBoostingClassifier(learning_rate=0.01, max_depth=1, n_estimators=500,\n",
              "                           random_state=0)</pre><b>In a Jupyter environment, please rerun this cell to show the HTML representation or trust the notebook. <br />On GitHub, the HTML representation is unable to render, please try loading this page with nbviewer.org.</b></div><div class=\"sk-container\" hidden><div class=\"sk-item\"><div class=\"sk-estimator sk-toggleable\"><input class=\"sk-toggleable__control sk-hidden--visually\" id=\"sk-estimator-id-6\" type=\"checkbox\" checked><label for=\"sk-estimator-id-6\" class=\"sk-toggleable__label sk-toggleable__label-arrow\">GradientBoostingClassifier</label><div class=\"sk-toggleable__content\"><pre>GradientBoostingClassifier(learning_rate=0.01, max_depth=1, n_estimators=500,\n",
              "                           random_state=0)</pre></div></div></div></div></div>"
            ]
          },
          "metadata": {},
          "execution_count": 56
        }
      ]
    },
    {
      "cell_type": "code",
      "source": [
        "y_gbc = gbc.predict(x)"
      ],
      "metadata": {
        "id": "uNxwwXqEXn0v"
      },
      "execution_count": 57,
      "outputs": []
    },
    {
      "cell_type": "code",
      "source": [
        "print(classification_report(y, y_gbc))"
      ],
      "metadata": {
        "id": "-L2XNOzqXuQm",
        "colab": {
          "base_uri": "https://localhost:8080/"
        },
        "outputId": "90d556e1-7c56-4b26-e06c-2a687da5a157"
      },
      "execution_count": 153,
      "outputs": [
        {
          "output_type": "stream",
          "name": "stdout",
          "text": [
            "              precision    recall  f1-score   support\n",
            "\n",
            "           0       0.76      0.97      0.85       113\n",
            "           1       0.62      0.12      0.21        40\n",
            "\n",
            "    accuracy                           0.75       153\n",
            "   macro avg       0.69      0.55      0.53       153\n",
            "weighted avg       0.72      0.75      0.68       153\n",
            "\n"
          ]
        }
      ]
    },
    {
      "cell_type": "code",
      "source": [
        "matrix = ConfusionMatrixDisplay.from_predictions(y, gbc.predict(x))\n",
        "plt.show()"
      ],
      "metadata": {
        "colab": {
          "base_uri": "https://localhost:8080/",
          "height": 449
        },
        "id": "ou_l49IZ5Ljh",
        "outputId": "9d1cd5f9-d52a-4d3b-a221-0fad7a1b6fb8"
      },
      "execution_count": 169,
      "outputs": [
        {
          "output_type": "display_data",
          "data": {
            "text/plain": [
              "<Figure size 640x480 with 2 Axes>"
            ],
            "image/png": "[encoded data removed]"
          },
          "metadata": {}
        }
      ]
    },
    {
      "cell_type": "code",
      "source": [
        "fpr_gbc, tpr_gbc, thr_gbc = roc_curve(y, y_gbc)"
      ],
      "metadata": {
        "id": "HO0cLeOJXuW6"
      },
      "execution_count": 58,
      "outputs": []
    },
    {
      "cell_type": "code",
      "source": [
        "plt.plot(fpr_gbc, tpr_gbc, linestyle='-')\n",
        "plt.xlabel('FPR')\n",
        "plt.ylabel('TPR')\n",
        "plt.savefig('GBC.jpg')"
      ],
      "metadata": {
        "id": "84CZ0jzwXuZ0",
        "colab": {
          "base_uri": "https://localhost:8080/",
          "height": 449
        },
        "outputId": "7a43d8b7-1191-4b65-9753-9545826db159"
      },
      "execution_count": 59,
      "outputs": [
        {
          "output_type": "display_data",
          "data": {
            "text/plain": [
              "<Figure size 640x480 with 1 Axes>"
            ],
            "image/png": "[encoded data removed]"
          },
          "metadata": {}
        }
      ]
    },
    {
      "cell_type": "code",
      "source": [
        "auc_gbc = auc(fpr_gbc, tpr_gbc)\n",
        "auc_gbc"
      ],
      "metadata": {
        "id": "OSptGIjlXudR",
        "colab": {
          "base_uri": "https://localhost:8080/"
        },
        "outputId": "bfd382e9-02da-486d-e252-781a1ac500a0"
      },
      "execution_count": 60,
      "outputs": [
        {
          "output_type": "execute_result",
          "data": {
            "text/plain": [
              "0.5492256637168141"
            ]
          },
          "metadata": {},
          "execution_count": 60
        }
      ]
    },
    {
      "cell_type": "code",
      "source": [
        "!pip install shap"
      ],
      "metadata": {
        "colab": {
          "base_uri": "https://localhost:8080/"
        },
        "id": "pEBr0Oyx1-uG",
        "outputId": "50b70ea2-c602-4e62-b87c-bf22b411ec9f"
      },
      "execution_count": 160,
      "outputs": [
        {
          "output_type": "stream",
          "name": "stdout",
          "text": [
            "Looking in indexes: https://pypi.org/simple, https://us-python.pkg.dev/colab-wheels/public/simple/\n",
            "Collecting shap\n",
            "  Downloading shap-0.41.0-cp310-cp310-manylinux_2_12_x86_64.manylinux2010_x86_64.whl (572 kB)\n",
            "\u001b[2K     \u001b[90m━━━━━━━━━━━━━━━━━━━━━━━━━━━━━━━━━━━━━━━\u001b[0m \u001b[32m572.6/572.6 kB\u001b[0m \u001b[31m9.6 MB/s\u001b[0m eta \u001b[36m0:00:00\u001b[0m\n",
            "\u001b[?25hRequirement already satisfied: scikit-learn in /usr/local/lib/python3.10/dist-packages (from shap) (1.2.2)\n",
            "Requirement already satisfied: packaging>20.9 in /usr/local/lib/python3.10/dist-packages (from shap) (23.1)\n",
            "Requirement already satisfied: numba in /usr/local/lib/python3.10/dist-packages (from shap) (0.56.4)\n",
            "Requirement already satisfied: cloudpickle in /usr/local/lib/python3.10/dist-packages (from shap) (2.2.1)\n",
            "Requirement already satisfied: pandas in /usr/local/lib/python3.10/dist-packages (from shap) (1.5.3)\n",
            "Requirement already satisfied: tqdm>4.25.0 in /usr/local/lib/python3.10/dist-packages (from shap) (4.65.0)\n",
            "Requirement already satisfied: scipy in /usr/local/lib/python3.10/dist-packages (from shap) (1.10.1)\n",
            "Requirement already satisfied: numpy in /usr/local/lib/python3.10/dist-packages (from shap) (1.22.4)\n",
            "Collecting slicer==0.0.7\n",
            "  Downloading slicer-0.0.7-py3-none-any.whl (14 kB)\n",
            "Requirement already satisfied: setuptools in /usr/local/lib/python3.10/dist-packages (from numba->shap) (67.7.2)\n",
            "Requirement already satisfied: llvmlite<0.40,>=0.39.0dev0 in /usr/local/lib/python3.10/dist-packages (from numba->shap) (0.39.1)\n",
            "Requirement already satisfied: python-dateutil>=2.8.1 in /usr/local/lib/python3.10/dist-packages (from pandas->shap) (2.8.2)\n",
            "Requirement already satisfied: pytz>=2020.1 in /usr/local/lib/python3.10/dist-packages (from pandas->shap) (2022.7.1)\n",
            "Requirement already satisfied: threadpoolctl>=2.0.0 in /usr/local/lib/python3.10/dist-packages (from scikit-learn->shap) (3.1.0)\n",
            "Requirement already satisfied: joblib>=1.1.1 in /usr/local/lib/python3.10/dist-packages (from scikit-learn->shap) (1.2.0)\n",
            "Requirement already satisfied: six>=1.5 in /usr/local/lib/python3.10/dist-packages (from python-dateutil>=2.8.1->pandas->shap) (1.16.0)\n",
            "Installing collected packages: slicer, shap\n",
            "Successfully installed shap-0.41.0 slicer-0.0.7\n"
          ]
        }
      ]
    },
    {
      "cell_type": "code",
      "source": [
        "import shap"
      ],
      "metadata": {
        "id": "r0nsfPlmXuh7"
      },
      "execution_count": 161,
      "outputs": []
    },
    {
      "cell_type": "code",
      "source": [
        "shap_values = shap.TreeExplainer(rf).shap_values(x)"
      ],
      "metadata": {
        "id": "o60kPVbaXukv"
      },
      "execution_count": 162,
      "outputs": []
    },
    {
      "cell_type": "code",
      "source": [
        "shap.summary_plot(shap_values, x, plot_type='bar')"
      ],
      "metadata": {
        "id": "zB4qqMitXn7v",
        "colab": {
          "base_uri": "https://localhost:8080/",
          "height": 957
        },
        "outputId": "64e2b68b-e8ab-4725-caeb-597e25951fea"
      },
      "execution_count": 164,
      "outputs": [
        {
          "output_type": "display_data",
          "data": {
            "text/plain": [
              "<Figure size 800x950 with 1 Axes>"
            ],
            "image/png": "[encoded data removed]"
          },
          "metadata": {}
        }
      ]
    },
    {
      "cell_type": "code",
      "source": [
        "pv = pd.DataFrame(y_rf, columns=['predicted value'])"
      ],
      "metadata": {
        "id": "IVwTrwREX8Cx"
      },
      "execution_count": 165,
      "outputs": []
    },
    {
      "cell_type": "code",
      "source": [
        "pv"
      ],
      "metadata": {
        "id": "GoivRX_UX8Gw",
        "colab": {
          "base_uri": "https://localhost:8080/",
          "height": 423
        },
        "outputId": "c1151ddc-251f-45bc-9810-e0e2f47a81ff"
      },
      "execution_count": 166,
      "outputs": [
        {
          "output_type": "execute_result",
          "data": {
            "text/plain": [
              "     predicted value\n",
              "0                  0\n",
              "1                  0\n",
              "2                  0\n",
              "3                  1\n",
              "4                  0\n",
              "..               ...\n",
              "148                0\n",
              "149                0\n",
              "150                0\n",
              "151                1\n",
              "152                0\n",
              "\n",
              "[153 rows x 1 columns]"
            ],
            "text/html": [
              "\n",
              "  <div id=\"df-678fdac9-d49e-4338-96f5-c0edf2d27cae\">\n",
              "    <div class=\"colab-df-container\">\n",
              "      <div>\n",
              "<style scoped>\n",
              "    .dataframe tbody tr th:only-of-type {\n",
              "        vertical-align: middle;\n",
              "    }\n",
              "\n",
              "    .dataframe tbody tr th {\n",
              "        vertical-align: top;\n",
              "    }\n",
              "\n",
              "    .dataframe thead th {\n",
              "        text-align: right;\n",
              "    }\n",
              "</style>\n",
              "<table border=\"1\" class=\"dataframe\">\n",
              "  <thead>\n",
              "    <tr style=\"text-align: right;\">\n",
              "      <th></th>\n",
              "      <th>predicted value</th>\n",
              "    </tr>\n",
              "  </thead>\n",
              "  <tbody>\n",
              "    <tr>\n",
              "      <th>0</th>\n",
              "      <td>0</td>\n",
              "    </tr>\n",
              "    <tr>\n",
              "      <th>1</th>\n",
              "      <td>0</td>\n",
              "    </tr>\n",
              "    <tr>\n",
              "      <th>2</th>\n",
              "      <td>0</td>\n",
              "    </tr>\n",
              "    <tr>\n",
              "      <th>3</th>\n",
              "      <td>1</td>\n",
              "    </tr>\n",
              "    <tr>\n",
              "      <th>4</th>\n",
              "      <td>0</td>\n",
              "    </tr>\n",
              "    <tr>\n",
              "      <th>...</th>\n",
              "      <td>...</td>\n",
              "    </tr>\n",
              "    <tr>\n",
              "      <th>148</th>\n",
              "      <td>0</td>\n",
              "    </tr>\n",
              "    <tr>\n",
              "      <th>149</th>\n",
              "      <td>0</td>\n",
              "    </tr>\n",
              "    <tr>\n",
              "      <th>150</th>\n",
              "      <td>0</td>\n",
              "    </tr>\n",
              "    <tr>\n",
              "      <th>151</th>\n",
              "      <td>1</td>\n",
              "    </tr>\n",
              "    <tr>\n",
              "      <th>152</th>\n",
              "      <td>0</td>\n",
              "    </tr>\n",
              "  </tbody>\n",
              "</table>\n",
              "<p>153 rows × 1 columns</p>\n",
              "</div>\n",
              "      <button class=\"colab-df-convert\" onclick=\"convertToInteractive('df-678fdac9-d49e-4338-96f5-c0edf2d27cae')\"\n",
              "              title=\"Convert this dataframe to an interactive table.\"\n",
              "              style=\"display:none;\">\n",
              "        \n",
              "  <svg xmlns=\"http://www.w3.org/2000/svg\" height=\"24px\"viewBox=\"0 0 24 24\"\n",
              "       width=\"24px\">\n",
              "    <path d=\"M0 0h24v24H0V0z\" fill=\"none\"/>\n",
              "    <path d=\"M18.56 5.44l.94 2.06.94-2.06 2.06-.94-2.06-.94-.94-2.06-.94 2.06-2.06.94zm-11 1L8.5 8.5l.94-2.06 2.06-.94-2.06-.94L8.5 2.5l-.94 2.06-2.06.94zm10 10l.94 2.06.94-2.06 2.06-.94-2.06-.94-.94-2.06-.94 2.06-2.06.94z\"/><path d=\"M17.41 7.96l-1.37-1.37c-.4-.4-.92-.59-1.43-.59-.52 0-1.04.2-1.43.59L10.3 9.45l-7.72 7.72c-.78.78-.78 2.05 0 2.83L4 21.41c.39.39.9.59 1.41.59.51 0 1.02-.2 1.41-.59l7.78-7.78 2.81-2.81c.8-.78.8-2.07 0-2.86zM5.41 20L4 18.59l7.72-7.72 1.47 1.35L5.41 20z\"/>\n",
              "  </svg>\n",
              "      </button>\n",
              "      \n",
              "  <style>\n",
              "    .colab-df-container {\n",
              "      display:flex;\n",
              "      flex-wrap:wrap;\n",
              "      gap: 12px;\n",
              "    }\n",
              "\n",
              "    .colab-df-convert {\n",
              "      background-color: #E8F0FE;\n",
              "      border: none;\n",
              "      border-radius: 50%;\n",
              "      cursor: pointer;\n",
              "      display: none;\n",
              "      fill: #1967D2;\n",
              "      height: 32px;\n",
              "      padding: 0 0 0 0;\n",
              "      width: 32px;\n",
              "    }\n",
              "\n",
              "    .colab-df-convert:hover {\n",
              "      background-color: #E2EBFA;\n",
              "      box-shadow: 0px 1px 2px rgba(60, 64, 67, 0.3), 0px 1px 3px 1px rgba(60, 64, 67, 0.15);\n",
              "      fill: #174EA6;\n",
              "    }\n",
              "\n",
              "    [theme=dark] .colab-df-convert {\n",
              "      background-color: #3B4455;\n",
              "      fill: #D2E3FC;\n",
              "    }\n",
              "\n",
              "    [theme=dark] .colab-df-convert:hover {\n",
              "      background-color: #434B5C;\n",
              "      box-shadow: 0px 1px 3px 1px rgba(0, 0, 0, 0.15);\n",
              "      filter: drop-shadow(0px 1px 2px rgba(0, 0, 0, 0.3));\n",
              "      fill: #FFFFFF;\n",
              "    }\n",
              "  </style>\n",
              "\n",
              "      <script>\n",
              "        const buttonEl =\n",
              "          document.querySelector('#df-678fdac9-d49e-4338-96f5-c0edf2d27cae button.colab-df-convert');\n",
              "        buttonEl.style.display =\n",
              "          google.colab.kernel.accessAllowed ? 'block' : 'none';\n",
              "\n",
              "        async function convertToInteractive(key) {\n",
              "          const element = document.querySelector('#df-678fdac9-d49e-4338-96f5-c0edf2d27cae');\n",
              "          const dataTable =\n",
              "            await google.colab.kernel.invokeFunction('convertToInteractive',\n",
              "                                                     [key], {});\n",
              "          if (!dataTable) return;\n",
              "\n",
              "          const docLinkHtml = 'Like what you see? Visit the ' +\n",
              "            '<a target=\"_blank\" href=https://colab.research.google.com/notebooks/data_table.ipynb>data table notebook</a>'\n",
              "            + ' to learn more about interactive tables.';\n",
              "          element.innerHTML = '';\n",
              "          dataTable['output_type'] = 'display_data';\n",
              "          await google.colab.output.renderOutput(dataTable, element);\n",
              "          const docLink = document.createElement('div');\n",
              "          docLink.innerHTML = docLinkHtml;\n",
              "          element.appendChild(docLink);\n",
              "        }\n",
              "      </script>\n",
              "    </div>\n",
              "  </div>\n",
              "  "
            ]
          },
          "metadata": {},
          "execution_count": 166
        }
      ]
    },
    {
      "cell_type": "code",
      "source": [
        "data = {'Algorithm': ['Random Forest', 'Logistic Regression', 'Support Vector Classification', 'Artificial Neural Network (ANN)', 'Decision Tree','Gradient Boosting Classification'] ,\n",
        "    'Avarge accuracy':[auc_rf, auc_lr, auc_svc, auc_ann,auc_dtc,auc_gbc]}\n",
        "d = pd.DataFrame(data)\n",
        "# display the results in a table\n",
        "display(d)"
      ],
      "metadata": {
        "id": "lnKSHdnHX8PI",
        "colab": {
          "base_uri": "https://localhost:8080/",
          "height": 237
        },
        "outputId": "96f4b03c-4233-47b9-ff03-802a5e9ecf45"
      },
      "execution_count": 61,
      "outputs": [
        {
          "output_type": "display_data",
          "data": {
            "text/plain": [
              "                          Algorithm  Avarge accuracy\n",
              "0                     Random Forest         0.602876\n",
              "1               Logistic Regression         0.504978\n",
              "2     Support Vector Classification         0.528650\n",
              "3   Artificial Neural Network (ANN)         0.500000\n",
              "4                     Decision Tree         0.565376\n",
              "5  Gradient Boosting Classification         0.549226"
            ],
            "text/html": [
              "\n",
              "  <div id=\"df-97250f58-9b8a-4fd1-9ac5-3510cae87b18\">\n",
              "    <div class=\"colab-df-container\">\n",
              "      <div>\n",
              "<style scoped>\n",
              "    .dataframe tbody tr th:only-of-type {\n",
              "        vertical-align: middle;\n",
              "    }\n",
              "\n",
              "    .dataframe tbody tr th {\n",
              "        vertical-align: top;\n",
              "    }\n",
              "\n",
              "    .dataframe thead th {\n",
              "        text-align: right;\n",
              "    }\n",
              "</style>\n",
              "<table border=\"1\" class=\"dataframe\">\n",
              "  <thead>\n",
              "    <tr style=\"text-align: right;\">\n",
              "      <th></th>\n",
              "      <th>Algorithm</th>\n",
              "      <th>Avarge accuracy</th>\n",
              "    </tr>\n",
              "  </thead>\n",
              "  <tbody>\n",
              "    <tr>\n",
              "      <th>0</th>\n",
              "      <td>Random Forest</td>\n",
              "      <td>0.602876</td>\n",
              "    </tr>\n",
              "    <tr>\n",
              "      <th>1</th>\n",
              "      <td>Logistic Regression</td>\n",
              "      <td>0.504978</td>\n",
              "    </tr>\n",
              "    <tr>\n",
              "      <th>2</th>\n",
              "      <td>Support Vector Classification</td>\n",
              "      <td>0.528650</td>\n",
              "    </tr>\n",
              "    <tr>\n",
              "      <th>3</th>\n",
              "      <td>Artificial Neural Network (ANN)</td>\n",
              "      <td>0.500000</td>\n",
              "    </tr>\n",
              "    <tr>\n",
              "      <th>4</th>\n",
              "      <td>Decision Tree</td>\n",
              "      <td>0.565376</td>\n",
              "    </tr>\n",
              "    <tr>\n",
              "      <th>5</th>\n",
              "      <td>Gradient Boosting Classification</td>\n",
              "      <td>0.549226</td>\n",
              "    </tr>\n",
              "  </tbody>\n",
              "</table>\n",
              "</div>\n",
              "      <button class=\"colab-df-convert\" onclick=\"convertToInteractive('df-97250f58-9b8a-4fd1-9ac5-3510cae87b18')\"\n",
              "              title=\"Convert this dataframe to an interactive table.\"\n",
              "              style=\"display:none;\">\n",
              "        \n",
              "  <svg xmlns=\"http://www.w3.org/2000/svg\" height=\"24px\"viewBox=\"0 0 24 24\"\n",
              "       width=\"24px\">\n",
              "    <path d=\"M0 0h24v24H0V0z\" fill=\"none\"/>\n",
              "    <path d=\"M18.56 5.44l.94 2.06.94-2.06 2.06-.94-2.06-.94-.94-2.06-.94 2.06-2.06.94zm-11 1L8.5 8.5l.94-2.06 2.06-.94-2.06-.94L8.5 2.5l-.94 2.06-2.06.94zm10 10l.94 2.06.94-2.06 2.06-.94-2.06-.94-.94-2.06-.94 2.06-2.06.94z\"/><path d=\"M17.41 7.96l-1.37-1.37c-.4-.4-.92-.59-1.43-.59-.52 0-1.04.2-1.43.59L10.3 9.45l-7.72 7.72c-.78.78-.78 2.05 0 2.83L4 21.41c.39.39.9.59 1.41.59.51 0 1.02-.2 1.41-.59l7.78-7.78 2.81-2.81c.8-.78.8-2.07 0-2.86zM5.41 20L4 18.59l7.72-7.72 1.47 1.35L5.41 20z\"/>\n",
              "  </svg>\n",
              "      </button>\n",
              "      \n",
              "  <style>\n",
              "    .colab-df-container {\n",
              "      display:flex;\n",
              "      flex-wrap:wrap;\n",
              "      gap: 12px;\n",
              "    }\n",
              "\n",
              "    .colab-df-convert {\n",
              "      background-color: #E8F0FE;\n",
              "      border: none;\n",
              "      border-radius: 50%;\n",
              "      cursor: pointer;\n",
              "      display: none;\n",
              "      fill: #1967D2;\n",
              "      height: 32px;\n",
              "      padding: 0 0 0 0;\n",
              "      width: 32px;\n",
              "    }\n",
              "\n",
              "    .colab-df-convert:hover {\n",
              "      background-color: #E2EBFA;\n",
              "      box-shadow: 0px 1px 2px rgba(60, 64, 67, 0.3), 0px 1px 3px 1px rgba(60, 64, 67, 0.15);\n",
              "      fill: #174EA6;\n",
              "    }\n",
              "\n",
              "    [theme=dark] .colab-df-convert {\n",
              "      background-color: #3B4455;\n",
              "      fill: #D2E3FC;\n",
              "    }\n",
              "\n",
              "    [theme=dark] .colab-df-convert:hover {\n",
              "      background-color: #434B5C;\n",
              "      box-shadow: 0px 1px 3px 1px rgba(0, 0, 0, 0.15);\n",
              "      filter: drop-shadow(0px 1px 2px rgba(0, 0, 0, 0.3));\n",
              "      fill: #FFFFFF;\n",
              "    }\n",
              "  </style>\n",
              "\n",
              "      <script>\n",
              "        const buttonEl =\n",
              "          document.querySelector('#df-97250f58-9b8a-4fd1-9ac5-3510cae87b18 button.colab-df-convert');\n",
              "        buttonEl.style.display =\n",
              "          google.colab.kernel.accessAllowed ? 'block' : 'none';\n",
              "\n",
              "        async function convertToInteractive(key) {\n",
              "          const element = document.querySelector('#df-97250f58-9b8a-4fd1-9ac5-3510cae87b18');\n",
              "          const dataTable =\n",
              "            await google.colab.kernel.invokeFunction('convertToInteractive',\n",
              "                                                     [key], {});\n",
              "          if (!dataTable) return;\n",
              "\n",
              "          const docLinkHtml = 'Like what you see? Visit the ' +\n",
              "            '<a target=\"_blank\" href=https://colab.research.google.com/notebooks/data_table.ipynb>data table notebook</a>'\n",
              "            + ' to learn more about interactive tables.';\n",
              "          element.innerHTML = '';\n",
              "          dataTable['output_type'] = 'display_data';\n",
              "          await google.colab.output.renderOutput(dataTable, element);\n",
              "          const docLink = document.createElement('div');\n",
              "          docLink.innerHTML = docLinkHtml;\n",
              "          element.appendChild(docLink);\n",
              "        }\n",
              "      </script>\n",
              "    </div>\n",
              "  </div>\n",
              "  "
            ]
          },
          "metadata": {}
        }
      ]
    }
  ]
}